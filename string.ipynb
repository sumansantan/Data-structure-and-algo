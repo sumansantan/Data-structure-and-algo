{
 "cells": [
  {
   "cell_type": "code",
   "execution_count": 10,
   "id": "5e615462",
   "metadata": {},
   "outputs": [],
   "source": [
    "a = \"santan suman\""
   ]
  },
  {
   "cell_type": "code",
   "execution_count": 15,
   "id": "0cac80a4",
   "metadata": {},
   "outputs": [
    {
     "name": "stdout",
     "output_type": "stream",
     "text": [
      "my name is: santan suman\n",
      "my name is : santan suman\n",
      "My first name is: SANTAN\n",
      "Santan suman\n"
     ]
    }
   ],
   "source": [
    "print(f\"my name is: {a}\")\n",
    "print(\"my name is : {}\".format(a))\n",
    "print(\"My first name is: {}\".format(a.split(\" \")[0].upper()))\n",
    "print(a.capitalize())"
   ]
  },
  {
   "cell_type": "code",
   "execution_count": 16,
   "id": "711b25ab",
   "metadata": {},
   "outputs": [
    {
     "name": "stdout",
     "output_type": "stream",
     "text": [
      "1\n"
     ]
    }
   ],
   "source": [
    "print(a.count(\"santan\"))"
   ]
  },
  {
   "cell_type": "code",
   "execution_count": null,
   "id": "4951775b",
   "metadata": {},
   "outputs": [
    {
     "name": "stdout",
     "output_type": "stream",
     "text": [
      "0\n"
     ]
    }
   ],
   "source": [
    "# index of that word\n",
    "print(a.find(\"santan\"))"
   ]
  },
  {
   "cell_type": "code",
   "execution_count": null,
   "id": "7d7687a6",
   "metadata": {},
   "outputs": [
    {
     "name": "stdout",
     "output_type": "stream",
     "text": [
      "False\n"
     ]
    }
   ],
   "source": [
    "# return true for alpha numeric\n",
    "print(a.isalnum())"
   ]
  },
  {
   "cell_type": "code",
   "execution_count": 21,
   "id": "29e230c1",
   "metadata": {},
   "outputs": [
    {
     "name": "stdout",
     "output_type": "stream",
     "text": [
      "n\n"
     ]
    }
   ],
   "source": [
    "print(a[-1:])"
   ]
  },
  {
   "cell_type": "code",
   "execution_count": 22,
   "id": "4a775f19",
   "metadata": {},
   "outputs": [
    {
     "name": "stdout",
     "output_type": "stream",
     "text": [
      "ar\n"
     ]
    }
   ],
   "source": [
    "nm = \"Harry\"\n",
    "print(nm[-4:-2])"
   ]
  },
  {
   "cell_type": "code",
   "execution_count": 25,
   "id": "03d8cfc5",
   "metadata": {},
   "outputs": [
    {
     "name": "stdout",
     "output_type": "stream",
     "text": [
      "Hr\n"
     ]
    }
   ],
   "source": [
    "print(nm[0:4:2])"
   ]
  },
  {
   "cell_type": "code",
   "execution_count": 28,
   "id": "e31af427",
   "metadata": {},
   "outputs": [
    {
     "name": "stdout",
     "output_type": "stream",
     "text": [
      "natna\n",
      "natnas\n"
     ]
    }
   ],
   "source": [
    "# add 1 to \"-1\" and skip that value as the value become 0 in this case so we will start at 5 and stop at 0\n",
    "sa = \"santan\"\n",
    "print(sa[6:0:-1])\n",
    "\n",
    "# reverse entire string\n",
    "print(sa[::-1])"
   ]
  },
  {
   "cell_type": "markdown",
   "id": "4f3fe51b",
   "metadata": {},
   "source": [
    "# f-string operations\n"
   ]
  },
  {
   "cell_type": "code",
   "execution_count": 31,
   "id": "a4ecf87e",
   "metadata": {},
   "outputs": [
    {
     "name": "stdout",
     "output_type": "stream",
     "text": [
      "decimals: 1234.57\n",
      "percentage: 123456.77%\n",
      "percentage: 123456.8%\n"
     ]
    }
   ],
   "source": [
    "decimal = 1234.5677\n",
    "print(f\"decimals: {decimal:.2f}\")\n",
    "print(f\"percentage: {decimal:.2%}\")\n",
    "print(f\"percentage: {decimal:.1%}\")"
   ]
  },
  {
   "cell_type": "code",
   "execution_count": 35,
   "id": "6d267911",
   "metadata": {},
   "outputs": [
    {
     "name": "stdout",
     "output_type": "stream",
     "text": [
      "1000000000\n",
      "1,000,000,000\n"
     ]
    }
   ],
   "source": [
    "num = 10_00_0000_00\n",
    "print(num)\n",
    "print(f\"{num:,}\")"
   ]
  },
  {
   "cell_type": "code",
   "execution_count": 43,
   "id": "8d1c4468",
   "metadata": {},
   "outputs": [
    {
     "name": "stdout",
     "output_type": "stream",
     "text": [
      "2025-05-04 01:08:14.936929\n",
      "05/04/25\n",
      "Days -> Sun May  4 01:08:14 2025\n",
      "Time 01:08:14\n"
     ]
    }
   ],
   "source": [
    "from datetime import datetime\n",
    "\n",
    "now = datetime.now()\n",
    "print(now)\n",
    "print(f\"{now:%x}\")\n",
    "print(f\"Days -> {now:%c}\")\n",
    "print(f\"Time {now:%H:%M:%S}\")"
   ]
  },
  {
   "cell_type": "code",
   "execution_count": 45,
   "id": "9859a3b4",
   "metadata": {},
   "outputs": [
    {
     "name": "stdout",
     "output_type": "stream",
     "text": [
      "_________hello world\n"
     ]
    }
   ],
   "source": [
    "text = \"hello world\"\n",
    "print(f\"{text:_>20}\")"
   ]
  },
  {
   "cell_type": "markdown",
   "id": "737d374b",
   "metadata": {},
   "source": [
    "#### Magic function \"__\" and dunder"
   ]
  },
  {
   "cell_type": "code",
   "execution_count": 46,
   "id": "f65a01b3",
   "metadata": {},
   "outputs": [],
   "source": [
    "# custom f string\n",
    "\n",
    "class Text:\n",
    "    def __init__(self, text: str) -> None:\n",
    "        self.text = text\n",
    "    def __format__(self, format_spec: str) -> str:\n",
    "        match format_spec:\n",
    "            case \"upper\":\n",
    "                return self.text.upper()\n",
    "            case _:\n",
    "                raise ValueError(f'format specifier \"{format_spec}\" not supported')\n",
    "    "
   ]
  },
  {
   "cell_type": "code",
   "execution_count": 47,
   "id": "bd0ea489",
   "metadata": {},
   "outputs": [
    {
     "name": "stdout",
     "output_type": "stream",
     "text": [
      "HELLO WORLD\n"
     ]
    }
   ],
   "source": [
    "my_text = Text(\"hello world\")\n",
    "print(f\"{my_text:upper}\")"
   ]
  },
  {
   "cell_type": "code",
   "execution_count": null,
   "id": "476b4c14",
   "metadata": {},
   "outputs": [],
   "source": []
  }
 ],
 "metadata": {
  "kernelspec": {
   "display_name": "Python 3",
   "language": "python",
   "name": "python3"
  },
  "language_info": {
   "codemirror_mode": {
    "name": "ipython",
    "version": 3
   },
   "file_extension": ".py",
   "mimetype": "text/x-python",
   "name": "python",
   "nbconvert_exporter": "python",
   "pygments_lexer": "ipython3",
   "version": "3.13.0"
  }
 },
 "nbformat": 4,
 "nbformat_minor": 5
}
