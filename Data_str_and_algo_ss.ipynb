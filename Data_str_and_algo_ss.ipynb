{
  "nbformat": 4,
  "nbformat_minor": 0,
  "metadata": {
    "colab": {
      "name": "Data str and algo ss",
      "provenance": [],
      "collapsed_sections": []
    },
    "kernelspec": {
      "name": "python3",
      "display_name": "Python 3"
    },
    "language_info": {
      "name": "python"
    }
  },
  "cells": [
    {
      "cell_type": "markdown",
      "metadata": {
        "id": "bQ0apkIRh2WX"
      },
      "source": [
        "# Sequence: string,list,Tuple"
      ]
    },
    {
      "cell_type": "markdown",
      "metadata": {
        "id": "tKCEyciMgNEI"
      },
      "source": [
        "Builtin Data structure"
      ]
    },
    {
      "cell_type": "code",
      "metadata": {
        "colab": {
          "base_uri": "https://localhost:8080/"
        },
        "id": "jzhl80YehD7E",
        "outputId": "823091b7-f2af-4cf9-ee01-e55481489d0f"
      },
      "source": [
        "# string\n",
        "x= 'frog'\n",
        "print(x[3])\n",
        "\n",
        "#list\n",
        "x= ['pig', 'cow', 'horse']\n",
        "print(x[2])\n",
        "\n",
        "# Tuple\n",
        "x= ('kevin', 'niklas', 'jenny','craig')\n",
        "print(x[2])"
      ],
      "execution_count": null,
      "outputs": [
        {
          "output_type": "stream",
          "text": [
            "g\n",
            "horse\n",
            "jenny\n"
          ],
          "name": "stdout"
        }
      ]
    },
    {
      "cell_type": "markdown",
      "metadata": {
        "id": "v00UKuiFibUE"
      },
      "source": [
        "slicing"
      ]
    },
    {
      "cell_type": "code",
      "metadata": {
        "colab": {
          "base_uri": "https://localhost:8080/"
        },
        "id": "Sb227wLuhSHt",
        "outputId": "1277aca2-4c9b-4256-848a-86c00516bec6"
      },
      "source": [
        "x = 'computer'   #counting start from zero\n",
        "print(x[1:4])\n",
        "print(x[1:8:3])\n",
        "print(x[3:])\n",
        "print(x[:3])    #print upto index 2\n",
        "print(x[-1])\n",
        "print(x[-3:])  #last three\n",
        "print(x[:-3])    # every thing except last three"
      ],
      "execution_count": null,
      "outputs": [
        {
          "output_type": "stream",
          "text": [
            "omp\n",
            "our\n",
            "puter\n",
            "com\n",
            "r\n",
            "ter\n",
            "compu\n"
          ],
          "name": "stdout"
        }
      ]
    },
    {
      "cell_type": "markdown",
      "metadata": {
        "id": "xlEgF7y0kJGN"
      },
      "source": [
        "Adding and concatening"
      ]
    },
    {
      "cell_type": "code",
      "metadata": {
        "colab": {
          "base_uri": "https://localhost:8080/"
        },
        "id": "fOVKtJjEikoS",
        "outputId": "c71bc7d9-02c3-4b6f-8b31-fdc6870e4313"
      },
      "source": [
        "# string\n",
        "x = 'horse' + 'shoe'\n",
        "print(x)\n",
        "\n",
        "# list \n",
        "y= ['pig' ,'cow'] + ['horse']\n",
        "print(y)\n",
        "\n",
        "# tuple\n",
        "z =('kelvin' ,'Nilkas','zenny') + ('craig',)    #a comma is included\n",
        "print(z)"
      ],
      "execution_count": null,
      "outputs": [
        {
          "output_type": "stream",
          "text": [
            "horseshoe\n",
            "['pig', 'cow', 'horse']\n",
            "('kelvin', 'Nilkas', 'zenny', 'craig')\n"
          ],
          "name": "stdout"
        }
      ]
    },
    {
      "cell_type": "markdown",
      "metadata": {
        "id": "3TCsi9IIlLOD"
      },
      "source": [
        "Multiplying"
      ]
    },
    {
      "cell_type": "code",
      "metadata": {
        "colab": {
          "base_uri": "https://localhost:8080/"
        },
        "id": "zoLvqoEckXnu",
        "outputId": "be51b239-8a7b-4fe3-ff17-3d11c868378d"
      },
      "source": [
        "#string \n",
        "x= 'bug ' * 3\n",
        "print(x)\n",
        "\n",
        "#list\n",
        "y=[8,5] *3\n",
        "print(y)\n",
        "\n",
        "#tuple\n",
        "z=(2,4) *3\n",
        "print(z)"
      ],
      "execution_count": null,
      "outputs": [
        {
          "output_type": "stream",
          "text": [
            "bug bug bug \n",
            "[8, 5, 8, 5, 8, 5]\n",
            "(2, 4, 2, 4, 2, 4)\n"
          ],
          "name": "stdout"
        }
      ]
    },
    {
      "cell_type": "markdown",
      "metadata": {
        "id": "miWgzKKYmL4k"
      },
      "source": [
        "checking membership- test wether an item is or not in a sequence"
      ]
    },
    {
      "cell_type": "code",
      "metadata": {
        "colab": {
          "base_uri": "https://localhost:8080/"
        },
        "id": "6Jkxpc54lyfk",
        "outputId": "f9197c24-9577-4a12-b372-1e0c090581e9"
      },
      "source": [
        "#string\n",
        "x='bug'\n",
        "print('u' in x)\n",
        "\n",
        "#list\n",
        "y = ['pig','cow','horse']\n",
        "print('cow' not in y)\n",
        "\n",
        "#tuple\n",
        "z=('kelvin', 'niklas','jenny','craig')\n",
        "print('jenny' in z)"
      ],
      "execution_count": null,
      "outputs": [
        {
          "output_type": "stream",
          "text": [
            "True\n",
            "False\n",
            "True\n"
          ],
          "name": "stdout"
        }
      ]
    },
    {
      "cell_type": "markdown",
      "metadata": {
        "id": "ojBAG_fjnOIH"
      },
      "source": [
        "iterating- iterating through the items in a sequence"
      ]
    },
    {
      "cell_type": "code",
      "metadata": {
        "colab": {
          "base_uri": "https://localhost:8080/"
        },
        "id": "ZEj-J__HmeVd",
        "outputId": "943460af-8739-4966-c569-9695448286ae"
      },
      "source": [
        "#item\n",
        "x=[7,8,9,10]\n",
        "for item in x:\n",
        "  print(item)\n",
        "\n",
        "\n",
        "#index and item\n",
        "y=[7,8,3]\n",
        "for index,item in enumerate(y):\n",
        "  print(index,item)"
      ],
      "execution_count": null,
      "outputs": [
        {
          "output_type": "stream",
          "text": [
            "7\n",
            "8\n",
            "9\n",
            "10\n",
            "0 7\n",
            "1 8\n",
            "2 3\n"
          ],
          "name": "stdout"
        }
      ]
    },
    {
      "cell_type": "markdown",
      "metadata": {
        "id": "tKxKw8ZDoO3o"
      },
      "source": [
        "number of item"
      ]
    },
    {
      "cell_type": "code",
      "metadata": {
        "colab": {
          "base_uri": "https://localhost:8080/"
        },
        "id": "y0JiCnOmncsV",
        "outputId": "eae18292-1ddc-4b47-bcd9-c788222d1c1e"
      },
      "source": [
        "#string\n",
        "x='bug'\n",
        "print(len (x))\n",
        "\n",
        "#list\n",
        "y = ['pig','cow','horse']\n",
        "print(len (y))\n",
        "\n",
        "#tuple\n",
        "z=('kelvin', 'niklas','jenny','craig')\n",
        "print(len (z))"
      ],
      "execution_count": null,
      "outputs": [
        {
          "output_type": "stream",
          "text": [
            "3\n",
            "3\n",
            "4\n"
          ],
          "name": "stdout"
        }
      ]
    },
    {
      "cell_type": "markdown",
      "metadata": {
        "id": "mk8N28RQotXf"
      },
      "source": [
        "minimum- find the item in a sequence lexicographically (dictionary order)"
      ]
    },
    {
      "cell_type": "code",
      "metadata": {
        "colab": {
          "base_uri": "https://localhost:8080/"
        },
        "id": "EbXmb7Saof_g",
        "outputId": "d7cd62fd-0adb-4115-fbd2-4156ef98359d"
      },
      "source": [
        "#string\n",
        "x='bug'\n",
        "print(min(x))\n",
        "\n",
        "#list\n",
        "y = ['pig','cow','horse']\n",
        "print(min(y))\n",
        "\n",
        "#tuple\n",
        "z=('kelvin', 'niklas','jenny','craig')\n",
        "print(min(z))"
      ],
      "execution_count": null,
      "outputs": [
        {
          "output_type": "stream",
          "text": [
            "b\n",
            "cow\n",
            "craig\n"
          ],
          "name": "stdout"
        }
      ]
    },
    {
      "cell_type": "code",
      "metadata": {
        "colab": {
          "base_uri": "https://localhost:8080/"
        },
        "id": "0Y6zNGSTo0Zj",
        "outputId": "ef1173e4-453f-4624-be30-492243679999"
      },
      "source": [
        "#string\n",
        "x='bug'\n",
        "print(max(x))\n",
        "\n",
        "#list\n",
        "y = ['pig','cow','horse']\n",
        "print(max(y))\n",
        "\n",
        "#tuple\n",
        "z=('kelvin', 'niklas','jenny','craig')\n",
        "print(max(z))"
      ],
      "execution_count": null,
      "outputs": [
        {
          "output_type": "stream",
          "text": [
            "u\n",
            "pig\n",
            "niklas\n"
          ],
          "name": "stdout"
        }
      ]
    },
    {
      "cell_type": "markdown",
      "metadata": {
        "id": "DdcyCkMYph_8"
      },
      "source": [
        "sum"
      ]
    },
    {
      "cell_type": "code",
      "metadata": {
        "colab": {
          "base_uri": "https://localhost:8080/"
        },
        "id": "COSJvqrHpjiJ",
        "outputId": "c3ff70c1-e3c3-46e8-e26e-556cf08accd4"
      },
      "source": [
        "#string -> error\n",
        "#x= [5,7,'bug']\n",
        "#print(sum(x))   #generate error\n",
        "\n",
        "#list\n",
        "y = [2,5,8,12]\n",
        "print(sum(y))\n",
        "print(sum(y[-2:]))\n",
        "\n",
        "#tuple\n",
        "z =(50,4,7,19)\n",
        "print(sum(z))"
      ],
      "execution_count": null,
      "outputs": [
        {
          "output_type": "stream",
          "text": [
            "27\n",
            "20\n",
            "80\n"
          ],
          "name": "stdout"
        }
      ]
    },
    {
      "cell_type": "markdown",
      "metadata": {
        "id": "1lGXtsF-qO6x"
      },
      "source": [
        "**sorting**- return a new list of items in shorted order\n",
        "does not change the original list"
      ]
    },
    {
      "cell_type": "code",
      "metadata": {
        "colab": {
          "base_uri": "https://localhost:8080/"
        },
        "id": "zkPZ7xxBqHTA",
        "outputId": "ee3bd15f-9667-404d-b7ae-c14df1e4cd0d"
      },
      "source": [
        "#string\n",
        "x ='bug'\n",
        "print(sorted(x))\n",
        "\n",
        "#list\n",
        "y=['pig','cow', 'horse']\n",
        "print(sorted(y))\n",
        "\n",
        "#tuple\n",
        "z=('kelvin', 'niklas','jenny','craig')\n",
        "print(sorted(z))"
      ],
      "execution_count": null,
      "outputs": [
        {
          "output_type": "stream",
          "text": [
            "['b', 'g', 'u']\n",
            "['cow', 'horse', 'pig']\n",
            "['craig', 'jenny', 'kelvin', 'niklas']\n"
          ],
          "name": "stdout"
        }
      ]
    },
    {
      "cell_type": "markdown",
      "metadata": {
        "id": "1NJRan5DrJW3"
      },
      "source": [
        "Sorting by second letter- using lambda function"
      ]
    },
    {
      "cell_type": "code",
      "metadata": {
        "colab": {
          "base_uri": "https://localhost:8080/"
        },
        "id": "HPZoIVkVqjP7",
        "outputId": "b452e074-5024-4218-afd9-20e6e0875bca"
      },
      "source": [
        "z=('kelvin', 'niklas','jenny','craig')\n",
        "print(sorted(z, key=lambda k: k[1]))"
      ],
      "execution_count": null,
      "outputs": [
        {
          "output_type": "stream",
          "text": [
            "['kelvin', 'jenny', 'niklas', 'craig']\n"
          ],
          "name": "stdout"
        }
      ]
    },
    {
      "cell_type": "markdown",
      "metadata": {
        "id": "i8As05qGrsn1"
      },
      "source": [
        "Count- return count of an item"
      ]
    },
    {
      "cell_type": "code",
      "metadata": {
        "colab": {
          "base_uri": "https://localhost:8080/"
        },
        "id": "rm5AIposrjZ3",
        "outputId": "544e7897-8d09-4c14-9344-66bff02896cc"
      },
      "source": [
        "#string\n",
        "x ='hippo'\n",
        "print(x.count('p'))\n",
        "\n",
        "#list\n",
        "y=['pig','cow', 'horse']\n",
        "print(y.count('cow'))\n",
        "\n",
        "#tuple\n",
        "z=('kelvin', 'niklas','jenny','craig')\n",
        "print(z.count('kelvin'))\n"
      ],
      "execution_count": null,
      "outputs": [
        {
          "output_type": "stream",
          "text": [
            "2\n",
            "1\n",
            "1\n"
          ],
          "name": "stdout"
        }
      ]
    },
    {
      "cell_type": "markdown",
      "metadata": {
        "id": "0qCQ6IzcsO9_"
      },
      "source": [
        "# index"
      ]
    },
    {
      "cell_type": "code",
      "metadata": {
        "colab": {
          "base_uri": "https://localhost:8080/"
        },
        "id": "F65Obq6HsP5o",
        "outputId": "3e2190cd-a898-4419-8acb-d867aced2728"
      },
      "source": [
        "#string\n",
        "x ='hippo'\n",
        "print(x.index('p'))\n",
        "\n",
        "#list\n",
        "y=['pig','cow', 'horse']\n",
        "print(y.index('cow'))\n",
        "\n",
        "#tuple\n",
        "z=('kelvin', 'niklas','jenny','craig')\n",
        "print(z.index('kelvin'))\n"
      ],
      "execution_count": null,
      "outputs": [
        {
          "output_type": "stream",
          "text": [
            "2\n",
            "1\n",
            "0\n"
          ],
          "name": "stdout"
        }
      ]
    },
    {
      "cell_type": "markdown",
      "metadata": {
        "id": "yKd3YakQspSQ"
      },
      "source": [
        "# unpacking"
      ]
    },
    {
      "cell_type": "code",
      "metadata": {
        "colab": {
          "base_uri": "https://localhost:8080/"
        },
        "id": "FVHbIq29srJM",
        "outputId": "225aae9b-57e7-4cd4-c4ce-0f8e2f2ba485"
      },
      "source": [
        "x =['pig' ,'cow', 'horse']\n",
        "a,b,c =x\n",
        "print(a,b,c)"
      ],
      "execution_count": null,
      "outputs": [
        {
          "output_type": "stream",
          "text": [
            "pig cow horse\n"
          ],
          "name": "stdout"
        }
      ]
    },
    {
      "cell_type": "markdown",
      "metadata": {
        "id": "tpPkKHtkuAuk"
      },
      "source": [
        "# List"
      ]
    },
    {
      "cell_type": "code",
      "metadata": {
        "colab": {
          "base_uri": "https://localhost:8080/"
        },
        "id": "1DBE7ATVs5W4",
        "outputId": "4336be06-0146-4762-b388-efce976e0074"
      },
      "source": [
        "x= list()             #empty list\n",
        "y=['a',25,'dog',8.43]\n",
        "tuple =(10,20)\n",
        "z=list(tuple)\n",
        "\n",
        "#list comprehension\n",
        "a= [m for m in range(8)]\n",
        "print(a)\n",
        "b= [i**2 for i in range(10) if i>4]\n",
        "print(b)"
      ],
      "execution_count": null,
      "outputs": [
        {
          "output_type": "stream",
          "text": [
            "[0, 1, 2, 3, 4, 5, 6, 7]\n",
            "[25, 36, 49, 64, 81]\n"
          ],
          "name": "stdout"
        }
      ]
    },
    {
      "cell_type": "markdown",
      "metadata": {
        "id": "86XK57GRvJNb"
      },
      "source": [
        "delete"
      ]
    },
    {
      "cell_type": "code",
      "metadata": {
        "colab": {
          "base_uri": "https://localhost:8080/"
        },
        "id": "uf46QRPMu7iL",
        "outputId": "854a57e4-fc84-4600-c356-f83d25c27084"
      },
      "source": [
        "x=[5,3,8,6]\n",
        "del(x[1])\n",
        "print(x)\n",
        "\n",
        "del(x)  #list x no longer exist"
      ],
      "execution_count": null,
      "outputs": [
        {
          "output_type": "stream",
          "text": [
            "[5, 8, 6]\n"
          ],
          "name": "stdout"
        }
      ]
    },
    {
      "cell_type": "markdown",
      "metadata": {
        "id": "y__HYByTvj0N"
      },
      "source": [
        "append an item to list"
      ]
    },
    {
      "cell_type": "code",
      "metadata": {
        "colab": {
          "base_uri": "https://localhost:8080/"
        },
        "id": "nwjCFHT5vP5V",
        "outputId": "977af861-3451-4e37-ab14-00049f624d6c"
      },
      "source": [
        "x=[5,3,8,6]\n",
        "x.append(7)\n",
        "print(x)"
      ],
      "execution_count": null,
      "outputs": [
        {
          "output_type": "stream",
          "text": [
            "[5, 3, 8, 6, 7]\n"
          ],
          "name": "stdout"
        }
      ]
    },
    {
      "cell_type": "markdown",
      "metadata": {
        "id": "1x-vsSppvv65"
      },
      "source": [
        "# Extend"
      ]
    },
    {
      "cell_type": "code",
      "metadata": {
        "colab": {
          "base_uri": "https://localhost:8080/"
        },
        "id": "MAx_0E6Gvspk",
        "outputId": "4d11efe8-0738-4dcc-f38a-f9ac5f724593"
      },
      "source": [
        "x=[5,3,8,6]\n",
        "y=[12,13]\n",
        "x.extend(y)\n",
        "print(x)"
      ],
      "execution_count": null,
      "outputs": [
        {
          "output_type": "stream",
          "text": [
            "[5, 3, 8, 6, 12, 13]\n"
          ],
          "name": "stdout"
        }
      ]
    },
    {
      "cell_type": "markdown",
      "metadata": {
        "id": "JxUXt1m4wAVw"
      },
      "source": [
        "insert an item at a given index"
      ]
    },
    {
      "cell_type": "code",
      "metadata": {
        "colab": {
          "base_uri": "https://localhost:8080/"
        },
        "id": "jsFMKckvv5ks",
        "outputId": "350859b3-cfe1-44ba-f704-30d12127b6dc"
      },
      "source": [
        "x=[5,3,8,6]\n",
        "x.insert(1,7)\n",
        "print(x)\n",
        "\n",
        "x.insert(1,['a','m'])\n",
        "print(x)"
      ],
      "execution_count": null,
      "outputs": [
        {
          "output_type": "stream",
          "text": [
            "[5, 7, 3, 8, 6]\n",
            "[5, ['a', 'm'], 7, 3, 8, 6]\n"
          ],
          "name": "stdout"
        }
      ]
    },
    {
      "cell_type": "markdown",
      "metadata": {
        "id": "bBgdAQnywykJ"
      },
      "source": [
        "pop"
      ]
    },
    {
      "cell_type": "code",
      "metadata": {
        "colab": {
          "base_uri": "https://localhost:8080/"
        },
        "id": "mNOcUbK9wPSQ",
        "outputId": "388e366e-ce21-427d-f9c8-3da4835a61ea"
      },
      "source": [
        "x=[5,3,8,6]\n",
        "x.pop()               #pop off the 6\n",
        "print(x)\n",
        "print(x.pop())"
      ],
      "execution_count": null,
      "outputs": [
        {
          "output_type": "stream",
          "text": [
            "[5, 3, 8]\n",
            "8\n"
          ],
          "name": "stdout"
        }
      ]
    },
    {
      "cell_type": "markdown",
      "metadata": {
        "id": "Ej7-VhtKxH1z"
      },
      "source": [
        "remove"
      ]
    },
    {
      "cell_type": "code",
      "metadata": {
        "colab": {
          "base_uri": "https://localhost:8080/"
        },
        "id": "0Rk9xP0Sw4il",
        "outputId": "d5ee37a2-9cc0-4277-ef13-2d56b61eae73"
      },
      "source": [
        "x=[5,3,8,6,3]\n",
        "x.remove(3)\n",
        "print(x)"
      ],
      "execution_count": null,
      "outputs": [
        {
          "output_type": "stream",
          "text": [
            "[5, 8, 6, 3]\n"
          ],
          "name": "stdout"
        }
      ]
    },
    {
      "cell_type": "code",
      "metadata": {
        "colab": {
          "base_uri": "https://localhost:8080/"
        },
        "id": "XWoAsEcSxNkX",
        "outputId": "e5db2f0d-a669-47fe-ae66-73faa81e3fb0"
      },
      "source": [
        "x=[5,3,8,6]\n",
        "x.reverse()\n",
        "print(x)"
      ],
      "execution_count": null,
      "outputs": [
        {
          "output_type": "stream",
          "text": [
            "[6, 8, 3, 5]\n"
          ],
          "name": "stdout"
        }
      ]
    },
    {
      "cell_type": "markdown",
      "metadata": {
        "id": "D46waJoZx7ey"
      },
      "source": [
        "Sort- sort the list in place\n",
        "sorted(x) return a new sorted list without changing the original list x"
      ]
    },
    {
      "cell_type": "code",
      "metadata": {
        "colab": {
          "base_uri": "https://localhost:8080/"
        },
        "id": "qAgz71g_xSsg",
        "outputId": "5463c239-7d3c-4ba9-cfe8-06bd858e1090"
      },
      "source": [
        "x=[5,3,8,6,3]\n",
        "x.sort()\n",
        "print(x)\n"
      ],
      "execution_count": null,
      "outputs": [
        {
          "output_type": "stream",
          "text": [
            "[3, 3, 5, 6, 8]\n"
          ],
          "name": "stdout"
        }
      ]
    },
    {
      "cell_type": "markdown",
      "metadata": {
        "id": "cDVck0PiyflI"
      },
      "source": [
        "reverse sort"
      ]
    },
    {
      "cell_type": "code",
      "metadata": {
        "colab": {
          "base_uri": "https://localhost:8080/"
        },
        "id": "AMZtkbiOyM4n",
        "outputId": "6682a148-f6f5-40e5-8432-a2f04e45a825"
      },
      "source": [
        "x=[5,3,8,6,3]\n",
        "x.sort(reverse= True)\n",
        "print(x)"
      ],
      "execution_count": null,
      "outputs": [
        {
          "output_type": "stream",
          "text": [
            "[8, 6, 5, 3, 3]\n"
          ],
          "name": "stdout"
        }
      ]
    },
    {
      "cell_type": "markdown",
      "metadata": {
        "id": "x46IQ5Poyttv"
      },
      "source": [
        "# Tuples"
      ]
    },
    {
      "cell_type": "code",
      "metadata": {
        "colab": {
          "base_uri": "https://localhost:8080/"
        },
        "id": "gYYGNftkynS5",
        "outputId": "edce37fc-e422-4bc9-dd76-005d1e8c739b"
      },
      "source": [
        "#immutable(can't add/change)\n",
        "#useful for fixed data\n",
        "#faster than list\n",
        "#sequence type\n",
        "\n",
        "x=()\n",
        "x=(1,2,3)\n",
        "x=2,  #the comma tells python it's a tuple\n",
        "print(x,type(x))\n",
        "\n",
        "list1 = [2,4,6]\n",
        "y = tuple(list1)\n",
        "print(y , type(y))"
      ],
      "execution_count": null,
      "outputs": [
        {
          "output_type": "stream",
          "text": [
            "(2,) <class 'tuple'>\n",
            "(2, 4, 6) <class 'tuple'>\n"
          ],
          "name": "stdout"
        }
      ]
    },
    {
      "cell_type": "markdown",
      "metadata": {
        "id": "V4vx9tMQXMyW"
      },
      "source": [
        "# tuples are immutable"
      ]
    },
    {
      "cell_type": "code",
      "metadata": {
        "id": "rC_0Qa3n0WFE",
        "colab": {
          "base_uri": "https://localhost:8080/"
        },
        "outputId": "45cb6b4e-d7ab-4ad8-e1c5-473b7b67a5b4"
      },
      "source": [
        "x= (1,2,3)\n",
        "# del(x[1])      #fails\n",
        "#x[1] =8          #fails\n",
        "print(x)\n",
        "\n",
        "y=([1,2],3)  # a tuple where the first item is a list\n",
        "del(y[0][1])\n",
        "print(y)             #list within the tuple is mutable\n",
        "y+= (4 ,)  #concatenating two tuples work\n",
        "print(y)"
      ],
      "execution_count": null,
      "outputs": [
        {
          "output_type": "stream",
          "text": [
            "(1, 2, 3)\n",
            "([1], 3)\n",
            "([1], 3, 4)\n"
          ],
          "name": "stdout"
        }
      ]
    },
    {
      "cell_type": "markdown",
      "metadata": {
        "id": "Zpgylqb7YsjZ"
      },
      "source": [
        "# sets"
      ]
    },
    {
      "cell_type": "code",
      "metadata": {
        "colab": {
          "base_uri": "https://localhost:8080/"
        },
        "id": "2z1kSixsXZvu",
        "outputId": "df0b6cc5-926a-4cf3-e3e1-3b080722f736"
      },
      "source": [
        "# store non duplicate items\n",
        "# very fast access vs list\n",
        "# math sets ops(union,intersect)\n",
        "# sets are unordered   # you can not sort\n",
        "\n",
        "x = {3, 5,3,5}\n",
        "print(x)\n",
        "\n",
        "y= set()   # empty set\n",
        "print(y)\n",
        "\n",
        "list1 = {2,3,4}\n",
        "z=set(list1)\n",
        "print(z)"
      ],
      "execution_count": null,
      "outputs": [
        {
          "output_type": "stream",
          "text": [
            "{3, 5}\n",
            "set()\n",
            "{2, 3, 4}\n"
          ],
          "name": "stdout"
        }
      ]
    },
    {
      "cell_type": "markdown",
      "metadata": {
        "id": "wakYunT9aEXU"
      },
      "source": [
        "set operations"
      ]
    },
    {
      "cell_type": "code",
      "metadata": {
        "colab": {
          "base_uri": "https://localhost:8080/"
        },
        "id": "_qwxVzk4ZX7-",
        "outputId": "560b32b3-df67-4018-b665-dce79e36c6cd"
      },
      "source": [
        "x = {8, 5,3,5}\n",
        "print(x)\n",
        "x.add(7)\n",
        "print(x)\n",
        "\n",
        "x.remove(3)\n",
        "print(x)\n",
        "\n",
        "print(len(x))\n",
        "print(5 in x)\n",
        "\n",
        "print(x.pop,x)\n",
        "x.clear()\n",
        "print(x)"
      ],
      "execution_count": null,
      "outputs": [
        {
          "output_type": "stream",
          "text": [
            "{8, 3, 5}\n",
            "{8, 3, 5, 7}\n",
            "{8, 5, 7}\n",
            "3\n",
            "True\n",
            "<built-in method pop of set object at 0x7f5a9daca9b0> {8, 5, 7}\n",
            "set()\n"
          ],
          "name": "stdout"
        }
      ]
    },
    {
      "cell_type": "markdown",
      "metadata": {
        "id": "JlNXnsBna9RD"
      },
      "source": [
        "mathematical set operation"
      ]
    },
    {
      "cell_type": "code",
      "metadata": {
        "colab": {
          "base_uri": "https://localhost:8080/"
        },
        "id": "D2OJxCJ-aW9X",
        "outputId": "bb5abc93-adb9-4128-d2b3-e205d7b0eeca"
      },
      "source": [
        "#intersection(AND): set1 & set2\n",
        "# union(OR): set1 | set2\n",
        "# XOR ^: in set1 but not set2: set1-set2\n",
        "#subset(set2 contains set1): set1<= set2\n",
        "#superset( set1 contains set2): set1>= set2\n",
        "\n",
        "s1 ={1,2,3}\n",
        "s2 ={3,4,5}\n",
        "print(s1 & s2)\n",
        "print(s1 | s2)\n",
        "print(s1 ^ s2)\n",
        "print(s1 - s2)\n",
        "print(s1 <= s2)\n",
        "print(s1 >=s2)\n"
      ],
      "execution_count": null,
      "outputs": [
        {
          "output_type": "stream",
          "text": [
            "{3}\n",
            "{1, 2, 3, 4, 5}\n",
            "{1, 2, 4, 5}\n",
            "{1, 2}\n",
            "False\n",
            "False\n"
          ],
          "name": "stdout"
        }
      ]
    },
    {
      "cell_type": "markdown",
      "metadata": {
        "id": "K7Y4t7C_cfgN"
      },
      "source": [
        "Dictionary"
      ]
    },
    {
      "cell_type": "code",
      "metadata": {
        "colab": {
          "base_uri": "https://localhost:8080/"
        },
        "id": "qst5smwJcJwz",
        "outputId": "17e6a5a7-25c3-4b5b-9578-e2a742e97691"
      },
      "source": [
        "#key/value pairs\n",
        "\n",
        "x={'pork':25.3, 'beef':33.8, 'chicken':22.7}\n",
        "print(x)\n",
        "x=dict([('pork',25.3),('beef',33.8),('chicken',22.7)])\n",
        "print(x)\n",
        "x=dict(pork=25.3, beef=33.8, chicken=22.7)\n",
        "print(x)"
      ],
      "execution_count": null,
      "outputs": [
        {
          "output_type": "stream",
          "text": [
            "{'pork': 25.3, 'beef': 33.8, 'chicken': 22.7}\n",
            "{'pork': 25.3, 'beef': 33.8, 'chicken': 22.7}\n",
            "{'pork': 25.3, 'beef': 33.8, 'chicken': 22.7}\n"
          ],
          "name": "stdout"
        }
      ]
    },
    {
      "cell_type": "markdown",
      "metadata": {
        "id": "AknkSfEIdv5a"
      },
      "source": [
        "dict operations"
      ]
    },
    {
      "cell_type": "code",
      "metadata": {
        "colab": {
          "base_uri": "https://localhost:8080/"
        },
        "id": "xCRQNDbgdTGf",
        "outputId": "a90593e1-710b-415b-8978-b9be64fd5deb"
      },
      "source": [
        "x['shrimp'] = 38.2   # add or update\n",
        "print(x)\n",
        "\n",
        "del(x['shrimp'])\n",
        "print(x)\n",
        "\n",
        "print(len(x))\n",
        "\n",
        "x.clear()\n",
        "print(x)\n",
        "\n",
        "del(x)"
      ],
      "execution_count": null,
      "outputs": [
        {
          "output_type": "stream",
          "text": [
            "{'shrimp': 38.2}\n",
            "{}\n",
            "0\n",
            "{}\n"
          ],
          "name": "stdout"
        }
      ]
    },
    {
      "cell_type": "code",
      "metadata": {
        "colab": {
          "base_uri": "https://localhost:8080/"
        },
        "id": "Qgh3OPbEd5vh",
        "outputId": "c2b216e7-de60-421c-f6d8-eb1549952595"
      },
      "source": [
        "y={'pork':25.3, 'beef':33.8, 'chicken':22.7}\n",
        "print(y.keys())\n",
        "print(y.values())\n",
        "print(y.items())\n",
        "\n",
        "print('beef' in y)\n",
        "print('clams' in y.values())"
      ],
      "execution_count": null,
      "outputs": [
        {
          "output_type": "stream",
          "text": [
            "dict_keys(['pork', 'beef', 'chicken'])\n",
            "dict_values([25.3, 33.8, 22.7])\n",
            "dict_items([('pork', 25.3), ('beef', 33.8), ('chicken', 22.7)])\n",
            "True\n",
            "False\n"
          ],
          "name": "stdout"
        }
      ]
    },
    {
      "cell_type": "code",
      "metadata": {
        "colab": {
          "base_uri": "https://localhost:8080/"
        },
        "id": "vGYtkueWe4Wl",
        "outputId": "f54a1073-9c2c-494e-9e08-bb03cd01291b"
      },
      "source": [
        "#iterating in dict\n",
        "\n",
        "for key in y:\n",
        "  print(key, y[key])\n",
        "\n",
        "for k, v in y.items():\n",
        "  print(k,v)"
      ],
      "execution_count": null,
      "outputs": [
        {
          "output_type": "stream",
          "text": [
            "pork 25.3\n",
            "beef 33.8\n",
            "chicken 22.7\n",
            "pork 25.3\n",
            "beef 33.8\n",
            "chicken 22.7\n"
          ],
          "name": "stdout"
        }
      ]
    },
    {
      "cell_type": "markdown",
      "metadata": {
        "id": "YLNsqk7-gYou"
      },
      "source": [
        "Python list Comprehension"
      ]
    },
    {
      "cell_type": "code",
      "metadata": {
        "id": "2FvsntWifxOT"
      },
      "source": [
        "import random"
      ],
      "execution_count": null,
      "outputs": []
    },
    {
      "cell_type": "code",
      "metadata": {
        "colab": {
          "base_uri": "https://localhost:8080/"
        },
        "id": "Pym1HkbHgfUj",
        "outputId": "0b820a64-3fb0-465b-910e-73fc9bf2ddb4"
      },
      "source": [
        "under_10 = [x for x in range(10)]\n",
        "print(under_10)\n",
        "\n",
        "print('under_10: ' + str(under_10))"
      ],
      "execution_count": null,
      "outputs": [
        {
          "output_type": "stream",
          "text": [
            "[0, 1, 2, 3, 4, 5, 6, 7, 8, 9]\n",
            "under_10: [0, 1, 2, 3, 4, 5, 6, 7, 8, 9]\n"
          ],
          "name": "stdout"
        }
      ]
    },
    {
      "cell_type": "code",
      "metadata": {
        "colab": {
          "base_uri": "https://localhost:8080/"
        },
        "id": "NmCTwVJqhFvm",
        "outputId": "01bb1ffc-520d-4c84-be35-963869bf6c13"
      },
      "source": [
        "squares = [x**2 for x in under_10]\n",
        "print('squares: ' + str(squares))"
      ],
      "execution_count": null,
      "outputs": [
        {
          "output_type": "stream",
          "text": [
            "squares: [0, 1, 4, 9, 16, 25, 36, 49, 64, 81]\n"
          ],
          "name": "stdout"
        }
      ]
    },
    {
      "cell_type": "markdown",
      "metadata": {
        "id": "anc_MSAlh9Vj"
      },
      "source": [
        "get odd number using mod"
      ]
    },
    {
      "cell_type": "code",
      "metadata": {
        "colab": {
          "base_uri": "https://localhost:8080/"
        },
        "id": "KYJx74_Kho-1",
        "outputId": "43824a89-39f0-4c54-fb6e-aeab96eb646c"
      },
      "source": [
        "odds = [x for x in range(10) if x%2 == 1]\n",
        "print('odds: ' + str(odds))"
      ],
      "execution_count": null,
      "outputs": [
        {
          "output_type": "stream",
          "text": [
            "odds: [1, 3, 5, 7, 9]\n"
          ],
          "name": "stdout"
        }
      ]
    },
    {
      "cell_type": "markdown",
      "metadata": {
        "id": "YfYYFkMCiV7L"
      },
      "source": [
        "get multiple of 10"
      ]
    },
    {
      "cell_type": "code",
      "metadata": {
        "colab": {
          "base_uri": "https://localhost:8080/"
        },
        "id": "YqdEmvKJiQJM",
        "outputId": "b34a6e09-0222-435c-c3e8-100ffa332335"
      },
      "source": [
        "ten_x = [x* 10 for x in range(10)]\n",
        "print('ten_x: ' + str(ten_x))"
      ],
      "execution_count": null,
      "outputs": [
        {
          "output_type": "stream",
          "text": [
            "ten_x: [0, 10, 20, 30, 40, 50, 60, 70, 80, 90]\n"
          ],
          "name": "stdout"
        }
      ]
    },
    {
      "cell_type": "markdown",
      "metadata": {
        "id": "xkI4JRKoioUM"
      },
      "source": [
        "get all number from a string"
      ]
    },
    {
      "cell_type": "code",
      "metadata": {
        "colab": {
          "base_uri": "https://localhost:8080/"
        },
        "id": "H9ROjLw-ildC",
        "outputId": "cb930cdd-81cd-4972-c47f-974308a84555"
      },
      "source": [
        "s= 'I love 2 go t0 the store 7 times a w3ek.'\n",
        "nums =[x for x in s if x.isnumeric()]\n",
        "print(nums)\n",
        "print('nums: ' + ''.join(nums))"
      ],
      "execution_count": null,
      "outputs": [
        {
          "output_type": "stream",
          "text": [
            "['2', '0', '7', '3']\n",
            "nums: 2073\n"
          ],
          "name": "stdout"
        }
      ]
    },
    {
      "cell_type": "code",
      "metadata": {
        "colab": {
          "base_uri": "https://localhost:8080/"
        },
        "id": "dniiy-FNkGzW",
        "outputId": "1c6a1f15-b9ab-4735-d9e4-19ffc7a9b5b5"
      },
      "source": [
        "# enumerate returns both key as wella s values\n",
        "\n",
        "names = ['cosmo', 'pedro', 'anu', 'ray']\n",
        "idx = [k for k, v in enumerate(names) if v=='anu']\n",
        "print('index = ' + str(idx[0]))"
      ],
      "execution_count": null,
      "outputs": [
        {
          "output_type": "stream",
          "text": [
            "index = 2\n"
          ],
          "name": "stdout"
        }
      ]
    },
    {
      "cell_type": "code",
      "metadata": {
        "colab": {
          "base_uri": "https://localhost:8080/"
        },
        "id": "vPSx9GC7lG0Q",
        "outputId": "8dc378ba-5a9e-4934-b6e8-ea5ff0d0e960"
      },
      "source": [
        "letters = [x for x in 'ABCDEF']\n",
        "random.shuffle(letters)\n",
        "letrs = [a for a in letters if a!='C']\n",
        "print(letters,letrs)"
      ],
      "execution_count": null,
      "outputs": [
        {
          "output_type": "stream",
          "text": [
            "['D', 'A', 'C', 'B', 'E', 'F'] ['D', 'A', 'B', 'E', 'F']\n"
          ],
          "name": "stdout"
        }
      ]
    },
    {
      "cell_type": "markdown",
      "metadata": {
        "id": "EwN3pXvRmwqF"
      },
      "source": [
        "# Stacks, Queues & Heaps"
      ]
    },
    {
      "cell_type": "code",
      "metadata": {
        "id": "M0UcVIykl8ku"
      },
      "source": [
        "# Stack is a LIFO data structure--- last in , first out\n",
        "# use append() to push an item onto the stack\n",
        "#use pop() to remove an ite\n",
        "\n"
      ],
      "execution_count": null,
      "outputs": []
    },
    {
      "cell_type": "code",
      "metadata": {
        "colab": {
          "base_uri": "https://localhost:8080/"
        },
        "id": "4J8z4PpinPSC",
        "outputId": "318acbab-5f07-4cc9-da00-a62d649925d8"
      },
      "source": [
        "my_stack = list()\n",
        "my_stack.append(4)\n",
        "my_stack.append(7)\n",
        "my_stack.append(12)\n",
        "my_stack.append(19)\n",
        "print(my_stack)"
      ],
      "execution_count": null,
      "outputs": [
        {
          "output_type": "stream",
          "text": [
            "[4, 7, 12, 19]\n"
          ],
          "name": "stdout"
        }
      ]
    },
    {
      "cell_type": "code",
      "metadata": {
        "colab": {
          "base_uri": "https://localhost:8080/"
        },
        "id": "LNNYH4Uand59",
        "outputId": "8d6f4aa3-40d2-4dfa-f389-e027cad37c4e"
      },
      "source": [
        "print(my_stack.pop())\n",
        "print(my_stack.pop())\n",
        "print(my_stack)"
      ],
      "execution_count": null,
      "outputs": [
        {
          "output_type": "stream",
          "text": [
            "19\n",
            "12\n",
            "[4, 7]\n"
          ],
          "name": "stdout"
        }
      ]
    },
    {
      "cell_type": "markdown",
      "metadata": {
        "id": "voYVEG5qoFZy"
      },
      "source": [
        "Stack using List with a wrapper class"
      ]
    },
    {
      "cell_type": "code",
      "metadata": {
        "id": "cObqpS26nsIc"
      },
      "source": [
        "class Stack():\n",
        "  def __init__(self):\n",
        "    self.stack = list()\n",
        "  def push(self, item):\n",
        "    self.stack.append(item)\n",
        "  def pop(self):\n",
        "    if len(self.stack) >0 :\n",
        "      return self.stack.pop()\n",
        "    else:\n",
        "      return None\n",
        "  def peek(self):                #peek will return last without removing\n",
        "    if len(self.stack)>0:\n",
        "      return self.stack[len(self.stack)-1]\n",
        "    else:\n",
        "      return None\n",
        "  def __str__(self):\n",
        "    return str(self.stack)\n",
        "\n"
      ],
      "execution_count": null,
      "outputs": []
    },
    {
      "cell_type": "code",
      "metadata": {
        "colab": {
          "base_uri": "https://localhost:8080/"
        },
        "id": "_16fk3_YqB0a",
        "outputId": "b95cead3-f7bd-4520-e00a-c6d7ae889e2f"
      },
      "source": [
        "my_stack = Stack()\n",
        "my_stack.push(1)\n",
        "my_stack.push(3)\n",
        "print(my_stack)\n",
        "print(my_stack.pop())\n",
        "print(my_stack.peek())\n",
        "print(my_stack.pop())\n",
        "print(my_stack.pop())\n"
      ],
      "execution_count": null,
      "outputs": [
        {
          "output_type": "stream",
          "text": [
            "[1, 3]\n",
            "3\n",
            "1\n",
            "1\n",
            "None\n"
          ],
          "name": "stdout"
        }
      ]
    },
    {
      "cell_type": "markdown",
      "metadata": {
        "id": "zLvA1zb5rj50"
      },
      "source": [
        "![23.jpg](data:image/jpeg;base64,/9j/4AAQSkZJRgABAQEAeAB4AAD/2wBDAAIBAQIBAQICAgICAgICAwUDAwMDAwYEBAMFBwYHBwcGBwcICQsJCAgKCAcHCg0KCgsMDAwMBwkODw0MDgsMDAz/2wBDAQICAgMDAwYDAwYMCAcIDAwMDAwMDAwMDAwMDAwMDAwMDAwMDAwMDAwMDAwMDAwMDAwMDAwMDAwMDAwMDAwMDAz/wAARCALUA+QDASIAAhEBAxEB/8QAHwAAAQUBAQEBAQEAAAAAAAAAAAECAwQFBgcICQoL/8QAtRAAAgEDAwIEAwUFBAQAAAF9AQIDAAQRBRIhMUEGE1FhByJxFDKBkaEII0KxwRVS0fAkM2JyggkKFhcYGRolJicoKSo0NTY3ODk6Q0RFRkdISUpTVFVWV1hZWmNkZWZnaGlqc3R1dnd4eXqDhIWGh4iJipKTlJWWl5iZmqKjpKWmp6ipqrKztLW2t7i5usLDxMXGx8jJytLT1NXW19jZ2uHi4+Tl5ufo6erx8vP09fb3+Pn6/8QAHwEAAwEBAQEBAQEBAQAAAAAAAAECAwQFBgcICQoL/8QAtREAAgECBAQDBAcFBAQAAQJ3AAECAxEEBSExBhJBUQdhcRMiMoEIFEKRobHBCSMzUvAVYnLRChYkNOEl8RcYGRomJygpKjU2Nzg5OkNERUZHSElKU1RVVldYWVpjZGVmZ2hpanN0dXZ3eHl6goOEhYaHiImKkpOUlZaXmJmaoqOkpaanqKmqsrO0tba3uLm6wsPExcbHyMnK0tPU1dbX2Nna4uPk5ebn6Onq8vP09fb3+Pn6/9oADAMBAAIRAxEAPwD9/KKKKACiiigAooooAKKKKACiiigAooooAKKKKACiiigAooooAKKKKACiiigAooooAKKKKACiiigAooooAKKKKACiiigAooooAKKKKACiiigAooooAKKKKACiiigAooooAKKKKACiiigAooooAKKKKACiiigAooooAKKKKACiiigAooooAKKKKACiiigAooooAKKKKACiiigAooooAKKKKACiiigAooooAKKKKACiiigAooooAKKKKACiiigAooooAKKKKACiiigAooooAKKKKACiiigAooooAKKKKACiiigAooooAKKKKACiiigAooooAKKKKACiiigAooooAKKKKACiiigAooooAKKKKACiiigAooooAKKKKACiiigAooooAKKKKACiiigAooooAKKKKACiiigAooooAKKKKACiiigAooooAKKKKACiiigAooooAKKKKACiiigAooooAKKKKACiiigAooooAKKKKACiiigAooooAKKKKACiiigAooooAKKKKACiiigAooooAKKKKACiiigAooooAKKKKACiiigAooooAKKKKACiiigAooooAKKKKACiiigAooooAKKKKACiiigAooooAKKKKACiiigAooooAKKKKACiiigAooooAKKKKACiiigAooooAKKKKACiiigAooooAKKKKACiiigAooooAKKKKACiiigAooooAKKKKACiiigAooooAKKKKACiiigAooooAKKKKACiiigAooooAKKKKACiiigAooooAKKKKACiiigAooooAKKKKACiiigAooooAKKKKACiiigAooooAKKKKACiiigAooooAKKKKACiiigAooooAKKKKACiiigAooooAKKKKACiiigAooooAKKKKACiiigAooooAKKKKACiiigAooooAKKKKACiiigAooooAKKKKACiiigAooooAKKKKACiiigAooooAKKKKACiiigAooooAKKKKACiiigAooooAKKKKACiiigAooooAKKKKACiiigAooooAKKKKACiiigAooooAKKKKACiiigAooooAKKKKACiiigAooooAKKKKACiiigAooooAKKKKACiiigAooooAKKKKACiiigAooooAKKKKACiiigAooooAKKKKACiiigAooooAKKKKACiiigAooooAKKKKACiiigAooooAKKKKACiiigAooooAKKKKACiiigAooooAKKKKACiiigAooooAKKKKACiiigAooooAKKKKACiiigAooooAKKKKACiiigAooooAKKKKACiiigAooooAKKKKACiiigAooooAKKKKACiiigAooooAKKKKACiiigAooooAKKKKACiiigAooooAKKKKACiiigAooooAKKKKACiiigAooooAKKKKACiiigAooooAKKKKACiiigAooooAKKKKACiiigAooooAKKKKACiiigAooooAKKKKACiiigAooooAKKKKACiiigAooooAKKKKACiiigAooooAKKKKACiiigAooooAKKKKACiiigAooooAKKKKACiiigAooooAKKKKACiiigAooooAKKKKACiiigAooooAKKKKACiiigAooooAKKKKACiiigAooooAKKKKACiiigAooooAKKKKACiiigAooooAKKKKACiiigAooooAKKKKACiiigAooooAKKKKACiiigAooooAKKKKACiiigAooooAKKKKACiiigAooooAKKKKACiiigAooooAKKKKACiiigAooooAKKKKACiiigAooooAKKKKACiiigAooooAKKKKACiiigAooooAKKKKACiiigAooooAKKKKACiiigAooooAKKKKACiiigAooooAKKKKACiiigAooooAKKKKACiiigAooooAKKKKACiiigAooooAKKKKACiiigAooooAKKKKACiiigAooooAKKKKACiiigAooooAKKKKACiiigAooooAKKKKACiiigAooooAKKKKACiiigAooooAKKKKACiiigAooooAKKKKACiiigAooooAKKKKACiiigAooooAKKKKACiiigAooooAKKKKACiiigAooooAKKKKACiiigAooooAKKKKACiiigAooooAKKKKACiiigAooooAKKKKACiiigAooooAKKKKACiiigAooooAKKKKACiiigAooooAKKKKACiiigAooooAKKKKACiiigAooooAKKKKACiiigAooooAKKKKACiiigAooooAKKKKACiiigAooooAKKKKACiiigAooooAKKKKACiiigAooooAKKKKACiiigAooooAKKKKACiiigAooooAKKKKACiiigAooooAKKKKACiiigAooooAKKKKACiiigAooooAKKKKACiiigAooooAKKKKACiiigAooooAKKKKACiiigAooooAKKKKACiiigAooooAKKKKACiiigAooooAKKKKACiiigAooooAKKKKACiiigAooooAKKKKACiiigAooooAKKKKACiiigAooooAKKKKACiiigAooooAKKKKACiiigAooooAKKKKACiiigAooooAKKKKACiiigAooooAKKKKACiiigAooooAKKKKACiiigAooooAKKKKACiiigAooooAKKKKACiiigAooooAKKKKACiiigAooooAKKKKACiiigAooooAKKKKACiiigAooooAKKKKACiiigAooooAKKKKACiiigAooooAKKKKACiiigAooooAKKKKACiiigAooooAKKKKACiiigAooooAKKKKACiiigAooooAKKKKACiiigAooooAKKKKACiiigAooooAKKKKACiiigAooooAKKKKACiiigAooooAKKKKACiiigAooooAKKKKACiiigAooooAKKKKACiiigAooooAKKKKACiiigAooooAKKKKACiiigAooooAKKKKACiiigAooooAKKKKACiiigAooooAKKKKACiiigAooooAKKKKACiiigAooooAKKKKACiiigAooooAKKKKACiiigAooooAKKKKACiiigAooooAKKKKACiiigAooooAKKKKACiiigAooooAKKKKACiiigAooooAKKKKACiiigAooooAKKKKACiiigAooooAKKKKACiiigAooooAKKKKACiiigAooooAKKKKACiiigAooooAKKKKACiiigAooooAKKKKACiiigAooooAKKKKACiiigAooooAKKKKACiiigAooooAKKKKACiiigAooooAKKKKACiiigAooooAKKKKACiiigAooooAKKKKACiiigAooooAKKKKACiiigAooooAKKKKACiiigAooooAKKKKACiiigAooooAKKKKACiiigAooooAKKKKACiiigAooooAKKKKACiiigAooooAKKKKACiiigAooooAKKKKACiiigAooooAKKKKACiiigAooooAKKKKACiiigAooooAKKKKACiiigAooooAKKKKACiiigAozRXyf8A8Fgf+Comgf8ABLD9ly58Y6hbx6nr+pObPQ9NY4FzPjq3favBNAH1Xc3kVmm6aWOJfV2Cj9aq2finTNQkKQahZTMpwQkykj9a/kysv2gv26f+C6/xS1UeGtY8YanpSORLZaVdPp+kacjcqh8sgdu+ScVv/EL/AIIRft7fsw6GPFmmv4iupbJDcP8A2H4hne6hHf5QQTQB/V4G3Djmlr+aj/gkB/wcyfFb9nj40ab8M/2gtQ1DxN4YubxdPe/1NMalo8hO353PzMoPUNmv6TtG1e28QaRa31nMlxaXsKTwSocrIjAMrA+hBFAFnNGa/E3/AIKQf8HPvxF/Yo/4KA698INL8BeFdU0zSr+2tY7y5aYTMsu3OcOBnk9q/ZvwF4ifxb4K0rU5UEUl/aRXDovRSyhiB+dAGvRRRnmgAoozRQAUUUUAFBOKM0yVsL+BoAUzKDjcv506v5XP2lf+CiXxy8Of8FxvEXgyz+Kvji38LRfEf7CmmJq0wtkg+0AeWE3YC44x0r+pzTXMmnQE8kxqSfwoAnoopAc0ALRRSZoAWiiigAooooAKKKKACiiigAooooAKKKKACiiigAooooAKKKKACiiigAooooAKKKKACiiigAooooAKKKKACiiigAooooAKKKKACiiigAooooAKKKKACiiigAooooAKKKKACiiigAooooAKKKKACiiigAooooAKKKKACiiigAooooAKKKKACiiigAooooAKKKKACiiigAooooAKKKKACiiigAooooAKKKKACiiigAooooAKKKKACiiigAooooAKKKKACiiigAooooAKKKKACiiigAr+fz/g9ssdefWPg1OFl/4RwW10hbny1ud/ftnbtr+gOvn/AP4KQ/8ABOzwR/wUu/Z1vvAPjOIxgkz6dfxj99p8+MB19umR3oA/Nz/g0N/bH+FNh+xdqPwxk1fR9C+IVlrct5dW93KsEuqRSKoR0Y437drDGcjPvX7PRSCeMOjB1YZDKcg/jX8q/wC1H/wayftUfsq+Jr3VfAFqvjrSbWUtaXegXvl3xQcjMWVfP0Bryvwj/wAFJv25f+CaOqrp2r6v8QdCgsjg2XiOxmaDA7ZkA4/GgD9Uv+Cqv/Bq/wCIf24P20Ne+J/gLxr4W8G2GvGO4uLC4spWIuABvcbMAbiM/jX1R+2F+3H4g/4ISf8ABMj4Y3HiTSIvifr2ix23hu7aC7azSdkjOJQxRzjaoGCK+CP+CeP/AAeJXfibxvpvhv49+G7Kysb+ZIBr2kAhbZiQN8sZ/hz1IJr9ytZ8I+Cv2lfh5ps2p6fonjDw7fJHf2TTxJc28ysuUkXORyD196AP4wv+Cgf7cv8Aw21+3Jq/xi/4R2Tw+dWvba7OmG584x+Vj5d+1c5x/dr97P8AgkV/wcwSft4ftK+C/gy3wofw2L2zMP8AaZ1gz7PJiznZ5S5zt9e9fj9/wXX8A6L4G/4LQ+MNG0TS7HS9Ig1SwCWdtEEhUHZkBRxg5r+p/wDZq/ZW+HPgTwd4V1/RfBPhrS9aTTYHF7a2KRzAmIZIYDPOaAOX/wCCkX/BUL4Y/wDBML4Sr4l+IF/I1zeZXTdJtAGu9QYf3QSAB6seK/G/4hf8HpXxA8S69cJ4B+CGl/YUkIha9vprmYr/ALSxoAD7c19R/wDBbP8A4N/Piz/wVZ/a2g8Y2fxB8NaJ4U0uxhstP0y7aYyRBf8AWNgKVBZtx696+2P2Nf8Agmn8Gf2Bv2edA8MweGfCKXWnWMSarq17BEz3s+395IXkHQtux04xQB+Xf7Ln/B6BBf8Aji10r4y/Cs+HrCaQRTajpF20j2uTgs0MigkD2bNfuB8G/jL4c+P/AMNNI8X+EtUt9Y8P65brc2l3C3yyIwyPx9q/AP8A4O37f9m7/hX/AILk8A3PguT4pf2qyXSaBNC7Gy8tt5mERIBD7MZ55r7h/wCDSfxVe67/AMEodOS9uZZ49N1e6ggDtnyowxwo9qAPsn/goB/wUd+GP/BNz4QyeLfiNrAtUkytjp8GHvNQcfwxpkfiTwK/GP4nf8HpXjbXPF13F8PPgnYS6RG/7l7++lmuXQfxMsaALxjjJx618if8Fpf2gfEH/BU7/gtBfeA9P1GSbQ9M8Qr4P0WAPmOFYpPKlkA6ZLh2r+jj9h//AIJW/CD9ij4G6J4T0XwboF1d2doiX+pXNmk1xfTkDzHZmB6nt6YoA/NL9i7/AIPLvDPjfxxb6F8avh5N4Mgupli/tfSrk3MNvnjMkLqrAZ6kMT7V+0/w++I+ifFzwPpniPw5qNtq2i6xbi5tLu3cNHNGy5BBr8r/APgvb/wbvWv7cnhnRPEXwO8NeHNC+IVrehb9Q6WNte2pB3M3Rd6nGPxr3n/ggJ+xv8bv2DP2Sbr4cfGT+z5G0u9aTRXtNQS7VLdhkplScYPagD+ev9rH/lYT8S/9lR/9uRX9fEms2nh3wp9vvrmGzsrO286eeZwkcSKuSzE8AAV/IB+2NqttoX/BwB4uvbyeK1tLT4mtNNNKwVIkW4BLMTwABX2P/wAHAH/Bwnd/tOaq/wAB/gbq5h8ImRLLWtcgl8v+2JSQvkxPn/VAnluh+goA+vP2k/8Ag7c8PeC/2q7j4a/Cj4U6l8WAl0un2t9aan9nOoXJO0rFGIXLLno2RX6hfA34u+JdZ+Alt4u+J3h/T/h9qDWv22900ah9rXTI9u4iSXYgJA64GB6mvz6/4IA/8ED/AAz+wz8P9L+JnjiPTvEnxO1y1S5hnVlnt9JjcZAibkF8HlhX1H/wW68O+JfE3/BLn4w2vhJbptabQZii22fNdAMsFxznFAH5+/t0/wDB4v4L+Evjy+8N/BzwJP49ksLhrZ9Xvbv7LaXDLwfKRVZ2Ge5xmvAdA/4PQ/ipoOu27eKfghoP9mSON6RXtxbTFM87WdCM49q+Of8Ag3V/aa+An7Lf7ZGqah8f9PsZNN1CwS20m/v7T7TbaZchyWaRcHbkEDJHGDX9F3xF+Ff7KX/BTX4D6r4W0e++F2vwa/p8kFncaZLam5s3YfJKgQ7sq2DQBp/8Etv+Cwnwv/4Kp+AJb7wbNcaX4h0xQdT0K+Ki5tM/xKRw6Z7j8q+s6/KH/glr/wAG2d9/wTC/azsPiRovxYm1e1jjlt7zTDYmNLuFwRtJyRxnr7V+rkedgzQA6iiigAooooAKKKKACiiigAooooAKKKKACiiigAooooAKKKKACiiigAooooAKKKKACiiigAooooAKKKKACiiigAooooAKKKKACiiigAooooAKKKKACiiigAooooAKKKKACiiigAooooAKKKKACiiigAooooAKKKKACiiigAooooAKKKKACiiigAooooAKKKKACiiigAooooAKKKKACiiigAooooAKKKKACiiigAooooAKKKKACiiigAooooAKKKKACiiigAooooAKKKKAEY8V+Qv/AAWB/wCDlHxb/wAEwP2ztQ+GEXwz0zXdPhsra+tdQnuXjadJYwzcA44bcPwr9ejyK/Jz/g50/wCCMes/8FAfhnpfxK+Htn9q+IHgq1a2mskHzarZ5L7V/wBtSTj2NAH6G/sU/tLWf7Y/7K/gr4j2aW8I8Uael48ML71t5DkOmfY13Hjf4WeG/iXpElh4h0LStbs5gVkhvbVJkcHrkMDX8on/AATL/wCC7Px0/wCCNM938Pdd8OvrXhG3uWM3h7W4ngmsJM4YwycFc+nKnHSvunxJ/wAHuFifC0n9l/BWT+2DGdn2jV8wK+OMgICR+NAHyf8A8HVn/BPL4c/sP/tReGNU+HGl2/h7T/HFi95daXbLsgglVyCyKPug46Cv2S/4NdfihrfxQ/4I+eAZNbklnbSLm9021kkOS0Edw4QfQZx+FfgN4xm/aO/4OLf22IdSfR7u8mumS2iMFu0el6Fa56AngADvkkmv6oP+Cff7H2lfsI/sieCfhdpD+fD4WsRDPcYwbudyZJZSB6uzfhigD+Xj/gv/AP8AKcbxr/2FdP8A5x1/WL8Hf+SPeF/+wba/+i1r+W7/AIOjv2e/FPwO/wCCr+seNm0u9OieJ47bU9PvfJLQO8WAybumQVHBPev08/4I4/8AByrB+3T8Wvh/8Fbz4b3Gla5c2PkXOqpfboMwxE7lj2Z529M0AfN//Bfj/gvj8XF/bI1X9nv4G6jc+Gl0a8XRr3ULM4vNQu2wGRG6qoY449K6P4Mf8GvHx7/aN8I2Os/G/wDaI8S2dxqcSzT6bDdS3UsKsA2xmclc88iviT/gvr+zH8Rv2E/+CuHiP4p/2VdXGj69rw8TaJqbQF7eRi/mGNm6ZU5BBr73+EX/AAeqeCV+G1mni74Va83iiKBUn/s++T7NcSAAFlBQlQSM45xQB8ff8HAP/BD34df8Eov2avAus+GNc1/xF4h8R601neXmoy5BjWF3wqjgfMor9OP+DRxWuP8AglA6jgtrd4Bj6mvyB/4LJft9/HT/AIK/+HR8S5/h5q/hn4J+Bpxb2S+QzQxTSnHmSSEAsxxjIGB+NfbP/BpR/wAFT/Dnhrw3pv7NF5oGonX9Wv7nULbU45R9nVMFyGXGc/jQB+evwQnT4O/8HBAbxIogay+KF4k/njOwtdyYY/n+tf2BRzLcKHQhlYAgjuK/nb/4Off+COXjTwX+0VP+0h8KNKvdQ0vWpIrzXLfT48z6Zepj9+AvJVtoYn1Jrov2G/8Ag8Xg+FXwS0zwv8afh9q+r+JNBtls/wC1NMnETXyoAFMsbqcPgAEjrjpQB+2f7WX7Zvw5/Ye+HEfiz4m+I7Xw1oM1ylolzP0aVui/oazv2R/27vhf+3X4c1HWPhf4kg8Tabpcpt7i5gQiNXIzjPc1/M5/wVS/4Kn/ABR/4L+fGzwt4F+H/grVLXwzZ3IGk6LagzyXFw/y+bO4GOAT6AAmv6DP+CKn/BPJf+CbP7CPhvwRdmKXxHdIdR1yaNcB7qQZZfcLnaPpQB/Lp/wVY8G6j8RP+Cwnxd0HSY/N1PWPHFzZ2qE43SPLtUZ+pr6m/wCCjX/Bs94t/YZ/4J7eGvixDqc2v+JLJxJ4vsoPmj06GUDy2jxyQjcMf9sV43+1fZzSf8HBviZ1ilKH4oZ3BDjH2kV/XH4t+Huk/FP4X33hvXbOHUNH13T2sry3lXcs0bptYGgD8h/+DVH/AIK9/wDDQ/wq/wCFEeOdUEni/wAIwbtDmnk/eahZqOY8nksg/TNfsN4y1XSNI8PzvrlxZW2myr5UzXbhYiG4wSeOa/kV/wCCh/7LnxA/4IVf8FRrbV/Bz3tlbadqQ1zwtfpHlJ4N+4xNwQePlYHsa/evxx430n/g4H/4Iyat/wAIfdHSvEWv6cC9ruw2nanEMmFu4G8HB9CKAPIf2wP+DXP9mv8Abc8V6v4n+G3iT/hCdavHMtymjTJcWIlY53GLkLk56AV8EftAf8Gl/wC0d+zZb3HiL4Y+M7HxW2mqZI47K4ezvio5+QZGTjsK8D/4Js/8FIfiz/wQJ/an8VaR448G6nf2WqFbPW9H1HfE5aInbNDKcjOCeeQRiv0f+In/AAeo/D2LwPI3hX4T+IZ/EjxEQRX9+oto5O27au5h9MUAfMH/AAQm/wCC6Hxl+Af7Znh/4JfFzW9W8SeGdc1NdCaPVpWkutHuGfYpDN82A2Miv6ZAMV/K5/wRX/YO+J//AAU8/wCCotr8bvEPh+fSPCWn+Ix4m1W+e1MNtLIsnmLDECOckAV/VGBigBaKKKACiiigAooooAKKKKACiiigAooooAKKKKACiiigAooooAKKKKACiiigAooooAKKKKACiiigAooooAKKKKACiiigAooooAKKKKACiiigAooooAKKKKACiiigAooooAKKKKACiiigAooooAKKKKACiiigAooooAKKKKACiiigAooooAKKKKACiiigAooooAKKKKACiiigAooooAKKKKACiiigAooooAKKKKACiiigAooooAKKKKACiiigAooooAKKKKACiiigAooooAKRhuGKWigDxr9oD/gnt8Ff2o/Mbx38N/C3iCeQfNcTWYWc++9cMfxNeRaL/wAEEf2S9C1OO7i+Dfh2SSM5AlaV1/Ebq+wqKAOS+E/wI8GfAnQ103wb4Y0Xw1YqNvlafaJCGHuQMn8TXWAYpaKAOW+KXwQ8H/G/R/7P8X+GdE8SWY+7FqNok4X6bgcfhXG/Cb9g/wCDnwI8Urrfg/4ceFfD2roCEu7OyVJUzwcN1H4V63RQByvxZ+CHhD47+GZdG8ZeHNI8S6XKCDb6hbLMgzwcZGR+FfP3hz/giL+yx4U8SjVbP4N+FFu1fzF3xu6IfZSxFfVdFAHF61+zr4G8Q/Cy58EXfhTQpfCV5F5E2kizRbV09NgAH49a8z/Z7/4JafAL9lfxz/wkvgL4aaB4e15d2y+gVzLGD1ClmIANfQFFAEF/ptvqlm9vcwRXEEq7XikQMjj0IPBFfN3xX/4I6fsz/GrXm1TX/hB4Snv5H3yTQ25gMh9whA/SvpiigDyn9n79h34Sfsrw7fh94A8N+GHxgzWloPOP/bQ5b9a9U8v5v6U6igDzbUP2O/hVq3ix9eufh74Rn1qS4+1vfSaZEbhpc53l8Z3Z716PGgjQKOg4HtTqKAON+J/7PXgb413FtL4u8JeH/EslkCLdtRsY7gwg9du4HFWfhl8EvCPwWsJrXwl4c0fw5bXLb5YtOtlgSRvUhQAT711NFAHmPx5/Yv8AhT+0/Ft8f+AfDXihgNolvbNWlA/3xhv1ryHwh/wRC/ZY8D+Io9Usfg54W+1wnchmjeVFPrtZsfnX1ZRQBleDvA2jfDzQ4tM0LS7DSNPhGEt7OBYY1/4CoArVoooAKKKKACiiigAooooAKKKKACiiigAooooAKKKKACiiigAooooAKKKKACiiigAooooAKKKKACiiigAooooAKKKKACiiigAooooAKKKKACiiigAooooAKKKKACiiigAooooAKKKKACiiigAooooAKKKKACiiigAooooAKKKKACiiigAooooAKKKKACiiigAooooAKKKKACiiigAooooAKKKKACiiigAooooAKKKKACiiigAooooAKKKKACiiigAooooAKKKKACiiigAooooAKKKKACiiigAooooAKKKKACiiigAooooAKKKKACiiigAooooAKKKKACiiigAooooAKKKKACiiigAooooAKKKKACiiigAooooAKKKKACiiigAooooAKKKKACiiigAooooAKKKKACiiigAooooAKKKKACiiigAooooAKKKKACiiigAooooAKKKKACiiigAooooAKKKKACiiigAooooAKKKKACiiigAoozRmgAooooAKKKKACikLAGloAKKKKACiiigAooooAKKKKACiiigAooooAKKKKACiiigAooooAKKKKACiiigAooooAKKKKACiiigAooooAKKKKACiiigAoozmigAooooAKKKKACiiigAooooAKKKKACiiigAooooAKKKKACiiigAooooAKKKKACiiigAopA2T9KUnFABRRRQAUUUUAFFFFABRRRQAUUUUAFFFJnNAC0UUUAFFFFABRRRQAUUUUAFFFFABRRRQAUUUUAFFFFABRRnFFABRRRQAUUUUAFFFFABRRRQAUUUZxQAUUZooAKKKKACiiigAooooAKKKKACiiigAooooAK/M7/g5J/4Kh/FP/gmN8HvAuufDC70u2vNd1N7S7F7ZJcq6BCRjcDg5r9Ma/EP/AIPV22fs1/Cw/wDUdkP/AJDNAGH4B/bf/wCCrHxD+DGk/EDRPCvg3WPDur2Capa+TpsBkngZA4+Xb6Gvp7/ghZ/wXg1j/gon498T/Cv4peG7fwr8VPCUTTyrboY4byNH2SfIeUdWIyOnNfJn7Iv/AAdHaH+zr+xT4C8Caf8AA74j+INc8L+HbbS0uETZaXUscQQOCEY7CRnpVP8A4N8f2OPiz8W/24fjH+1Z8QPC994H07XdOv8A+z7aeFoHuprn5zsU4O1FjX5iOSaAP3xs9VtdQdlguYJ2T7wjkDFfriiXV7WG6ED3NuszdI2kAY/h1r8RP+DUL4r+KPiR+1H+0tb+IPEeu61Dp91stUvr151th9qcfIGJC/hUP7dfxX8T6V/wdO/CXw5beItbg8P3R07ztNjvZFtJcoud0YO05+lAH7farr9joMIkvr20s4z0aeZYwfxJFJpPiGw1+IvY31neovVreZZAPyJr+c//AILEfH3W9Y/4LZX/AIU/aN8R/EjwT+z9ZeVDpx8PSSQwzQ+UhWUMvDZctu6kY6V9Df8ABNv9nPQ/Cv7d3h/xR+yr+1baeKfhfNGP7d8F+J9TmuNRuFOd/lo6jkDaQQM5BB4oA9S8Z/8ABXb4v6L/AMHD+ifs3w32lD4bX0yLLCbGP7QQYXcjzcbuqjvX6pWfjDSb/UDaQapp010pwYY7lGkH/AQc1/OH/wAFAfh34s+LX/B0za+GvBPiOTwh4g1yW3s4dYjiEkmnxvE6yyIpwNwjLY98VX/4LG/sKeMv+CH3xh+FnxM+H3xl8f8AiJvEOqiO9Gr37tI86MGbO07WRgemKAP6VqK5f4JeMpPiH8G/CmvzALNrWj2l9Io6K0sKOQPxY184/wDBRm3+O3xC8a+BvBvwy16x+HHgfU5Jp/GHjiR4ZLjTYUUeXBBHIQu+Qn7x+7joaAPraivyP1T9oLxb+wX/AMFBvgj4S0H9pCb446D8T9bXRdd0TVGtZp9OVuBOklv93B7EV23xs+MHx9+NH/BZLx38C/Anjr/hEfBg8L2Go3WoG1S4n0gMgLG3Q8GRznljgY6UAfp1RX5seAtR+Lv/AATt/wCCmXwv+Gmv/F3WPit8PPjJp96qJr9nEl/pV7bBW3JJEACjK2MEda/SQnKUAeP/AAP/AGlNf+KHxq+I/hjVfBGpeHtL8EXSw2OrznMOuIRkvGOwFaH7J/7XfhX9sjwXrGu+EjeGx0PW7zQbk3EexvtFrK0UuB6blPNfHvwG8e/Ev9rD9qX9rr4aH4kaz4as/C2qQW/h+9tLaKWXR0I3MEDDDZ/2s15R/wAG+vwX8S/Cv4UfEj4gap8VPEGoeGPD3jDxHb3nh+W0hW2upIbuXfds4G4O5UsQOMtQB+tmaK/Jb4L/ABl8Z/8ABTnT9e+JGrftT6f8EPDEmqXNl4U8NaPNZC4jt4XaMXF2053MXYZ2AAY7811P7PH/AAUY8fal+zB+0/8AD3xL4x0jxP8AEj4H+H72903xdo5jMeq2xt5DDc7VJRZFYLkZIzQB+oGaK/KT9mn4OftPftrfsA+Hvi5rv7QOt+CPEE3h9dQ0fS9G063a3mCR7lku2kBZ2kxlgu0DOBR+wlpX7SP/AAVh/Y90j4k+KvjfqXwwntkuNO02z8L6dCRqEtq7Qvd3LSbsmSRG+RQAAOvNAH6t0V8Zf8EQv2qPHX7TP7M3iW1+I9/baz4q+H3iu98L3GqQx+X/AGikG3ZKy9AxDc4r0n/gqJ+2yP8Agn/+xj4s+I0NgNU1awhW20qzZsLcXkrCOFWPXbvZc47UAfQgOaK/Nbwt+wf+1j4++BcHxF1H9p7W9I+KV7ZDVk0S10e3Ph+1crvW1KEeYygfKW3Zrj/Gf/BV74hfFn/giH42+JlkU8NfF74f62fDOsLaYMLX1vcrE5QMDhZFIOO24+lAH6s151+1d+054c/Y6+Auv/EXxabldA8OQie7NvHvkC5xwPxr4N8SfssftOeP/wBkGX40Xv7Rmu+HPHdn4b/4SOz8O6dpkH9ixeVB5wgl3Zkk3KpBbI5bpxXlX/BTvxX4z/bt/wCCCdh8YbrxvqPhfHhpZ9c0Gxt43s9blLAHezDcgB6BaAP1z+HvjW1+I/gbSNfsd32LW7OK+t9ww3lyIHXPvgitmvzgm+NHiv8A4JQf8EorXxnqXjfV/in4h17TtOt/DNrqltFAtlcTwxrFAPLA3Rqe55qCx/YD/ar174IRfEKb9p7xBafFW6sRrK6HHo9v/YEUmzf9kKf6wrjC7t2c9qAP0mzXBftNftFaB+yj8D/EPxA8UG4XQfDNq13eGBN8gQdcDvXkX/BJ39t29/br/ZPtfEeu2UOneLtDvp9C8QW0J/dreQNtdk9FbqBXjP8AwcZ/BzxH48/4J2eO9b0jx7q/hjTfD2jTzX+k2ttFJFrS4PySO3zKP92gD6B/ar/by039nP8AYgf422ukz61pLWNpqMFmX8mSWK4ClMnnBw4NewfC3xuPiX8N9A8RJD9nj13TrfUFiJyYhLGr7Se+N1flX+1h8EvFnwV/4N7dbl1v4h638QZdb8P6Nf2EWpW0MI0tGhgK20flgZQHu3NdP4e/ZA/aU8W/sK6Z8T5/2h9b8I+MNG8KRarpPhrSdMg/sW1hgtg8cEpcGSQsq/M2RyenFAH6mZzQTivzU8b/APBZDxH4P/4JB+APidDDo5+KHxDu7fwtp7Xj+TYw6lLJ5RuJPSNOXIz2rgPi/p/xR/Zz+EFz8UNB/bV0fxt498P2w1PUfDN62njR9VCjdLbxKj+YnGQpyTQB+tQORRXmf7Gv7R1n+11+y14F+JNjbtaW/jDSIdQ8gnPkuww6Z7gOGA+lfGX/AAWW/bB8afCn9pX4PfDK28dyfBr4c+Ovtcuv+O0svtD2zxKvlWqswMcRct95gelAH6MGvKdP/bC8Kaj+1tqHwXQ3n/CY6Zo0euTKYv3H2eQkLhvXivlP9lTwB8bfhR+054bfwh8cbT9oD4KeI7eRNcl1K4tf7R0F9p8uaJofvqTjKkDrXzZ4W/Yq+Isv/BerxPof/C/vFy6lD4OtNUbVhptt581uXJFmVxtEYHG7rQB+y1FfDv7Y3gz48/Gr9puLw3B8Rovgh8END0mOWXxPbS2zal4gvj96NfOO2FEGOcHJJrxv9hv9qDxb8HP+CscvwBX43L8dPAmueFp9ZTULsQve6JdRMv7syw4RwVzxigD9RQciq2tal/Y+jXd3t3/ZYXm2567VJx+lfmX8NPGHxl/4LB/tI/Embw18UtZ+EHwa+G+rS+H9P/sK2ifUtauoiVeZ5JAyqmQeAK9o/ZT8J/tFfAL4sfEL4e/EnWJPiZ8MotIa88N+NLiKG2vkJjbda3EaHDMOzgDNAHsv/BPv9suH9uz4By+ObfRZNBjj1zUNG+zPL5pJtJzCXzgfeIzivca/Fj9gn/gqTon7IX7Aem/DzwpJp3iD41+PPiB4h0/w5oklyI4rZ3v5ALi5b+BByQvVsYFfp/8AsQfBvx78IfhOq/EzxxeeN/GWqN9q1CdokhtbNm58mBFH3FzjJJJxQB7RRRRQAUUUUAFFFFABRRRQAUUUUAFFFFABRRRQAUUUUAFFFFABRRRQAUUUUAFI5wKWmv0oA/GT/g4F/wCC0Xx+/YC/bk8E/DX4SXWhraeKdGt7lYb7To52e6luJYgAzDIB2rXE/FD9uv8A4Kr/ALO3w+m8c+I/A3hHVPDem23268W202KQrABvLEIA2AvJwa8H/wCDs/xknw9/4K5/B7XJLeW7j0fQbG9eCL78ojvp2Kr7nHFe9/tAf8HVo+JH7OWr+Cvh58AviJceKNd0d9HtZtQtybeMyQmIybEQl8ZJA4zxQB+gH/BFD/grdpn/AAVh/Z0udffTYtC8XeHZxZ63p0blkSTGQ6Z52n3r6/1bxfpOgTCO+1PTrKRuiz3KRk/gSK/Dr/gij8HPHP8AwRt/4JWfHH4//ETRbjSNZ1y2fUNO0e5XbKgRT5bSLn5dzY464riv+CU//BLfxr/wXG+DevfHr45fGn4iWdz4g1K5g0Wy0e9NvFbeWxUvtyVCBgQFAHC9aAP6B7a8ivYFlhkjliflXRgyn6EVD/bllukH2u1zEMyDzV+Qep54r8Pf+CMX7V3xV/YZ/wCCtvi/9jb4ieLL/wAd+FtksmhX9+5kuLRkRZE+Ykna8ZYEEnBUY6188fs/fDf4wft7f8Fwfjb8ItM+LnjDwf4Mnvb063LaXrvLDYoVJigDNiNmbauR0zQB/SJpHirTPEDsthqNhelPvC3uEkK/XBNX6/nQ/wCCjv7MvxA/4NzP2ivhr8TfhV8UPGXiLwT4g1BbXUdM12+Nx5rqQXRx90qy9DgEZr+g/wCFPxAtviv8MPDviezUpaeIdMttShU9VWaJZAPw3UAdBmivjn9v7Rvjv8Vvjj4X8IeDfFdl8JvhL9jlvfEvjXzIWvjKMCO1gSUhVzyS5z06V80fCr9onxd+yF/wVN+FXwp0v9oY/Hfwf8TEuLbU7LUPs0t3osqIWSRZYAFwcfdNAH6u0hOK/L28+JPx+/an/wCCsPx0+Cfhj4i3HgfwF4fgsLuTVYLWOe909HhUmG2DDaCxJJZ84zwK6T9m/wAXfFf9h/8A4KqaT8CPF/xO1b4s+CviF4Wl1/SrzWbaKLUNLuYZfLdC0YCshHPQYoA/R+vGf2dv2nNa+MV98QF1zwVqfhK28G6pJZWk10c/2vCgJ8+P/ZOK9lr82v2afGHxN/bb8IftReGZvibrnhe68LeMprPSNTs7aGWWxtYwxMKqwxhgMZOetAH2p+x7+1z4V/bb+CNl4+8HG8OhX888ETXMfluWilaNuPTcpr1KvyI/4N6/CWs/s6f8E4Lj4u+I/iVr2p+D9Ht9WlPheS0iWztWiuZsyq6/OSxGcHjLVd+Avj7x9/wUa+Gr/FvxD+1ppvwc/wCEhlmn8LeFtHnsQmm2iuVhN55x3u7FdzDjAPFAH61UV+U/hP8A4KffELxZ/wAEv/2mYNQ8R6Xe/Fn4D2Vxbr4k0Yq1tqY2FoLpByoJ28jkVZl+Cf7UHxv/AGDLb43aj8ftY8H+OLfw0uu6f4d0rToG0tQsXmKk5cF5GbHzEFRk8CgD9T6M1+V/7Mngv9pH/gph+w/ofxu1745ar8MtV1PR2u9H0Tw1YQ/Yz5KFfNuWkDM5kaNmKrtChsDpX1F/wRj/AGpPFf7Wv7DuleIPHE0N34q0jVL3QdRuoo/LW8ktpNgl29twIoA+rs0V8u/8Fcv25tS/YN/ZKuvEXhzT4dV8aeIL+28P+G7WYnypL+5kEcZfH8Klt2O+MV886v8A8E/v2rvDHwTl8e2v7UGvah8VbS0/tOXRZtItxoM0oXe1sEHzhf4Q278KAPuv9p/9oDSf2WfgH4o+IGuLJJpfhaxe9njjHzygYAUe5JAr5y+FP/BUbX7r9jfxt8cPiP8ADC+8BeEtB0yPVtHje8FxcaxBJkJxgbWLFBj/AG/avk79sz45+JP+CpX/AAQj1H4pWvizVfAWo+HrO6sfFGh2Nuklvqd5BcpBJEzPkqgZCwx/exXAftpfsNfErwd/wRIn8Vah+0P421zQ/wDhGdMn/wCEbm0u1jtGR5IAsW9RvwuQQc5+WgD9Qf2Cf2o/G/7V/wAN5PEvi74a3Pw6tbxY7jSY57wXD31u4yHIAG09OPevea+b/wDgl38EfEfwX/ZZ8PR+IPiDrPj06pp9tdWz6jbRQHT4zGMQqIxyo9TzxXI/8Fff25PFH7JPwl8L6B8OrW0u/ib8UtYTw94d+0gmG0kbG6dlHXaDnHtQB9fV5J+3H+15of7C/wCzJ4l+JniC1ub+w8PxIVtLf/WXc0jrHFGD23O6jPvXxX8Z/wBiP9qT9lr4GX3xR8OftLeI/GfjrwzZ/wBq6roOq6Xbro2qIg3zQRBRvj4B2nJ6V4x/wWC+Ierf8FB/+CMGg/G7Q/G+seGtIu006PVPDNvBHLbXF0b+CNi7kbsxuNwxweM0Afpf+xH+0F45/aO+FsniHxz8O5vhxcTSK9jZS3guXuLdl3LISAMHpxWv+1t+1p4W/Yx+E/8AwmXi83g0j7bBYZtYvMfzJm2px6ZrB/YC+C/iD4I/s86Tp3iLx9rPxCubqGK5ivtSto4JII2QERAIMYHqea+Kv+Dm/wCBXibxd+zDpvibT/iLreh6Jbaxp1jL4ft7WJra5mec7bhnPzhlzwBxxQB9ift2ft02n7FvwI8PeOn0WbXbXxBrmm6NHbrJ5TJ9sYhZM4P3fSvd9Kvv7T0u2uQu0XESy49NwB/rX5O/8Fe/hV4w/Z9/4I8eENOvfGeqfErxMPHXh+90+/1aCOA73P7qBhGMbFYdevJro/2oP2av2mfgf+yDrXxyt/2jNbfxz4P0YeIpPDK6TAmgSRwxiR7ULkyY2KRu3ZJ7UAfqPmivzx/bO/4KjeJfDX7JXwOXwdf6D4b+Inx9itIrTU9UYCx0NZI1ea4bcQDtycAkcivHvj3418f/APBPXwNb/Ffwx+13p/xfbQrmGXxN4V1qexMOpWzMBL9k8k742XJIHzUAfrfRXN/B/wCJ1j8Z/hb4f8V6YGGn+ItPg1G3z1CSoGAPuM4/Cvzn/wCCmH7Vvi+b/go74Z+DGsfFq5/Z/wDhde6GdR/4Se3tEaTWrwkYtVnkBjix7igD9OycV5F8I/20/CHxq/aO+IPwv0c3h8SfDQ2w1gSRbYh58fmR7G7/AC9a+Zv2Rvhl8d/Afxu1jw3b/GWL4x/BfxBo7tZeKJZbRtY8P3pBwuIvklXuCQK+W/8AgnD+yD4/h/4LFftE2p+OXiqWbwjeaPNqtw2nW2/xKjWwZY5sDCBR8oK9qAP2aByKWvgT4/fD345/tAftN+LR4q+L3/DPvwc8PRxQ+H202ez+3eIJmzvneSbhFXpt285FcV/wS6/bE8VaP+3J8XfgprPxXg+NHg7wXpKa1pniN4oxdQ8gPBI8XySYz1FAH6YVyvxv+JI+Dvwd8UeKzam9HhvS7jUjbg4MwijZ9ue2dtfnJ+ynL8cf+Cyg8UfFRPjFr/wf+Ga6vc6b4R0fw/ZwSXFxDBIY/tFxJKDuLMpO0AV6P4Mb9oXwB+y/+0f4C+Nht/E+keG9AvG8K+NYlSGTXbR7STKzwqTtljIwSODmgD6k/Yg/aih/bK/Zh8KfEeDS5NGj8T2xuFs3k3mDDFcZ79K9ar8a/wBjX/gpw3gn/gn98Df2fvgzc6Prfx48d6dJbWn2m5C2XhuIO5lupz/G6puKxDliBX6l/ss/CHX/AILfB7TdG8U+MNU8c+IlUSX+rXqJGZ5T94IigBUB6DnjvQB6TRRRQAUUUUAFFFFABRRRQAUUUUAFFFFABX4r/wDB5Z4E1vx5+zz8LYdE0jU9Xmi1yR3jsrV52UeW3JCAkV+1FRXNjDeY86GKXHTegbH50AfL3/BKT4RaEn/BOj4LnUfDWlrqKeEtPE/2jTkEyv5CZ37lzuz6819K6roUVz4au9Pt444Ent3hVUXaq7lI6D61ehgS3TaiKg9FGBTiNwoA/mc/4J+ftieIP+CB3/BRr416P8Svhr401PS/GFzMLdtNsGd3/fGSKSPOA6tnHB71u6R43+KP7Vv/AAcdfCb4p+KPht4q8GaPrl/Zz6ZbX1k++1swAI2mIBCMRgkE8V/Rrqng7Sdbu457zTbG6miIKSSwK7IR0wSKuf2db+ar+RDvX7rbBkfQ0Afj5/wUT/b78bfswft3an4Z/aS+B9h49/Z2vs/2N4h07w+17NGjqpAdwD8yklWXOeM18L+CPgvoH7ZH/BZj4aeKP2Ofht468F+BtFvbe78Q6lPZS2NjHsk3SsN2AqtH8u08knpX9M+q6LZ65beTe2tvdRH+CaMOPyNR6N4Y07w5bmLT7G0soyclYIlQH8hQB+FfjP4aawv/AAdveFtbm0TWW0oOq/bxZSG23i1lAzJt29fevQP+Dw7wHrfjj4M/B0aRpOp6tLaa/I8q2VpJOUGF5IUHAr9mJNOiEol8mLeD97YN351FJoltcNue2t2bJYFowSCepoA4n9kQuf2U/hv5iPHIPDGnBkkUqykW0eQQeQa/Of8A4LC+NV8Jf8FIvhfcfGi38Yn9miDRblpm0i2uJrJtX3Ls+1+QCQu3ON2Bwa/Ve0YZkA4VGAAHQDAqPUtDs9Zt2iu7WC6ifqksYdT+BoA/Cj9r74/fBi7/AGj/ANnDx98IvhrrmkfCrwJ43trjXvGUPh65htpCeBGCy+ZJjOSQMcV9q/AewudV/wCDgP4q69FaXf8AZOoeAdJNvdNA6xSfuhwGIxn26199S+EtKm0tbFtOsmswQRAYV8sEdPlxirnkRxyl1jQPjBYKMkfWgD4E/wCCimi317/wVu/Y+u4LK8ntLWTWvPmihZo4MwxY3sBhc9s+lff2zioTbRzSK7Rozp91ivK/Q1OvK0Afnr/wTP0O/s/+CmX7ZNxPYXsEF5rkIt5ZIGVJxs6oxGGH0Neef8Edvilpui6Z8Zv2b/FOkeKNB8c6v4u8S30aXmkXEdrPa3NzK0cizlfLIKupHzc1+pMdokLMyxorN94hQC31qNbCBbjzhDEJf74QbvzoA/ET9lPQv2af2CNA1z4TftP/AArvNE8ZeHtVvH07W5NFvLu08SWMkpeGSGWFWUtg7SvqK9y+EvhPSfGv7D/7VHjHwR8FYvhr4N1jwpqOn+GbhrOWDVvEcAtZCZXhYb1UsF2gjJzX6hap4dsNbZDeWVrdGM7kMsQfafbIq1HbRJD5floI8Y2Bfl/KgD5R/wCCbel3dh/wSE+HVrc2txbXieBo0eCWMpKjfZ/ulSMg+1cX/wAG+ehXugf8ErfCttqFnd2N1FfazuguYWikGdQuSMqwB5GCPY19zJAiRbAihMYCgcYpI4UtowsaKi56KMCgD4B/4N/fD994e+HHx1S+sryyaf4papNELiBojIhCYZdwGQcdRxXp3/Ba/wDZB8SftqfsA+KvCvg6KO48WWUkGsaTbu20XM9tKsyx59W2YH1r6vtoEtw2xFTJydoxk1L1oA/Nvwd/wcH/AA30P4A2+k+IPDHxA0v4u2OnrYXPgx/Dd2b5r8JsMaYTaUL9GzjFeAeIP2RfH3wP/wCCC/xSvPGmhXNn47+KXjI+MrvRYYjJcaetzexmOFlUH51RASO2ea/ZGbwfpVxqovn02xa8XpOYFMg/HGavy28dxHsdEdD1VhkUAeL+JLWVv+CdmpwrDIZ/+FdzRiIKS5b+zWG3HXOeMV+fd98IPE3jb/g1wn8N6Xoep3niD/hGi66clu32l9j7iojxuLYHTFfrb5SmLZtGzG3bjjFNS0ijj2LGip02hRj8qAPyw+Nc8P8AwVh/4JAafpXwns9bm8ZfCxdLuv7O1PTJ7CWa7tIo2eBRKq7icYBGRmuvsv8Ag4U+G2mfAVNPv/Dnj2H4x29gNPfwR/wjl2b77eE2bARHsKF+d27GK/R+3sobQERRRxgnJCIBmqbeEdKfVPtx02xN4OPPMC+Z+eM0AfIv/BD79kzxR+y5+yDPN43tW03xX491u68UX+nsfm083DZWJv8AaC9a6b/gtJ4E1j4lf8ExfjBo+g6beavqt3oM6wWlrEZJpiFzhVHJPsK+pANooZQ64IyD1B70Afkt+0F+1VoP7Y3/AAQQ1jTPBum+J31TwZo2jaJqdleaPcW08dzFHCHVFdAXAI6rkV98afp8x/4JxR2vlSC4/wCFeCPyyp3Bv7PxjHXOe1e0DS7aCMxpbwKjcsojAB/CpBEqx7Qo2+mOKAPxTtf2J/E37RP/AAQZ+Fkuk+ErrxF4h+GnipfFLeG54min1eCC4LTW6q2DuaPdgd61vEv7SP7Fniz4UfZfA/wJ1PxF8Wr6IW9p4Ml8OX8V0l6ePLmLJtRQ3ViccV+y0UKwR7UVUUdlGBVO38J6Va6m17Fp1jHdt96ZYFDn8cZoA4b9jnwDdfDD9mHwVol/4e0vwnf2mmRm50fTW3Wumyvl3hjPorMR+dfNn/BUb9pxPgH8UvCNj8T/AIUf8Jx+z7r1tNFrOt2+mPqcuhXwx5RliRWZYmBYbx3Ffb2aiurSK+iMc0aSxkYKuoYH8DQB+KPg+z+GvxD/AOChXwd1T9iOz8aWLQ60j+OZIbK8tfD0OlgEyLL5yqm8jgAZNe6fH/45Wf7GH/Beabxz410XxRH4T8Z+CLPRNO1Sx0ie8t2ulcgozRK23k96/TPSfD9joKFbKztbQMckQxBM/lU1xYQXbhpYYpCOhdAcUAfjt+0r8U/Bvgv/AIK4/EK4/awh8WSfDf8Asuwl+HQFndz6MyGPM+RApBlMnBB5rB+FHxx8AeH/APguB8JvGfhv4beIPh98LPE3hq+8N6HqM+gz2seuXkhXDBSu9V7BnA71+z2r+GNO8QLGL6wtLwRHKedEr7T7ZFOuPDlhdyW7SWVq7Wh3QFogfJP+zxx+FAH5S/scftJ6d/wRZ+Ofxc+GPxq07XtE8JeJ/Elz4k8LeJ7bSri80+/inYsYy8SMVcZ6EV9G/sp/twePf27fjP8AEDW/D3h6/wBI+AGmaO1ro+o6tpktnea/e7G8ySFZAG8oHgEjmvs3V/Dth4giCX1la3aKcgTRBwPzqxb2cVnbiKGKOKNRgIigKPwoA/G//gnv/wAEiPCv7T3/AAS88fynQX8O/FbVvG+s6npWvTRtFeWd1bXkhtWUkZWM5PTg7s19u/8ABIb9sXxD+0l8Drzwz8QNKv8ARfid8Nrj+xPEEF1A0YvGj+VLmMkYZXA6ivrSC2S3UqiIi+ijApIbOK3kZ0ijR3+8yqAW+tAEtFFFABRRRQAUUUUAFFFFABRRRQAUUUUAFFFFABRRRQAUUUUAFFFFABRRRQAUjDIpaKAP55f+Dm34Ya/42/4LMfA+80/w9rGq6dbafpkdzLb2Ek8Mf/EwlJDMqleh71+9Xgz4XeHLLwzpMkfh3RIpktIsMNPiV1Owd9uc11M2m29xJvkghd/7zICamxxQB4d/wUQ/ZQH7af7Fvj74ZJKttN4m0qW2tnPCpLtOzPtuxX4wf8Epf+CsGv8A/BDL4Pa/8Avj98KPiBb33h3U7mfRbnT9MaWO9DsWKBjgFSxJDKSMMK/oQ2jNZ2teD9J8RurahptjeshypmgVyPzFAH4f/wDBGD9mf4pft7f8FePF37ZXjjwjqfgbwf5csWhWuowNDNesyLEgVWGSqxgkt0ywxXy5+y3+1d4u/Yz/AOC+/wAd/HXh/wAFaz490jTry/HiLTtJj8y7jsSV3zRp1YodrYHYGv6b4LSOxt1jhjSONOFRFwAPpX5ef8E7P+CN/wATP2Wv+CvPxX+OfiWfQ7jwh41S8WyhhnEk4EpUqHX8DQB8I/8ABTD9sPxT/wAHFX7Qvw1+Evwc+HXjS18MaBqC3OpanqmnPAISSA7v2RVH94jOK/oV+EXw9g+Evwq8NeF7Vt9v4c0q10uN8ffWGJYwfx21o6N4U0zw+7PY6fZ2byfeMMKoW+uBWjQB+Sv/AAUt8e6R4E/4KxaLP+0fF4sP7Pkfhknw59htbmbS21UyfvBc+QpJby+gNeP/ABb/AGiPhPoX/BR39mn4ifDv4Za54U+D2h6zNZXPiseHrm3h1G5mjZEVVZPNZRn7xXFft/q2hWWvW/lXtpb3cec7Zow4/Wop/CumXVrFBJp9m8MDBokaFSsZHQgY4oA+D/2I9DvrX/gtT+1NfS2N5DZ3lnpRguJIWWObECZ2sRg/hUP7S3h6/uP+Dgb4E6hHZXclhF4C1FZLlYWMMTG54VnxgE46E1+gaW0ccrOsaK7feYLyfqaRraN5hIY0LqMBivIH1oAf3r87v+CQfhrUrbxv+1qk2n3tub7xzdm2M0LRi4DK+Cm4DI9xX6JVHHbRwk7ERNxy21cbj70Afkx/wRn8Taf8SP8Agn94w/ZU13SPFHh34i2sGtQ31tqWj3FvAiy3ExRlmZBGwO4dCa8l/ZH1L9lb9kL4N2/wu/aU+E9/4X+J3gR5dPknm0S8uY/E0XmMYrq3kiVlfcpAx6iv3AjsYYpjIsMSu3VggBP41U1PwrpmtXEct3p9ncyxHKPLCrFPoSKAPyf1vwAPEP8AwR0/ag8T+Hfg3B8MtG8W6NcxeHrCGzlj1PV7REISeaEjeGbPyjGea+1vDWnz23/BKS1geCZbn/hX6xeSYz5m/wCyY27cZzntX0sbaMweX5aeXjGzb8uPpSmBGj27F24xtxxigD41/wCCOejXek/8EbfhZZXdrc2t3D4SmR4JomSRG/e8FSMg1if8G+Og32g/sLapFf2V3YTHxvrbCK5haJypnGGwwBwexr7kitkhTYiIiAYCquAKWC3S2TbGiovXCjAoA+L/APgun+yh4z/ae/Y/srz4e2f9qeMvhx4gsfF+macv39Ra0lWQwp6syg4Hc4rzLWP+DhT4aa78CJNP03wx8Qp/i/fWJsY/BP8AwjV4L9L4psMbHy9gUN/Fuxiv0gxms4eEdLXVPto06yF5/wA9vIXf+eM0AflrZ/sb+Lv2V/8Ag3P8f+GvEtnN/wAJr4kgu/Eeo6dAplktZ7y8E/kALkllVgCB3Br0v/goBoV9qX/BvXcWEFldy3//AAiOjr9lSFmm3CW2yNgGc8HtX6GXEC3ACuqsvdSMg0PaxyQ+W0aMmMbSoxj6UAcD+yhbPZ/s0+BI5Y3ilTQ7VXR1wykRrwRXyj/wXE/Z18ZeM/B3wz+LHgDRbjxJ4k+CfiRdfOkWy7p9QtuBKqDuwAJA7193ogjUBQAB0A7UMNwweR6GgD80P2hv+C8vw7+Ov7NuseDvhjoHjjxR8W/GWmyaRaeFR4eu4riwuZk2N9oZowqKm5snOPlrgv2wf2PNe/ZL/wCDcuy+HF5bXF/4ls7nSrm+t7SJpnSeXUoJJFAUEnbk5x6Gv1ctfCWl2Opvew6dZRXcn3pkgUO31OM1cltIrhNskaOuc7WXIoAwvhJEYfhb4dQ8FdOgBB7fu1r4/wD+DhHwbrPi7/gnVqUmi6RqWtzaNrmn6ncW1hbNcT+RFLukYIoJOB6CvuFV2jAGB6CkkjWVCrKGU9QRkGgD8r/+ClP7ROkftv8A/BKv4d6/4CsPEN7a2fxE8OWc8NxpU9vcRPC48wmN1DbRn72Me9fZH/BRrTLi/wD+CY/xYt7eCa4uZfAd8iQxIXkdvsbYUKOSfavoRNOt44fLEEIjzu2hBjPripHiWRCrKGUjBBGQRQB+QX7WX7IWpeNf+Cff7JfxKbwNfePrP4SWVld+IPDMMLNdXVi8KiXbHwzMoydvXisjx18Zv2PfiZ4bsvD3wL+BsnxC+Jutzx29toc+gX0EVjlgJHu5HQJGqc5yeor9k1gRIfLCKEAwFA4x9Ko6f4S0vSbqWa106yt5pjmR44VVnPuQKAMr4N+Em8B/Cvw/o7WVnpradYQwNZ2hzBbEIMon+yDkD6V8Sf8ABRL9qTw18J/2mI/C/wC0J8K4Nc+B+raaJNM8VQ6RLqK2F5kZjn8tC0fHQjvX6AAYFV9R0i11e2aG6t4LmJuqSoGU/gaAPx4/Ym0Twd4m/wCCq/g/Wf2RoPGlp8KI7KZvHb3NvdQaG5OfLSETquZOnC5r0T4G/G+z/Y5/4Lj/AB7s/HGj+J7KL4tvo3/CNXsGj3FxZ3pS2Eb5lRCi4YEHcR0r9QdI0Gy0C1ENjaW1pCOiQxhF/IVLJYQSyK7QxM6/dYoCV/GgD8YND+M3wv8Ah3+338bv+GxrPxTda/Hq6HwTDdabfXWlT6ZtO0WywoVZ84zVr9hf4h+Gh/wWk8bWcXgPW/hf4W+KPgtdN8HW11o8toNUUYJlK7fkyBn58H1r9jdR8MadrFxFNd2NpcywnMbywqzIfYkU99Bspb2K5a0tjcQDEchjG6P6HqKAPya/4Juftw6L/wAEfPhlrXwA+P2m+JPC174O1i9k0HVYtHubux1+ylneSJ4ZIkYFsNgivb/AH7UHxT/bb/Zt/aP8Yar4Yu/DXwquNAvLHwJa31i9vqeqoLWTzLpo2+YI7EBAQCea+8tV8MadrrRte2FpdtFyhmhVyv0yKtfZI1g8sRoI+mwKMflQB+OH7Mv/AASI0/4m/wDBF/4f+Ivh3pbeEvjr4YY+LNH1V4miu57+GRm+zyE4bZIgKY/2hX6Ef8Ey/wBtKT9tb9m/Tta1XSNQ8P8Ai7Ss6f4g0y8tnhktLuP5X4YDKkgkEdq+h4rdYIwiIqKOiqMAUkNrHaZ8uNI9xydqgZNAE1FIKWgAooooAKKKKACiiigAooooAKKKKACiiigAooooAKKKKACignFIDmgABpGXdQPvUuaAIoUELv8A7TZP5AVKTkcU1hz0pwGBQBEM7qcRtFPK5o/CgBvUUK+Fp2PaqeuTfY9OeQfwYz9M80AXNwpuw187eHv+CkXgK5/bV1/4EaneRaR4x0mCC6slupVjTVI5VBxHk8sM/d619F5oAbsNGw06jNAAOlDjIozRmgBEGKdSZozQAtFJmjNAC0UmaM0ALRSZozQAtFJmjNADZDg0lEqEnNIOlAdbCgZpdhoTrT6AYijApaKKACiiigAooooAKKKKACiiigAooooAKKKKACiiigAooooAKKKKACiiigAooooAKKKKACiiigAooooAKKKKACiiigAooooAKKKKACiiigAooooAKKKKACiiigAoopN3NAC0UhNG72NAC0Um72NG72NAC0Um72NG72NAC0Um72NG72NAC0Um72NG72NAC0Um72NG72NAC0Um72NG72NAC0Um72NG72NAC0Um72NG72NAC0Um72NG72NAC0Um72NG72NAC0Um72NG72NAC0UgOaWgAooooAKaRlqdRQAUUUUAFFFFABRRRQAUUUUAFFFFABRRRQAUUUUAFFFFABRRRQAV4v8Aty/tf2f7E/wgg8W3ukXmtpcalFpqWtrjzGeRXYEZ/wBzH417Ox+Wviv/AILq/wDJqPhr/sc9O/8AQZq2w9NVK0Kb6tL72Y4mq6VGdRfZTf3I5FP+C50jqD/wpnxyQRkERr/jS/8AD8yT/ojHjr/v2v8AjXgcf+qX/dFO61+6w8JsG4p+2l9y/wAz+f5eMeOUmvYR+9nvJ/4LlSE/8kZ8d/8Aftf8aX/h+ZJ/0Rjx1/37X/GvBt2VpKa8JcH/AM/pfcv8yf8AiMmP/wCfEfvZ71/w/Mk/6Ix46/79r/jR/wAPzJP+iMeOv+/a/wCNeC5xRup/8Qlwf/P6X3L/ADD/AIjJj/8AnxH72e9D/guY+efgz46Hv5S/41Lbf8FqP+Etu4NNX4T+NbV7+aO3E0sI2RFnABbnpzXgKMQ1T2M7R6rZEc4uYmwTwcOp59q48d4WYalQnUhWd0m9v+CdmB8XsXVrwpVKEbNpbvqfmB/wc0/ETWPAn/BYu78RaDqF1o+qWOmWFzb3MEhR4W8tSCCPSv1P/wCCHv8AwcHWH7avwibwX43uLZ/jFoFttt7bzVi/4SVVHDREkDzD3FfnN/wXI/Yd+JH7cn/BZLX/AA78OtButavk0C0u5XGRBbxrCCSzdB04rw//AII5/wDBK/Wv2wvFPi3W9L+K1t8MfGnwnvPPME0DGeLYfmlGCCACCDX4jUg41PZn7tDEJ0+d9rn78+J/+C2dx4T1y5067+DHj1LuzkaGZfKTAZTg4O7kVnn/AILpP1/4Uz46/wC/a/41zPiG70jx98EvD8niX4iaD4p+IGjRfZrvVbWExLqkYHykrn72R19zXlA/r61+t5B4eYPMsMq0pyhLqmv10ufi+f8Aibj8txLoqnCcejTevyPff+H6n/VGvHf/AH6T/Gj/AIfq/wDVGvHf/fpP8a8Dor3P+IR4P/n+/uX+Z4P/ABGjH/8APiP3s98/4fqZ/wCaM+O/+/Sf40f8P1cf80a8d/8AftP8a8Cxmgrx9KP+IR4P/n9L7l/mWvGXMGtKEfvZ77/w/W/6o147/wC/af40v/D9Xj/kjXjz/v2n+NfNc/jvQ7TxXb6FNqllFrF2u6G0aUedIPZetbQgZW5FZw8KcBPSOIb+S/zNZeL+ZwipTw0Vfbc95/4fq/8AVGvHf/fpP8aP+H6v/VGvHf8A36T/ABrwjyx7UeWPar/4hJgv+f8AL7jD/iM2Yf8AQPH72e7/APD9X/qjXjv/AL9J/jR/w/V/6o147/79J/jXhHlj2o8se1H/ABCTBf8AP9/cv8x/8RmzD/oHj97Pd/8Ah+r/ANUa8d/9+k/xo/4fq/8AVGvHf/fpP8a8I8se1Hlj2o/4hJgv+f7+5f5h/wARmzD/AKB4/ez3Y/8ABdHd/wA0a8ef9+l/xr0j9kH/AIKs2H7VXx1XwG3gbxD4W1F9Ok1FX1AKAyIyqeAc/wAX6GvkHhRXS/8ABPr/AJSg6b/2KF1/6Oir5fizgDD5RgXi6dVyd0rNK2p9hwX4jYnOcw+p1qMYqzd1e5+qcfWn0xOtPr8uP1q9wooooAKKKKACiiigAooooAKKKKACiiigAooooAKKKKACiiigAooooAKKKKACiiigAooooAKKKKACiiigAooooAKKKKACiiigAooooAKKKKACiiigAooooAKKKKAOI/aQ+NVv+zp8DvEnje7tJr618N2hvJbeIgPKoIGBnjPNfFtl/wAF2U1K0juLf4QeNpbeZQ8UiqmHU9D1r6M/4Kj/APKP34p/9gV//Q1r83/hV/yTjRP+vGL/ANBr7jgnhWjndWpCtNxULPTqfn/HfF1fIqdKdGCnztrW59Nf8P0H/wCiO+Nv++F/xpy/8FzmI/5I543/AO+E/wAa8DxS1+hf8Qhwf/P+X3I/N/8AiMuP/wCfEfvZ75/w/Mf/AKI743/75T/Gj/h+a/8A0Rzxz+Ean+teB0Uf8QhwX/QRP7kH/EZcf/z4j97PfP8Ah+Y//RG/Hf8A36X/ABo/4fmP/wBEb8d/9+l/xrwOij/iEOC/6CJfchf8RkzD/nxH72e+f8PzH/6I347/AO/K/wCNH/D8x/8Aojfjv/vyv+NeB5xWF43+JegfDaC0fXdVtNKS+lEFu1w+0TOf4R71lU8JsBTXNPESS+RcPGHMpy5YYeLfZXPpn/h+Y/8A0Rvx3/35X/Gj/h+Y/wD0Rvx3/wB+l/xr55udXtbKaNZbi3ikn4jV5ADJ9B3qyDmnHwmwEvhxEtPQn/iMWYrWWHj+J77/AMPzH/6I347/AO/S/wCNH/D8x/8Aojfjv/v0v+NeB5orT/iEOC/6CJfchf8AEZMw/wCfEfvZ75/w/Mf/AKI347/79L/jR/w/Mf8A6I347/79L/jXgdFH/EIcF/0ES+5Ef8Rox/8Az4j97PfP+H5j/wDRG/Hf/fpf8aP+H5j/APRG/Hf/AH6X/GvA6x/Fvj3QvA9zaxatq1jp8l7J5MCzyhDK/oAepqJ+EuAgrzxEkvkaQ8YsyqO1PDxb+Z9Kf8PzHP8AzRvx3/35X/Gj/h+Y4/5o347/AO/K/wCNeBj25+lLgk014R4F6rES+5B/xGTMP+fEfvZ73/w/Mf8A6I347/79L/jR/wAPzH/6I347/wC/S/414IUxSYp/8QiwX/QRL7kL/iMmYdaEfvZ75/w/Mf8A6I347/79L/jR/wAPzH/6I347/wC/S/414HijFH/EIsF/0ES+5D/4jJmH/PiP3s98/wCH5j/9Eb8d/wDfpf8AGj/h+Y//AERzxx+KJ/jXgeKKf/EIcF/0ES+5B/xGTMP+fEfvZ9IfC/8A4LX2Pj74z+E/CF78N/FWhS+LNQWwt7m7VRGjEE5PPtX3WDkV+MFqM/ti/Aj/ALGpf/RbV+0AGK/IeI8nhleYTwUJOSj1Z+ycJ51VzXLYY6rFRcr6LyCiiivDPpAooooAKKKKACiiigAooooAKKKKACiiigAooooAKKKKACiiigAooooAR/u18V/8F0/+TUPDP/Y5ad/6DNX2o/3a+LP+C6Y/4xS8M/8AY56d/wCgzV15cr4ykv70fzOPMP8AdKv+GX5M+Vk/1a/7o/lR3oX7i/7o/lS1/ZVP4Efw/Vmud+rDFFFFUAhowfWlopgIo560cLf2hY4RbiN35xwHBP8AKlpsq74z34rnxNH2tOVPvob4er7OpGpbZ3Mr9uX/AIKpr8Kv26Ph/wCAfhjolrYah4znguvEPiNowZtShhIXyF9I8DBx1r57+L2jv/wT1/4LreFPiB4M0y4l+Gv7Q1qjX1rbQNLARdcTptUYykmfpmvOP2vP3H/BVf4Iqq4QWzc44AL19CeMP+Cqf/DKHx00P4Xa3oOiw2SWbXmh+KNVi3/ZJJSMwxHacfNn86/nfOOE8PTk3hZW5avLd+eu5/SeV8V1pU6cqkeZyo8/Kt9NLJaa2GftqfFvxF8BP2o7z4T/AA48DweKfFcULagxnnNvYWNozDymZgM7iOMfWsH9nb9sbVfiD8RdZ8AePPDUfg/x9oto18LaO4862voQM7o2IzXzz8cPE93L/wAFIPFOtfGD4g+J/DOm+MtLtZdE121kEVrKqj5oWk2YABJIBrp/2aPCnw48Yftd3+s+D9T8beOLvw5pMyTeJ7u4V9NIdCnkBsAu3PGB2r6/KM4zCnJRc1dPl5brZdUvi872sfHZrk2V1sO5Km7NKSnZ7t7X+Hya3Lvw5/4KQfEn45eAdW1LwT8MLTULjQbuaG9mur9o7fCE4CYGSxA9hVn4e/8ABRz4g/tE/CWXX/hz8MIr2bRldNdOoX3lRQzpktFAAMt8vPJ71F/wSNKp+yl46UrjfrV+ACvXlqg/4JARbP2OvGuQRnX9VPTr8tdeHxOZ1lScsQ0qkJN6bOJx4rCZVSdeMMNH91UhFavVS3v+h77+x3+03bftY/BO18UxWL6Xci5lsryzd95t5o8bgG7jkV0/xz+NGkfs/fDbUvEmsOTBZRkRQx8y3Up4SNB3ZmwOlfOn/BHJPL/Z48S8f8zVe4HccrXfftofsr+J/wBo7W/CF94d8S6boZ8K3f24Q3tu88NxKPulkHBx15r6rDY3GTyaGIprnqtdPW1z5PE5fgaOfVMPVkoUoy6323S0ufLfgnwH4ksP+ClXwp8X+Mbu4bxJ40hmv7ixY4j0yPkRwKP9lcA+4NfpLKc5r82Pjl8K/jPY/wDBQX4XWmo+PNCv/Et1aSSWN9DYOkNqgY7gy9Tnmv0c01Lm30y2ju5Enu44lWeRBtWRwBuIHbJzXn8F88PrFOcJRtP7R38etS+q1VOL9y1o32vp0RPRSZPpRk+lfdc8e5+fcwtFJk+lGT6Uc0e4cwtFJk+lGT6Uc0e4cwtdN/wT6/5Sg6b/ANihdf8Ao6KuZFdL/wAE+f8AlKDpv/Yo3X/o6KvzrxP/AORK3/ej+Z+m+E8v+Fz/ALdZ+qidafUcXX8Kkr+bmf0/HYKKKKBhRRRQAUUUUAFFFFABRRRQAUUUUAFFFFABRRRQAUUUUAFFFFABRRRQAUUUUAFFFFABRRRQAUUUUAFFFFABRRRQAUUUUAFFFFABRRRQAUUUUAFFFFABRRRQB4F/wVH/AOUfvxT/AOwK/wD6Gtfm/wDCn/knGif9eMX/AKDX6Qf8FR/+UfvxT/7Ar/8Aoa1+cPwp/wCSbaF/15Rf+giv2Lwi/j1/RH4n4zRvh8P6v8jfopWGDSV+7H8/hRRRQAUUUUABr4u/4LNNs8D/AAyPT/iqIv5rX2gRkV8Wf8Fn2z4H+Ga4znxPEfwytfLcYO2WTfnH80fWcD/8jmnfa0v/AElnD/8ABRb4h/EPTv2tfg/a2Phuye2stQJ0WQXzR/2s3lpuWUYwuPbPavo742/tla18IdE8JaMvhGLV/il4xDLb+H7a6JityuS7vJj7gAHb1ryn/gqD4gtfAfxr/Z78SapL9k0PSNWla9vGQtFbKUTG4gGuJ/bvXRdV/a++GXxVvPEGs2fwz1nTpbA69oxINjIdwUk4O1WJAJx2NfFyxuJwc8X7Gd5OcV00TXxf8HY+5p5dhsbSwSq0lyqE311kn8Lt+W57p8NP20PFmgfGTR/A3xb8G23g/VPEzbdIvbK8NxaXEn/PIkgEMaxrj/goH4y8V/HXx18PPBnw+i1rXPCd00UU8t2Y7YxDjfKcEgnsBXmWn+EfhN8Uf2jPAOk6B4p8efE3WbO8S/huor1ZbPRdpB8yVyo/Ic12v7BZC/t//tEEKVzqagZHbea6aGZZjOVOj7bSUmuZNN2tfpocVbKcto06uK9heUYRfK00r81tE9dhvwu/4KP/ABA+MVzr/hDRvhlCfiX4XujDqlrNfFNPgQdGD4LEsc4Ht1r1X9iz9r28/aZPinSNf8Pjw14q8GXS22o2kc3mREtnBUnntXk37A8Sj/gob+0hIU2/8TGzwSO2w1P+wAWP7cH7RI2nBvbcjjrzXXlWZY32uHlWquXPKUWrdFezMM9yzL/ZYqNCgounGE0039q116an1r4s8U6f4H8OXurapcx2en2ELTzzSNhURRknNfml+1u/iH4+eK/AXxc1d7rT9C1HxPDY+GdKf5QLJWGLhx/fkOW+hFfb/wC23+ztq/7UHwUbwvo+uQ6DPNdxzSSyqzRyohBMbBeSDivjT9vn4Q/GPwZ4b+HFlrvjXw1qFl/bsNtpsVlp7xCzcbQrHP8ACOOPaq4zli56OnJ0o8rTVtZX9SOAqeDjrGpFVp8ys76Rt6dfyP0mtD/o6f7o/lUobFc58KdH17QPAemWfibULXVtagiIuru3jMcczZ4IB5HFdJj2/Wv0CjJypxbVtEfm1SDjUlG97N/mIXzSbqdj2/Wj5a02Isxu6jdTjjFNoTFsG6iiiqEc3af8njfAj/sal/8ARbV+0FfjBaj/AIzG+BH/AGNSf+i2r9nh0r+XvENWzyr8vyP6v8NP+Sfo/P8AMWiiiviT70KKKKACiiigAooooAKKKKACiiigAooooAKKKKACiiigAooooAKKKKAEb7tfE/8AwXYuFtf2SfDckrqkcfjLTyzMcBRtm619sEZFch8ZvgN4T/aE8KLofjLRbPXtJSYXK210u5BIAQGx6gMw/E1rh6vsq0av8rT+5mWIpe1oypfzJr7z8mU+I2gFF/4nWm/dH/Lwvp9aQ/Enw8v/ADG9N/8AAhf8a/RQf8Eq/wBnwD/klfhX/wABRR/w6r/Z7/6JX4U/8BBX6/HxcqpW9gvvPxiXg1h5Ny9u/uPzrPxJ8Pf9BvTP/Ahf8aP+FleH/wDoNaZ/4EL/AI1+iv8Aw6s/Z8/6JX4U/wDAQUf8OrP2fP8AolfhT/wEFS/Fyv0oL72P/iDGF/6CJfcj86v+Fk+Hz/zGtM/8CF/xo/4WR4f/AOg1pn/gQv8AjX6K/wDDq39nz/olfhT/AMBBR/w6u/Z8/wCiV+FP/AQVS8Xa3WgvvD/iDGF/6CJfcj86v+Fk+Hx/zGtM/wDAhf8AGkb4leH8f8hrTP8AwIX/ABr9Fv8Ah1d+z5/0Svwp/wCAgoP/AASs/Z8P/NK/Cn/gIKP+IuVv+fC+8P8AiDGG/wCgiX3H5tz+JvB13qcF7NeaBPeWoxDPI6NJH9D1FVvEl54F8YSxPqs3h7UHgO6Jrho3MZ68E9K/Sz/h1X+z3/0Svwp/4CCl/wCHVn7Pn/RK/Cn/AICCsn4qcytPDRZcPCCEWpLFSuj80fFdz4D8daStjrL+HNTs1GFhuTHIo/A1L4a1jwR4M0z7FpNx4f0206eVbNHGv5Cv0p/4dWfs+f8ARK/Cn/gIKT/h1X+z3/0Svwp/4CCo/wCIoxUueOFjfuW/CKDh7J4ufL26H5uaT4n8HaDbNDY3ug2kUjF3SF0RXJ6kgdaXSPE/g7QbZoLK90KzgdizRQyIisT1JA9a/SL/AIdV/s9/9Er8Kf8AgIKP+HVf7Pf/AESvwp/4CCq/4irLT/Zo6EPwfpa/7TJ33Pzd0nxT4P8ADtu0WnX2h2UTsXZIJEQMx6kgd6tH4keHlH/Ia03/AMCF/wAa/Rj/AIdV/s9/9Er8Kf8AgIKP+HVf7Pf/AESvwp/4CCtIeLVWC5Y4dJepE/B2lJ80sQ7+h+b0/i/wjeahDeS32hy3lsMQzvIhkiH+y3UVcj+JPh1V/wCQ3pn/AIEL/jX6K/8ADqv9nv8A6JX4U/8AAQVX1X/gl9+zroumT3dx8L/CMNvbRmWSR7UBUUDJJP0oXi1VV7Yda+Y34O0ZJc+Ibttofnn/AMLL8O/9BvTf/Ahf8aP+Fl+Hf+g3pv8A4EL/AI19Cfs6Wv7E/wC0l8RdU8KaX4C8Jafren3L28UN5bKi34U43xN0Pfivo5f+CV37PpH/ACSrwn/4CCn/AMRbrf8APhfeT/xBqh/z/f3I/O3/AIWX4d/6Dem/+BC/40f8LL8O/wDQb03/AMCF/wAa/RT/AIdV/s9/9Er8Kf8AgIKP+HVf7Pf/AESvwp/4CCj/AIi3W/58L7w/4g1Q/wCf7+5H51/8LL8O/wDQb03/AMCF/wAaP+Fl+Hf+g3pv/gQv+Nfop/w6r/Z7/wCiV+FP/AQUf8Oq/wBnv/olfhT/AMBBR/xFut/z4X3h/wAQaof8/wB/cj86X+Jvh4H/AJDemf8AgQv+Ndv/AME4teste/4Kd6e9ldQXSJ4SugzROGAPnRelfcA/4JWfs9j/AJpV4T/8BBXVfCD9hv4UfALxZ/bng3wRofh7VvKaD7VZwBH8tiCVz6HAr57iXj2rm+D+qSpqOqf3H0XC3h1RyXHfXYVXJ2at6nqkS7TUlIFwaWvz0/SgooooAKKKKACiiigAooooAKKKKACiiigAooooAKKKKACiiigAooooAKKKKACiiigAooooAKKKKACiiigAooooAKKKKACiiigAooooAKKKKACiiigAooooAKKKKAPAv+CpBx/wT8+Kf/YFf/0Na/Mb4Y/Evw9B8O9ER9a01HSzjVla4XIIHI61+z3j3wFpHxP8IX+g69YQanpGpxGG6tZl3JMnoR+FeKx/8Erf2fIyf+LV+FDk5+a0Br6/hLip5JUqTUObmsfG8XcJRz2FOE6nIoO5+c5+KXhzP/Ic0v8A8CF/xo/4Wj4c/wCg5pf/AIEL/jX6Nf8ADrH9n0/80q8Jf+AYo/4dY/s+/wDRKvCX/gGK+1/4i5W/58L7z4T/AIg1Q/6CH9yPzl/4Wj4c/wCg5pf/AIEL/jR/wtHw4f8AmN6Z/wCBC/41+jX/AA6x/Z9/6JV4S/8AAMU1v+CV37Pjf80q8J/+AYo/4i5W/wCfC+8P+IM0P+gh/cj85/8AhaHh3/oN6Z/4EL/jR/wtDw7/ANBvTP8AwIX/ABr9Fx/wSs/Z7I/5JV4T/wDAMUkn/BK79nmNMt8K/CIA6k2i4FH/ABFyt/z4X3h/xBnD/wDQQ/uR+dQ+KPh0f8xvTP8AwIX/ABqjrPivwZ4jjjXUL3Qb0RNvjE8iPsb1Gehr9Grf/gmL+zdeXZgi+GvgiWcDJjSBGcD1wDmrX/Dqr9nsf80p8Jf+AYrOXizVmrSoJr1Lj4OUYu8cS18j81vEXiDwR4u037Jqt3oGo22c+VcyJIufoaZc6v4EvfDv9kSz+HZNLCeWLRmjMIX0C9K/Sz/h1X+z3/0Srwn/AOAYo/4dV/s9/wDRKvCf/gGKl+KbbbeGWpovCKKtbFS02PzL8HH4dfD2F00L/hGdIWQ5b7L5ce78q0tP8YeDtJv7i6tr7QoLm7OZ5UkQPKfVj1NfpF/w6r/Z7/6JV4T/APAMUf8ADqv9nv8A6JV4T/8AAMU14qySSWHWgPwijJtvFSu9/M/N3TvFvg3Sr65urW+0C3ubwhp5Y5EV5iP7x6mksfFvg3S7+e6tr7Qra4ujmeWKRFeY/wC0e9fpH/w6q/Z7/wCiU+Ev/AMUf8Oqv2ez/wA0q8J/+AYo/wCIqNW5cMtCX4QQd74qWu5+c5+Jvhz/AKDemcf9PC/41W1Xxh4O15Yheahol35L+ZH50qPsb1Gehr9If+HVX7PX/RKfCX/gGKP+HVX7Pf8A0Snwl/4BiiXixVkrSw6+8ml4OUKcuaOIafoj86W+J3hxf+Y3pn/gQv8AjSf8LQ8O/wDQb0z/AMCF/wAa/Rf/AIdV/s9/9Eq8J/8AgGKP+HVX7PX/AESnwl/4Biq/4i1W/wCfC+8UvBrDt6Yh/cj86P8AhaHh3/oN6Z/4EL/jR/wtDw7/ANBvTP8AwIX/ABr9F/8Ah1V+z1/0Snwl/wCAYo/4dVfs9f8ARKfCX/gGKf8AxFyuv+XC+8n/AIgzQ/6CH9yPzo/4Wh4d/wCg3pn/AIEL/jR/wtDw7/0G9M/8CF/xr9F/+HVX7PX/AESnwl/4Bij/AIdVfs9f9Ep8Jf8AgGKf/EXK/wDz4X3jXgzh+uIf3I/Oj/haHh3/AKDemf8AgQv+NL/ws/w5/wBBvTP/AAIX/Gv0W/4dVfs9/wDRKfCX/gGKP+HVX7PX/RKfCX/gGKa8XK3WgvvH/wAQaw/TEP7kfmp4a8WaX4i/bK+BaWOo2d46eKVLLFKHKjy354r9rE614j4K/wCCbnwP+HXi3T9d0P4b+GtM1fS5hPa3UFsEkgcdCCK9wr814gziWaY6WMlG3N0P07hzJI5TgY4GMuZRvr6hRRRXinuhRRRQAUUUUAFFFFABRRRQAUUUUAFFFFABRRRQAUUUUAFFFFABRRRQAUUUUAFFFFABRRRQAUUUUAFFFFABRRRQAUUUUAFFFFABRRRQAVjfEPwLY/E7wPqvh/U/O/s/WLZ7W48mQxvsYYOGHQ1s0UAfhr/wUO/4JDeL/wBi3UG8aeBLnUde8JW03nie3G3UNHbOVLbfvKP74/Ed6+lP+CRH/BYZvib/AGf8NPijfAeIOINL1iTCpe44Ech7P6HvX6XarpdvrWnT2l1BFc29yhjlilXckikYII9K/Eb/AILI/wDBOeT9kX4lQfEHwYstt4S1q53FYcj+ybonIGR0UnpQB+4A6UtfI/8AwSB/bjf9sP8AZzjg1i4WXxd4V22WpHPNwAPkmx/tLjPvmvrigAooooAKKKKACiiigAooooAKKKKACiiigAooooAKKKKACiiigAooooAKKKKACiiigAooooAKKKKACiiigAooooAKKKKACiiigAooooAKKKKACiiigAooooAKKKKACiiigAooooAKKKKACiiigAooooAK8L/4KCftCeOP2YPgPdeMPBXhmy8USaW2++gnmZDFD3cKqktjuMivdK8P/bz/AGwfBn7IfwRvtW8VGO9e/ia3stLGGk1F2GNgX+76noKAPyX+Iv8AwX++O/it3XS/+Ed8OROMf6PZmVx9C7EfpXh3j/8A4KR/HT4ms39pfEbX9shwY7Zxbqe/RAK8u8YXv/CVeIdW1e1077BZXN5JKsMYJitQ7EiMH0A4H0r1L/gn9+yvd/teftSeHfCkUbnTklF9qkgBxFaxkFs+m44UfWgD9Vv+CG37OOv+DfgpP8RPGl5ql/4h8XAfZDfTvI0FpnPAYnBYgenSvvIVneGPDtr4V8O2WmWMYhs9PgWCFAMBVUYFaA4FAC0UUUAFFFFABRRRQAUUUUAFFFFABRRRQAUUUUAFFFFABRRRQAUUUUAFFFFABRRRQAUUUUAFFFFABRRRQAUUUUAFFFFABRRRQAUUUUAFFFFABRRRQAUUUUAFFFFABRRRQAUUUUAFFFFABRRRQAUUUUAFFFFABRRRQA1ztWvhP9tr/goD+zz8c/hV42+GHiXxIdP1Mxy2ZS6s2Rra5TO05PTDAc192t0r8RP+C+H7ML/Cb9piHxtZWv8AxKvGkW+ZlXCxXK8N7c9aAOC/4Iy/tPWf7MH7XMX9s6jBpfh7XoWs72aZ9sS45RmPTuea/bjwV+1X8OPiJqMVponjTw7qd1O2yKG3vEd3PoADX8yIzKduM/1r9R/+CAf7A4u7u4+MniKzAihY2nh+GROrf8tJ/wBQo/GgD9ZwdwpabGuxMU6gAooooAKKKKACiiigAooooAKKKKACiiigAooooAKKKKACiiigAooooAKKKKACiiigAooooAKKKKACiiigAooooAKKKKACiiigAooooAKKKKACiiigAooooAKKKKACiiigAooooAKKKKACiiigDnvir8TdI+DXw61jxRrtytppOiWr3dxIT0VRnA9z0A9TX4IfF34keP8A/grd+2nBZ6ZHPOl7cmDTrTcTDpdoG5cjoPl5Jr7V/wCDin9qK58PeCvD3wv0q8MLa2/9oaqEbloIyCiH2LYP/Aa7b/ggl+xnb/B/4Dv8RdTtf+Kh8Yjfbs4+a3tP4QPTd1NAHrHg7/gk18N/C/7HF38LG023uJtRgMl3qrxD7RNeY4mz1AB6DsKxf+CSH/BOmX9hrwj4kl15be58UaxetELpADizjY+UoP8AtZ3EfSvsTJJ+7+tKh/2cUAOooooAKKKKACiiigAooooAKKKKACiiigAooooAKKKKACiiigAooooAKKKKACiiigAooooAKKKKACiiigAooooAKKKKACiiigAooooAKKKKACiiigAooooAKKKKACiiigAooooAKKKKACiiigAooooAKKKKACiiigAooooAK+WP+CwP7L//AA0v+xn4gis7cTa54cjOqafgfMzRjLIPqoI/Gvqeob+yj1Kylt5kWSKdCjqw4YEYIoA/ms/Yf/Za1j9rr9o7RfCenRyi2llE2oThTtt7dT87E9vSv6PPhp8OtK+E3gHSfDmiWyWul6PbJbW8aDHyqMZPuep9zXhv7DP/AATx8O/sY614z1CwEdxfeJtUmuIpgmDbWhcmKAH2B5r6PoAKKKKACiiigAooooAKKKKACiiigAooooAKKKKACiiigAooooAKKKKACiiigAooooAKKKKACiiigAooooAKKKKACiiigAooooAKKKKACiiigAooooAKKKKACiiigAooooAKKKKACiiigAooooAKRunpS0h6UAfg1/wWl16fx1/wUd1fTXYlLRLWwiUnIXcecf8AfVft/wDBfwnb+BfhL4c0e1jEVvp+nwwIg/hAQCvkr9pD/git4Y/aW/aZ1L4i6x4r1Wykv5YZhaW0KgI0ZBHzZ5zivtTS7JdM06C2Ri6wRrGCepAGKALFFFFABRRRQAUUUUAFFFFABRRRQAUUUUAFFFFABRRRQAUUUUAFFFFABRRRQAUUUUAFFFFABRRRQAUUUUAFFFFABRRRQAUUUUAFFFFABRRRQAUUUUAFFFFABRRRQAUUUUAFFFFABRRRQAjcivyI+NP7QPxi8W/tUfFDStJ+K/ijw9pXh3VxbWlpbTfu40Kg4APuK/Xivxr8Q8/tg/HD/sPp/wCgV9fwNl2Hx2bQw+KjzRaZ8Zx5muJy7KJ4nCStNNaj/wDhP/jt/wBF48a/9/R/hUh+IPx1B/5Lv40/7+D/AAq7Ulfuf/EPsi/58/iz8BfiRxB0r/gjO/4WF8df+i7+NP8Av6P8KP8AhYfx1/6Lt40/7/f/AFq0aKf/ABD7I/8Anz+LJ/4iRxD/AM//AMEZ3/Cw/jr/ANF28af9/v8A61H/AAsP46/9F28af9/v/rVo0Uf8Q+yP/nz+LD/iJHEP/P8A/BGd/wALD+Ov/RdvGn/f7/61KPiF8dT/AM128a/9/h/hWhWX438Rnwh4M1bVRCLg6bZy3Xlltu/YpbGe2cVlW4DyClTdSdHRa7s2oeIfEdWpGnGvq3bZdST/AIWB8df+i7eNf+/w/wAKP+FgfHX/AKLt41/7/D/CvEP2f/27Lf4vfskaj8WNQ0T+zbbTRO0llDNvJWIkZBOOTivVPgX8YLD4+fCTRPF+mQTW1lrlv9oiimxvQbivOPdTXn4XhThjEOMaUE3Jcy1e33noYrjHivDc/tqllCXK3ZWv2Nv/AIWB8df+i7eNf+/w/wAKP+FgfHX/AKLt41/7/D/CrqToZdhZd/8Adzz+VSN94f7XQeteh/qDkP8Az6X3v/M4F4i8RNX9t+C/yM7/AIWB8df+i7eNf+/w/wAKP+FgfHX/AKLt41/7/D/Cr5kTH31Y5wQrZI+opguFeRtjIxU4YBskVK4DyBvSkvvf+ZL8R+I4uzrO/ov8in/wsL46g/8AJdvGv/f7/wCtSn4gfHU/8118a/8Af4f4VfGWr5s+JH7eetXXxW1nwd8MvAV547uvDJxq12t0sFvA4HMaEg5auTMOE+GsFFTxFK19t2d2W8a8VY2bjh6t7b6JJfNn0E3xB+OoH/JdvGv/AH+H+FKPiB8df+i7eNf+/wAP8K8z/ZK/a40r9q3wzqFxbadfaHrOiXTWOq6Vd4MtlMvUZHBB7GvXSK3w3BHD2IpqrRpXi9tWY4nj3ifDV5UMRV5ZR3VkZ3/CwPjr/wBF28a/9/h/hR/wsD46/wDRdvGv/f4f4VoAUu33FdH/ABD3I/8Anz+LOZ+JPEF/4/4Izv8AhYHx1/6Lt41/7/D/AAo/4WB8df8Aou3jX/v8P8K0dvuKNvuKP+Ie5H/z5/Fi/wCIlcQf8/8A8EZ3/CwPjr/0Xbxr/wB/h/hTf+Fg/HU/8128a/8Af/8A+tWnt9xSUf8AEP8AI1/y5/FkvxI4gf8Ay/8AwRz/AIp+Kvx30Lw1f3q/HPxqxs7d5gpmHzFQT6V+mv8AwT18e6x8Tv2N/Aeu69qFxqur6jp/mXV3O26Sd97DJP4V+Z/xJ/5J5rn/AF4zf+gGv0Y/4Jcf8mE/Df8A7Bn/ALO1fkviHkmCy3EU6eDhyprU/ZfDTP8AHZrhqtTGz5nF2R7/AEUUV+cn6aFFFFABRRRQAUUUUAFFFFABRRRQAUUUUAFFFFABRRRQAUUUUAFFFFABRRRQAUUUUAFFFFABRRRQAh6V+df/AAVr+OPxH8H/ALUvgzwt4L8da74PstR0OS7uP7Pk2iWQSsMkfSv0Vr8yv+CuR/4z1+Hv/Yszf+jmr2eHsLTxOY0qFVXjJ2Z4nEmLq4XLK2Iou0oxumeSp48+PGz/AJLx42z/ANdR/hR/wnfx5H/NefG3/f0f4Vp5o3V/Q68Pcit/B/F/5n80f8RHz/8A5/v7l/kZv/Cd/Hf/AKLx44/7/D/Cj/hO/jv/ANF48cf9/h/hWluo3U/+IeZF/wA+Pxf+Yf8AER8//wCf7+5Gb/wnfx3/AOi8eOP+/wAP8KP+E7+O/wD0Xjxx/wB/h/hWluo3Uf8AEPMi/wCfH4v/ADD/AIiPn/8Az/f3Izf+E7+O/wD0Xjxx/wB/h/hR/wAJ38d/+i8eOP8Av8P8K0t1KpJYUv8AiHuQrX2H4v8AzD/iI+f/APP9/cv8jM/4Tz47n/mvHjj/AL/D/CkHj747H/mvHjj/AL/D/CvHv2fP2xpPj1+0v8Qvh/8A2OmmJ4F2j7WJjIbnJUdOMdf0rpf2eP2n9J/aI1TxZZ6XaXVtJ4Q1A6dcmdl/euP4lx24rzMPwtwtW5VTpq8m0tX036nrYzizizCqUq1RpRUW3ZbS26HeDx58dz/zXjxx/wB/h/hR/wAJ78dx/wA148b/APf4f4VpeYExvYR7um44yaVmCv8AMQPcniu98B5Bt7Bfe/8AM8v/AIiLxBpes9fJf5GX/wAJ78dyP+S8eN/+/o/wpR49+O//AEXjxv8A9/h/hWk8yRuF8xMt0G7k/QUrssRALAM3QZGfyo/1C4et/BX3v/Ma8QOIeayrP7l/kZn/AAnvx3/6Lx44/wC/w/wobx78dx/zXjxv/wB/h/hWmTivDf2pv2z4vgL4q0Pwpofh678Y+N/EStJa6VbSiPZGvWSRudq/hzzXPjeDOG8JS9vXo2j6v/M6sv434mxtX2GHrXlv0277Hr3/AAnvx4/6Lx43/wC/w/wo/wCE++PH/RePG/8A3+H+FeKfs/8A7bc/xJ+Mdx8PPGHhG98EeM4bU3kNrLOJ4ruIDJKOAOg5/CvfxSwPBvDWLp+1oUbr1f8AmRj+NuJ8HW9hiKrT36arujL/AOE++PH/AEXjxv8A9/h/hSr48+Ox6/HrxsP+2o/wrU496RlDDvXf/wAQ8yH/AJ8fi/8AM4/+IjcQf8//AMEUP+E3+Ov/AEXvxv8A9/R/hR/wm/x1/wCi9+N/+/o/wq/RU/8AEPMh/wCfP4v/ADD/AIiTn/8Az/8AwRQ/4Tv46j/mvXjb/v6KP+E7+Ov/AEXrxt/39FX8D3owPen/AMQ8yH/nz+L/AMw/4iNxB/z/APwX+RRHj345jr8efGvt+9H+FfVX/BF741eOfitonxLsvG/ivVPFs/hzX/sVrc3z7nWMRocfmf1r5fl4YV79/wAELz/pPxr/AOxrb/0VHX514i8M5dlmGpTwVPlcpa6vsfp/hjxVmea4mtSx1TmUY6aLufoFRRRX5GfsoUUUUAFFFFABRRRQAUUUUAFFFFABRRRQAUUUUAFFFFABRRRQAUUUUAFFFFABRRRQAUUUUAFFFFABRRRQAUUUUAFFFFABRRRQAUUUUANc4r8a9aO/9sD44f8AYwJ/6BX7KSV+NWsf8ngfHD/sYE/9Ar73w2/5HlP0Z+ceKX/Ihqeq/M2tgpaKTdX9Nn8tC0Um6jdQAtFJuo3UALXNfGfn4PeKv+wRdf8Aopq6TdWL8SdFm8TfDrXtOttpub/T57eEMeC7RkDJ+prhzKLlhKkYq7cX+R35ZOMMZSnN2SlH8z83/wBmv4Y2fxH/AOCO+uTXl7qlr/Yk99cRLaT+WJmyTtf1X2rv/gDqsX7Gn/BK+L4maRe6xe6xqulJFHb3Vz5ltaSmR1DRpjgAc455FemfsqfsX+I/ht/wT91z4Y6/9ktdd1YXQ3RTCSIGQnYdw49KzPgf+yn8QvF/7G2p/BX4k6dpGmaXptmLfR9SspxLJM4kZwzgdAMj9a/MKGX4qhKlNU2pui4p9peZ+s4rOMHVVZSqKVP26k1prHy7nz7f694HX4Kf8JPY/Fr4jSfFkWv9pRyCxvDaS3HD+QE8vbsPTOcV2H7Sv7QnjP4v/Cj9nbVrHUdR8Ka/4l1dLK9MatFl87SxQ4JGecGvStE8O/tKaP8AD6D4fweGfBkf2OIWUHirzow0UK8B9nUvj+lb/wC0j+yF4y8fS/BP7Fewa3P4F1aK81i8nlEbTBTlmUdz7CoWCxsqMvZKVrRTWqu76vWT1tu1obf2jl8a8XXlB/G4v3XZW0WkUrX2Tuzxr9sb4N6x+yl8cPhv/wAIT4/8WpP42vm0zVJL6689X6bnVeADzW38ePhbffsNftSfCHUPDXi3xTqUHjG/lsNYtNRu/PjuiNnzDpt+909q9o/bf/Zq8S/HL4rfCzVtCjtprHwpq7XuomWURssZx90HqeKn/bk/Zt8SfHv4o/CTWPD0VtJa+ENYkvdQM0wjKRts+6D1Pymu7EZPOnUrzoRl7s4cur8r21+88nC55CcKEcROPvU5qekd9eW+n3H0MzFD+uPSvF/F/wAOtU+FHgzXLz4IaJ4cufEut3n2i8W5vMRTOfvOzDPze3Fe0STrFLyMjHPv618caZ8H/jb+yD8SvEp+G+n6T4y8J+Kb038Vtf3fly6bIeoyT0r6zO6rpxhem3e/vR1lHTorHxXD1FVJzaqxTi0+WXwzs9m7rboRf8EnruLTtd+JumeIobyy+Kh1lrzxNbzBRErOSUMO0kFMV9mmvnT9ir9l3xR8NvHnjP4jeP7yxm8aePZlkubazbdDZRr91M9CRnGfavooHNacMUqtLL4U60bPXfe19L+ZpxhiaOIzSdSjLmTt6Xtrby7C9aTFLnFHWvoj5eyExRilJxSZoCyDFGKXFGKAsjD+JQ/4t3rn/XlL/wCgGv0Z/wCCXH/JhPw3/wCwZ/7O1fnP8Sx/xbzW/wDrxm/9ANfox/wS3/5MJ+G//YM/9qNX4L4t/wC90fQ/obwaX+x1/wDEvyPf6KKK/IT9nCiiigAooooAKKKKACiiigAooooAKKKKACiiigAooooAKKKKACiiigAooooAKKKKACiiigAooooAK/Mn/grmcft7/Dz/ALFmb/0c1fptX5k/8FdP+T+Ph7/2LM3/AKOavo+Etc4oL+8fMcZu2SYj/Cec0UmaN1f1otj+OhaKTdRupgLRSbqN1AC0sf8ArB9abupUcK4PoamWzKj8SPgj9jTwhB8Qv29P2l9Bup7u0h1KFYnntZfLmjG+PlW7Gsn/AIJhfBLS/DPxB+LHihtV8QsfB+tzJDAbvMdwiqxJlX+NuOte5/so/sueKPgx+2T8W/HOrR2n9i+Mig08xSh5GAKE7lHK9D1rF/Zs/Z4+Jn7Pn7RXjSyOm6Lqfw68c6k97cXpuQLmBWB+XZ174r8ooZXXjPD1pU3eMqnyu9G7PY/YsbnGGrRxVCnUTThS078qXMk7bnzt8Mfjt4P/AGrP7f8AF3xN+InjrR726v7iHSNL0a2ujBpkKsRGSY4yrtjBPNbOiftSeLPFX/BPr4waVdajrEt54Guoo9H1yWCS2nvbR5Pkc7gDuG3B4716f8PfgR8Z/wBiy+13w14D8N+GfG3g7U72W906W9mWKbTjKclGzyQCa6bxj+yz8S/Hv7E3jTwxr+rWmreNvFcwuI4FdY7SxTerLCjdMAZrko4HMmpNcynyyvo9X015nd9mkdOJx+V88XNxdNyhy6r3V10UU0u6bZ4j8b/grrfh7/gnrZ/F9/H/AIsfxzYWFrfxyx3hW1AMqJ5fl454brV749fBbXNL/YftPjTN478Vnx7HZ2+qyPHeFbQ7sHyxF0AFe9fG/wDZk8T+O/8AgnH/AMKy0+K2bxO2l21oEeVREHSWNm+fp0U1a+OH7NfiXx5/wT0/4VvYRW3/AAkQ0iCyCNMBH5iAA/N0xxXoTyetH2q5ZN+yi1q/i8tdzz8Ln9F+x55Q/jST0X8Pp02PXvgN4tufHnwR8I61ekNe6to9rd3BHeR4lZj+ZNZ3i34W6CfiBc+MNL0zR7v4h22mPbWUs9yA+3kqrLnKqW7471e+AXhK+8AfBLwnoOpLGt9o2kWtncBGDKJI41VsHuMg14h+0t+z98RvC/7R9l8XvhVJYahqX2D+zdV0O9n2R3kech1J4BFfW4ydSGBpOVNy2v1ktN15o+EwNGlUx9aEKyhfm5dbRlr8L8mjy74Gat4qg/4KX2t98a7D+x/FmpaZLZ+FhYkSafKhUhwXzndg9wK+8NpWvk74Z/s9fFD44/tSeHfib8VLbSPD9t4NhddK0iwn84tIw++zD09K+smOcn1NZcLUKtKjPnvZzbTl8TXdnZxdWo1q9J0muaMEpcusU10iJRSZpcZr6w+RH7BRsFJu9qN9RqVdDgMUUgG4UjNikVdEMv3xXv3/AAQuP+k/Gz/sa2/9Ex14DIcuK9+/4IXf8fXxs/7Gtv8A0THX5J4uf7pQ/wAT/I/YfBj/AH7Ef4V+Z+gVFFFfgx/Q4UUUUAFFFFABRRRQAUUUUAFFFFABRRRQAUUUUAFFFFABRRRQAUUUUAFFFFABRRRQAUUUUAFFFFABRRRQAUUUUAFFFFABRRRQAUUUUANkGRX5BfGP4BfGTwl+1X8UtS0b4X6z4g0vxFrC3VpdRSKiOgXGa/XyU4SvyC+Mfxu+LfjH9qr4o2GmfFTxL4e0zw7rC21paWscLoilQcfMv+c19Bwv/aH9oRWWfxbPsvzPl+Lv7NWXyea/wrq+/wChQHw7+PB/5olr3/gSv+FJ/wAK/wDjx/0RDXf/AAJX/Cj/AITb4zkf8lu8Zf8Afi3/APiKT/hKvjJ/0W/xp/36g/8Aia/VOXjhdvvj/mfk/P4f95fdL/IX/hX/AMeP+iIa7/4Er/hR/wAK/wDjx/0RDXf/AAJX/Ck/4Sr4yf8ARb/Gn/fqD/4mlHir4y/9Fv8AGP4wQf8AxNFuOOy++P8AmPn8P+8vul/kH/Cv/jx/0RDXf/Alf8KP+Ff/AB4/6Ihrv/gSv+FH/CVfGb/ouHi//wAB4P8A4mj/AISr4zf9Fw8X/wDgPB/8TS/4znsv/Ao/5hzeH/eX3S/yD/hX/wAeP+iIa7/4Er/hSH4f/Hg/80Q13/wJX/Cl/wCEq+M3/RcPF/8A4Dwf/E0v/CUfGYj/AJLh4wH/AG7wf/E0f8Zz2X3x/wAxP/iH8tLy+6X+Qi/D/wCPCj/kiGuf+BK/4Uf8IB8eN3/JENd/8CV/wpf+Eo+Mo/5rj4w/8B4P/iaU+KfjKP8AmuPi/wD8B4P/AImotxz2X3x/zLX/ABD9K1390v8AIZ/wr748f9EQ13/wJX/Cj/hX3x4z/wAkQ13/AMCV/wAKd/wlPxl/6Lj4v/8AAeD/AOJo/wCEp+Mv/RcfF/8A4Dwf/E07cddl98f8wt4fd390v8hP+EA+PH/RENd/8CV/wpp+Hnx53ZHwT8QL9Lpf8KefEvxkP/NcvGX4Qwf/ABNJ/wAJJ8ZP+i5eMv8AvzB/8TTUeOl9lffH/MP+NfPdv7pf5Df+FefHkn/kiWv/APgSv+FO/wCEA+PP/REte/8AApf8KP8AhJvjJ/0XLxl/34g/+Jo/4Sf4yf8ARcvGX/fmD/4mm/8AXjrFffH/ADJT8Pr6N/dL/IP+EA+POP8AkiWvf+BS/wCFJ/wr/wCPP/REde/8CV/wpf8AhJfjIf8AmuPjP/vxB/8AE0f8JL8Y/wDouXjP/vzB/wDE1H/Gc/yr74/5lf8AGAd390v8gT4ffHgnn4I69/4Er/hTv+Ff/HTv8EfEH/gUv+FMfxJ8ZD/zXHxn/wB+YP8A4mm/8JH8ZP8AouPjP/vzB/8AE078dfyr74/5kt+H66y+6X+RKPh58dj0+CGvfjcr/hR/wrv47/8ARENd/wDAlf8ACov+Ei+Mn/RcfGf/AH5g/wDiaP8AhI/jJ/0XHxn/AN+YP/iaa/15/lX3x/zKT8P+8vul/kSf8K5+O/8A0RHXv/Apf8Kd/wAK4+O//REte/8AApf8KhHiL4yf9Fx8Z/8AfmD/AOJo/wCEj+Mn/RcfGX/fmD/4mn/xnP8AKvvj/mJvw/7y+6X+RW8T/CL48eIfDl/YD4K69Eby3eEMblTjII9K/TX/AIJ7+A9V+GH7HHgTQdcspdP1bTtP8u5tpPvQvuY4P51+Y3ifx98Z/DnhrUb+P42+MZGsrZ5lQxQAMQM8/LX6cf8ABPPxxqvxJ/Y18Ba5rd/Nqeq6hp/mXN1NjfM29hk4AHb0r4HjNZwqtP8Athe9bTb9D9G4J/sJ0ajyNvlvre+/zSPaKKKK+KPuAooooAKKKKACiiigAooooAKKKKACiiigAooooAKKKKACiiigAooooAKKKKACiiigAooooAKKKKACvzq/4Kz/AAL+I3jT9q3wV4p8G+CtR8V6fpuhyWlybdgvlu0rnv7Yr9Fa/Of/AIK1/GTx/wCGP2rvBfhnwp421jwpp+oaFJdzrZBD5kglYZIYHtXo5O8SsdS+p/xL+76/M8zOfqn1Gp9e/hW970+R4a3w5+OZY4+CuvY7fvlpP+FdfHP/AKIrr3/f5f8ACmHxX8Y8/wDJbfF//fmD/wCJo/4Sz4yf9Fu8Yf8AfmD/AOJr9i5eOd9Pvj/mfi3tPD7+990v8hx+Hnx0A/5Ilr5+k6/4U3/hX3x1/wCiIeIP+/6f4U1vE/xifr8bvGX4RQf/ABNJ/wAJJ8Yf+i3+NP8Av3B/8TS5OOfL74/5h7Tw+/vfdL/If/wr746/9EQ8Qf8Af9P8KP8AhX3x1/6Ih4g/7/p/hTP+Ek+MP/Rb/Gn/AH7g/wDiaP8AhJPjD/0W/wAaf9+4P/iaVuOfL74/5h7Xw+/vfdL/ACH/APCvvjrn/kiPiD/v+n+FDfD/AOOw/wCaI+IP+/6/4Uz/AISP4xH/AJrf40/79wf/ABNB8Q/GIdfjh4z/AO/UP/xNHJx09rffH/MHV8Pv733S/wAh3/CAfHbH/JEPEH/f9f8ACkHw++Ow/wCaI+IP+/6/4Un/AAkfxhHT44eMz/2yh/8AiaePEvxhx/yW3xl/36g/+JqbcdeX/kv+ZCl4fN31/wDJv8hD8P8A47E/8kQ8Qf8Af9f8KX/hXvx1P/NEPEH/AH/T/ClHiX4wf9Ft8Z/9+oP/AImhvEvxgx/yW7xl/wB+oP8A4mmocc36ffH/ADNP+Nf9b/dL/IQfD746j/miHiD/AL/p/hQ3gL47f9ER8Qf9/wBf8KF8S/GBf+a3+Mj/ANsoP/iaH8SfGBv+a3eMv+/UH/xNVycc+X3x/wAyr8ANcqv90v8AIQ/D/wCOzLj/AIUj4g/7/r/hTV+Hnx2U/wDJEfEP/f8AX/Cl/wCEg+MGf+S3+M/+/UH/AMTSnxJ8Ycf8lv8AGf8A36h/+Jo5OOfL74/5mUo+H61d/ul/kA+H/wAdh/zRHxD/AN/1/wAKB4A+Ow/5oj4h/wC/6/4UxfEXxhbp8b/GZ/7ZQf8AxNKPEHxiHX43eM/+/UH/AMTU244Xb74/5lKpwBsr/dL/ACF/4QD47H/miPiD/v8Ar/hR/wAK++Ox/wCaI+If+/6/4U4eI/jCq/8AJbvGf/fuH/4mm/8ACQ/GLdn/AIXd4z/79Qf/ABNH/GceX/kv+YP/AFAjvd/KX+QH4efHU/8ANEfEX/gQv+FA+Hnx0/6If4g/8CF/wp3/AAkvxix/yW3xl/36g/8AiaYfEPxjJ/5Ld4z/AO/UH/xNH/Gc+X/kv+ZF/D7+990v8hT8PvjoP+aIeIf/AAIX/CgfD/46D/miHiD/AMCF/wAKd/wknxix/wAlt8Z/9+4P/iab/wAJH8YVP/JbfGf/AH7h/wDiaa/15fb/AMl/zK/41/3f3T/yA+APjsT/AMkQ8QHH/TwtfWH/AARe+Cvjf4UaH8S7zxr4YvfC9z4i1/7bb21ywLFDEg4I9wR+FfKJ8U/GEf8ANbfGf/fuD/4mvqv/AIIt/F7xl8StI+Jlj4w8T6j4pl8O699htbm8ChxGI07KAOpJ/GvjuMVxAqUP7Zty3023+TZ9lwR/q28RUeRt81ve0a0+aR9x0UUV+fn6WFFFFABRRRQAUUUUAFFFFABRRRQAUUUUAFFFFABRRRQAUUUUAFFFFABRRRQAUUUUAFFFFABRRRQAUUUUAFFFFABRRRQAUUUUAFFFFADJRkV+Nuurt/a++N4/6mFP/QK/ZOSvxt8Qf8ng/G//ALGBP/QK+88N1/wuU/R/kfnXih/yIqnqvzNjycUvHvTj0plf0woo/lt6C8e9JRRT5ETdhRRRRyId2FZPjzXpfCvgbWdUgVJJdNsZrpEf7rMiFgD7ZFa1c38Yz/xZ/wAV/wDYIuv/AEU1cmPbp4apOG6T/I7MthGpi6VOorxckn954f8As2/tzXnxQ/Yq1H4q67pdrDcab9pc2cD7VlWJiMAnucV69+zn8a7b9of4LeHvGEFt9gGvWxuPsjSB3gG5lwcf7ufxr4A/Zn+GGlfEz/gj7rratDLN/YMt/eWeyQpskyeTjqPY113whk0/9jn/AIJQwfEfwtBPD4p8RaUkE07TM6q7SyKHVScKQvpXwWB4ixkJRlX1gqXO31ufo+Z8LYCXtI4VWm63JFdEu3/BPv8AGr2bXQg+1Qeec/u/MG7j2qZ7mKKQK7qhboGYDd9K/LX+xfAV/wDAb+1NO074tH4rm1GoWuura3JE93w4XPTyyeK6j9pjx/4z+LPwp/Zxn1a81Xw34l1jWY7K+kTME4bIUuR1z3rqjxnanKU6eujVnfR6a+Zwz4Ek6kIwqaNtO6s00r3S6o/SCG/tbq5eGG6t5po/vRxyqzr9QDmmw6paXFw0UdzBJKh2siSqzKfQgV+d37a/7NNj+zV8dvhUfAOra74fufF942napOl/IzXKHG5jk/eOTzWx+0h8B9J/Ym/al+C+reB7zWLL/hJ9UnsdWilvZJlvVGzlgxPUsT+VbPifF05yjVpWUJKMtf5trEQ4SwdWMZUa+s4uUfd35d7/AKH6BJHvkC85YgCvl3x7+2Z438dfG3XvAvwe8LWXiS48L4XVdQvpxDawyf8APIE/xdq+n5ZMfMMjuMdq+c/ib8VPh1+wFLq6aBpLXPjDxnIbr+ytOBmuNQmbo7jnaM969jO6lVUlJVPZw+0+vovM8Lh6lhZ1pRnR9rP7K+zvq5eRr/sYftg3P7RzeI/D/iLQZPDHjfwXcC11bT2bcMno6nup5r3XtXzR/wAE/v2f/E/g/VfGPxI8eRi18ZfEa6F3NZLwLCBf9XGR/eA619L9K0yCriKmAhPFX5vPe3S/mc/EdPB08wnDA/B5apPql5X2CkxSgZpdhr3I7angSgmxMYopdho2Gq0Eo2Eo249aXYacwyKVx8iZgfExc/DnX/8Arwl/9Br9Gf8AglwNv7BXw3H/AFDP/Z2r86PiWMfDnXv+vCX/ANBr9GP+CXf/ACYb8OP+wb/7O1fhHi3/AL1R9D+gvBmKjhK9v5j36iiivyA/agooooAKKKKACiiigAooooAKKKKACiiigAooooAKKKKACiiigAooooAKKKKACiiigAooooAKKKKACvzM/wCCuH/J+fw//wCxal/9HvX6Z1+Zf/BXL/k/TwB/2LMv/o56+j4RinnOHv8AzHzPGTtkuI/wnm5OaKKK/rLlR/HV2FFFFHIh3YoIApdw9KbRT5UF2O3gUDDsB2PFNpY/9YPrSkrLQFq7Hzt+zd+11rHxp/ap+KPgS9srOz03wM0a290jfO+5lGW7Ywa6v9mb9rOy/aO1fxhZW+n/AGA+EtTOmlmnV/tRGfnUDtxXzL+x14JsviR+3n+0xoOqRvJp2rLHBOschRipaPoRyOlZn/BMH4A+FvDHxA+Lfin7FcyXngjXJhYjz3IEaq3ykZw3TvX5vgM8x0alGM9YydTmflF/ofqeacN5coYh07xcI0uVJaXklf739x+gd5qVvp5QT3EEDSHCrJKqkn2BPNOmuUt490jLGucZdgo/Ovy8+DnxD8FftPWPiHxn8U9L+IXiHWNWv547EaZBO1ppUSsRGkRTjIGK3LH4m+Mm/wCCd3xm0DW4/EcVr4ZuoW8O6jqUbxXM1o8g2qS3OV2j86648Yrlc+TRxbVnd6d+x51XgCV1BVNVKKldW3093ufpCNbsRMsbXtokj5Ko06gt9BnmnSazaQXXkSXVvHPz+6eUB/y61+dHx4/ZX0zwz/wTSs/igNX1yfx/YafaajFqrXsm5CZkXywucbcGrPx//Zl02z/YCh+Lcur67L8RYdOt9WbVvtsm55WwSuM4C01xTi/evRXuxU9/sv8AUUOC8G+RKv8AFNw+H7S/TzP0XPymvAv2tf2w774K+PvDHgTwhov/AAlPj3xYHe1sfMCQ28a9ZZX7D/A16b+z34pvPGvwJ8HatqEhmvdT0W0uriQ9ZJHhVmP4kmuO+Otn8Lfgn4sHxd8XLbWet6ZamwtbtnJmmDZ/dRr/ABEk9vWvezKtWng41aE1BOzbfSL3+Z85lOHoUswlRxFN1GrqMV1ktvkcP8C/2zvGcH7Qdr8Lvit4QtvDevavbvdaVd2VyJ7a7VRkrkdDgV9MhgfWvj74FeF/E/7W/wC1Vpfxk17Sbjw74S8NW8sHh2zuU2z3hdSPNYdhg5r6/j559ax4axFerQk6snJcz5W9G49GdHFNPC0sRCNCKjLlXPFapS6odRRRX0p8ynYM0ZoooHzBmlGKSigOYDya98/4IZ/8fvxr/wCxrb/0WleB/wAQ+te+f8ENP+P341/9jW3/AKLSvyLxbS+qUf8AF+h+x+DH++4n/CvzP0Aooor8GP6GCiiigAooooAKKKKACiiigAooooAKKKKACiiigAooooAKKKKACiiigAooooAKKKKACiiigAooooAKKKKACiiigAooooAKKKKACiiigBr1+N3iAY/bB+N//YwJ/wCgV+yMnSvyk+Nv7En7QOk/tNfEbXfCngGw1/RvFOrC7tp5NXhtyUCgdGOfzx0r63grNMNl+ZxxWKdopM+O46yjE5llU8LhFebaMMnimVMf2U/2p8f8ki0r/wAKG3/xpv8Awyp+1N/0SbR//B/BX7WvEnI/+fj+4/Bf+IZZ+/8Al2vvI6Kk/wCGVf2pv+iT6P8A+D+Cj/hlX9qb/ok+j/8Ag/gp/wDESsk/5+P7g/4hjn//AD7X3kdJnFS/8Mq/tTf9En0f/wAH8FH/AAyp+1N/0SfR/wDwfwU/+Ik5J/z8f3Cfhjn/APz7X3kW6sj4g6JL4o8Ba1plvs8/UbGa1jLnChnQqCfbmtz/AIZV/am/6JPo/wD4P4KP+GVf2pv+iT6P/wCD+Csq3iJkVWm6cqjs1bbuXR8OOIaVSNWNNXTT+4+YP2Xv2ItY+FX7CutfCzX9Sszf6qt0hubTLIvmklcAjtmsf4E/sZeObn9lXV/g58Sr7Qbrw5BbC00W701CLiPDs4kfPGQSK+t/+GVf2pv+iT6P/wCD+ClT9lX9qbd/ySfR/wDwfw14EOIeGIyi1UlpFwt0cX3Pop8PcWyc26cbymp9NJLqux8daR8Gv2n9H8Ax/Dq38TeDoNCgiFlD4lWOT+04bYHjAzt3gcZrqfjz+xNr3j9/g9HYa6NQHw81SK+1C71KRnuL4Kck5/vGvp//AIZW/al/6JNo/wD4P4aP+GVv2pf+iTaP/wCD+GiOfcMqDhKrJ7Wv0t0Rq8j4r9oqlOjCL1vZJXbVm2fPH7ZP7LmuftB/E/4Z61pN3YW9r4N1M3l2lwTvkQ4wEx34pf2xv2WdZ/aN+I3wt1fTbuwtLfwRq0t9eLOSGmRtmAvv8v619Bf8Mq/tTf8ARJ9H/wDB/BR/wyp+1N/0SbR//B/BXVPizhqampTfvtN/LY4KXCnFcPZ2gv3cZRXpLchUKWGe3HWvhiH9jT9oLwn+0p4q8f6Tr3ge+vNdlZbSXVInuHsIA3yomfucccV92/8ADKv7U3/RJ9H/APB/BR/wyr+1N/0SfR//AAfwU804v4ex3I6laScHdW0Iyng7iXL41IUqMGqm90np2PH/ANmPSfjDpV7q7fFLVPDGoQyxoLJdJhMZRsksWz+Fethhipf+GVf2pv8Aok+j/wDg/go/4ZV/am/6JPo//g/grqwnHWRUIKCrSfrqcOM8P+IMRV9q6MY+UdEMRhTgc0+P9lX9qbP/ACSbR/8AwfwU/wD4ZW/al/6JNo//AIP4a7V4j5Ht7R/ccv8AxDTP/wDn2vvId1G4VK/7Kv7Uu3/kk2j/APhQQ0z/AIZW/al/6JNo/wD4UENV/wAREyXrV/ApeGef/wDPtfeN3UnmD1p//DK37Uv/AESbR/8AwoIaaf2VP2pf+iT6R/4UENP/AIiNkXSr+An4Z5+v+Xa+8wfidz8ONf8AT7BL/wCg1+jP/BLr/kwz4cf9gz/2dq/PvXf2PP2ofEGgX1hN8K9JiS8geEsuvwkjcMZr9JP2DvhfrXwY/ZK8FeGfENstnrOk2PlXUCuHEb7icbhwetflfiFnmDzOrSq4SV0lqfr3htw9jsqo1YY2PK5NWPXqKKK/OD9NCiiigAooooAKKKKACiiigAooooAKKKKACiiigAooooAKKKKACiiigAooooAKKKKACiiigAooooAK/Mv/AIK5nH7enw//AOxZl/8ARz1+mhr8/P8Agqj+yl8WPjF+0p4S8W/DvwrbeI7bSdFksbgTX8drscyMw+8cngjtXscP4yGFzKjiKukYyuzweJ8HVxeV1sPQV5yjoeDZoqQfsqftSqv/ACSjST/3HoKP+GVv2pP+iT6T/wCD6Cv6E/4iRkX/AD8/A/m9eGef2/hfiMVd1L5dOH7K37UmP+ST6V/4PoKP+GVv2pP+iUaX/wCD6Cj/AIiPkf8Az9/A0/4hln3/AD6/Eb5dHl07/hlb9qT/AKJRpX/g+hpf+GVf2pf+iUaR/wCFBD/hR/xEbI/+fv4B/wAQyz7/AJ9fiM8uhRtcfWn/APDKv7Uv/RKNI/8ACgh/wo/4ZU/al/6JRpH/AIUEP+FL/iI2RvT2v4D/AOIZZ9/z6/E+cf2ZP2Rte+Cf7XPxS8eX99Yz6X42ZDaRQ582PaVPzZ47GsL9nz9lH4jfs9/tDeK57PUvD2ofDvxvqEl9fRTRH7bDuB4U9O9fVX/DKf7Un/RKNI/8H8P+FH/DKf7Un/RKNI/8H8P+FeCuIuGFGCjUa5G2rf3t/vPpHw7xZKVRzpRfPGMXf+7tbzR8d+Dv2ZPjb+yTq2v6P8JdU8Laj4J1u+lvrWz1tXEmkPIdzBCp+YAk4zXSeKf2NfHHi/8AY08Z+Dda8ZSeI/GPjGdLqW6vZGFpZneG8qJf4UAHbrX1B/wyn+1J/wBEo0j/AMH8P+FH/DKf7Un/AESjSP8Awfw/4VhDO+FoxcHVk42aS1sk97G0sj4slJVPYw5k03KyvK213Y+evjJ+ytr3xD/4J/v8K7S60+PXG0q3slmdiIA8ciMxz1xhTTvjB+ynrXjz9hH/AIVfZ3limtDSobA3EhPkFkABPrjivoP/AIZT/ak/6JRpH/g/h/wo/wCGU/2pP+iUaR/4P4f8K65cT8My5r1H70VB77I4qXCvFVPktTXuzc1t8TOS+Cvgm5+G/wAH/DHh+7aKS70TS7exmeM5R2jjVCR7ZFfNf7a/7HPxY+PX7Rvhvxd4Z1fwoNG8JwZsdO1eMzRG4Od0jR42k/dxnpivsH/hlP8Aak/6JRpH/g/h/wAKP+GU/wBqT/olGkf+D+H/AAqsx4r4cxuFjhKlaSjG1rb6bGWWcHcTYHGTxtKjFyle99VrvofOnwb8KftJ6b4+0tvGXiHwDc+F45P9NgsLYpO0eOicYHOK+hlO5j6Z4qX/AIZT/ak/6JRpH/g/h/wpf+GVP2pP+iUaR/4P4f8ACuzBcc5Fhociryl5vVnJmPAGf4uoqjw8IW/lsl+Azy6PLp//AAyr+1L/ANEo0j/woIf8KP8AhlX9qX/olGkf+FBD/hXb/wARGyP/AJ+/gcP/ABDLPv8An1+Izy6PLp//AAyr+1L/ANEo0j/woIf8KP8AhlX9qX/olGkf+FBD/hR/xEbI/wDn7+Af8Qyz7/n1+Izy6PLp/wDwyr+1L/0SjSP/AAoIf8KP+GVf2pf+iUaR/wCFBD/hR/xEbI/+fv4B/wAQyz7/AJ9fiRYw4+te+f8ABDT/AI/vjX/2Nbf+i0rwf/hlb9qXf/ySjRv/AAfw/wCFfVH/AAR9/Zp+If7PuifEK4+ImhW+g6j4n1r+0IbeG7W4G0xoDyvuCPwr888QuJ8vzTDU4YOfM4vX7j9I8NOFMxynE1qmNhyqSsvvPtCiiivyY/YgooooAKKKKACiiigAooooAKKKKACiiigAooooAKKKKACiiigAooooAKKKKACiiigAooooAKKKKACiiigAooooAKKKKACiiigAooooAbIcCvyD+NHxi+K/jD9q74pabpvxP8R+H9K8P6wLe1trdwURCgOBnp/9ev18k+7X44eJ/wDk8P43/wDYfT/0CvruCMuw2OzWGHxUeaLT0PjOPs0xWX5NUxODnyzTWunfzI/7c+MA/wCa1+MPwcf405dd+MXf43eMl/4EK06kr94/1ByP/nz+L/zP57/4iHxD/wBBD+5f5GT/AG78Yf8AouHjL/vqj+3fjD/0XDxl/wB9VrUUf6g5H/z4/Fi/4iHxD/0Ev7l/kZP9u/GH/ouHjL/vqj+3vjD/ANFv8Zf99VrUUf6g5H/z4/FjXiJxCv8AmIf3L/Iyf7d+MP8A0XDxl/31SHXvjCP+a3+Mj/wKtes3xrrR8M+CdY1QJ5jabZy3QjJwHKIWAP5VlW4HyClTdWdHRa7v/M3o8f8AEdapGlTxD5pOy0j/AJEP9v8Axi2/8lu8ZZ9N4oXxD8Yw3/JbPGX/AH2P8a8J/Zu/boHxW/Y61L4p6zpiWsek+e01pA43SCMkcE9yBXr/AOz/APF6y/aC+D2heMNNhe1tNet/tEUEjhpIhuZcNj/drjw3C/DNfl9lTV2r2u9u53Yzizi3Cqcq1V2hLlbtF69tja/4SX4xf9Fr8Zf99D/Gg+JPjF/0Wvxl/wB9j/Grq6jF9q8nz4DLn/ViQbvy61OrqHCvIquxwqscbvpXof6jZF/z5X3v/M8//iIPEdk/bv7l/kY//CQfGP8A6LZ4y/77H+NH/CQfGP8A6LZ4y/77H+NaiX0c8xjSWF3X7yq4LL9RS2uoQ3MrLHNG7rwVVgSv1rP/AFHyD/n0vvf+Y4+IHEb/AOX7t/hX+Rlf8JB8Y/8AotnjL/vsf40o1/4x4/5Lb4y+m8VsHlsDqa+X/wBrX/gqR4E/Z4tf7O0vULbxF4q+1LaHToW/498thix7Y9K48fwtw1goe0xNNRXqztyzjDirMK3sMJWcn6R0/A+iRr3xhz/yW/xkP+BUv9u/GH/ouHjL/vqrOkXrajo1rdMMNcwRykehZQ39atx/dzXfT4EyKUVL2G/mzz34icRJ2eIf3L/IyX134w4/5Lh4y/76pv8Abvxh/wCi4eMv++q2qKr/AFByP/nx+LF/xEXiH/oIf3L/ACMZdd+MGf8Akt/jL/vqnf238X/+i3+Mv++q16Kf+oOR/wDPj8WS/ETiF/8AMQ/uX+RkHW/i/j/kt3jL/vqk/tj4un/mt3jP/vutiil/qDkf/Pj8WNeInEK/5iH9y/yOV8ZeJvjBpHhTUb2P42+My1nbvNgyYB2jNfp5/wAE8PGuq/EP9jPwDrOt39xqeqX2nh7i6nP7yZtzDJ/IV+aXxMP/ABbXxD/2D5v/AEGv0Z/4Jff8mHfDb/sGD/0Jq/IvEXI8HltalDBw5U0z9n8M+IMbmmHqyxs+ZprX/hj36iiivzY/TwooooAKKKKACiiigAooooAKKKKACiiigAooooAKKKKACiiigAooooAKKKKACiiigAooooAKKKKAA9K/OX/grb8W/Hvh/wDaw8EeFvCvjTWPCthqGgyXlwLJ8CSRZnAJH0xX6NV+Zf8AwVz/AOT+/h3/ANivN/6PevZ4ew1LEZlRoVleMnqjw+JcVVwuV1sRRdpRjdM8jXX/AIv4/wCS0+Mf+/g/xpf7f+L/AP0Wrxj/AN/F/wAa06K/or/iHuQPX6uvvl/mfzOvEbiH/oIf3R/yMs6/8YD/AM1r8Zf9/B/jR/b/AMYR/wA1s8Y/9/B/jWpRT/4h9kC2w6++X+ZP/EROIf8AoIf3R/yMweIPjCP+a2eMv+/i/wCNH/CQfGH/AKLb4z/7+LWnRR/xD/Iv+fC++X+Yv+Ih8Q/9BD+6P+Rmf8JB8YR/zWzxn/38Wk/4SL4w/wDRa/Gv/fYrUpU5cfWl/wAQ/wAj/wCfC++X+Y/+Ih8Q/wDQS/uj/kZX/CRfGH/otfjT/v4tH/CRfGH/AKLX41/77FeJ/s8/th3nxt/ai+I3gJ9NtrC08BlR9qDc3AJAyfQ/MPyrsf2c/wBqfSP2j9S8W2ul2s9m/hHUTp05mkU+ew/iUDtxXlUOGeGK3KqdJXk2lrLpv1PXxPEvF+H53Vqu0Um2lF6S26Hd/wDCRfGH/otfjX/vsUf8JF8Yf+i1+Nf++xVy7v47KYJJNDHu6b3Ck1LcSC1j3O6hBg7s8fnXox4E4floqK++X+Z4/wDxEPiL/n+//AY/5Gd/wkXxh/6LX41/77FIfEnxhH/Na/Gv/fa1oNfxRzqhuINzj5RvHzfSny3UUMoje4gWQ9ELgMfwofAmQLeivvl/mXHxA4je1eX/AIDH/Iy/+El+MP8A0Wvxr/32tKPEnxhP/Na/Gv8A32tapb5fWvJP2lP21/AX7K+lXb+JtatYNVgtvtNvpu7M9znIUAe5FYYrgzh3DQdWvSjGK6ty/wAzfB8b8T4qqqGGrSlJ9FGP+R6P/wAJF8Yf+i1+NP8Av4tB8RfGEf8ANa/Gv/fYrhf2Qf2jF/ar+BOleNk04aWuqSSqLcPv2hTgHPvXp1aYbgjh7EUo16NFOMtVrL/MzxXHfEuGryw9au1KLs1aOj+4yf8AhJfjD/0Wvxr/AN9rR/wkvxh/6LX41/77WtagcmtXwDka/wCXC++X+ZmvELiH/oJf3R/yMn/hJfjD/wBFr8a/99rR/wAJL8Yf+i1+Nf8Avta2dgo2Cj/UDI/+fC++X+Yf8RC4h/6CX90f8jG/4SX4w/8ARa/Gv/fa0f8ACS/GH/otfjX/AL7WtnYKawwaa4AyP/nwvvl/mH/EQuIV/wAxL+6P+RkDxL8Ye/xr8a9f+egr6u/4IrfFrxh8S9F+J1r4u8T6n4ol0DxB9htbi+fc6xrEhx+ZNfMxGcfWvev+CE/3PjT/ANjY3/omOvznxG4by7LcLSngqfK3Kz1eunmfpvhhxRmeZ4utSx1XnUYprRK2vkfoHRRRX5GftAUUUUAFFFFABRRRQAUUUUAFFFFABRRRQAUUUUAFFFFABRRRQAUUUUAFFFFABRRRQAUUUUAFFFFABRRRQAUUUUAFFFFABRRRQAUUUUANk+7X44eJ/wDk8P43/wDYfT/0Cv2Qf7tfjd4oP/GYnxv/AOxgT/0CvvPDf/keQ9Gfnnii/wDjH6nqvzNKpKjzUlf03c/lYKKKKYBRRRQAVzvxgXd8H/Ff/YIuv/RTV0VZPj/Q5vFHgHXNMtiouNRsJraIscAM6FRn8TXDmUJTwlSEVduL/I78rnCGMpTnspK/3n5vfsyfC+w+K/8AwR48QfbrjUbb+wXvr2D7JcND5jhm4fH3l9jXZfAm7tP2Mv8AgljH8S9Bn1m417X9JjgEdzdtPb2krSyKHijPCYAJ47161+yp+w/4l+Ff7C/iL4Xa5dafDquspcxpPBIZIk8wkg9M9/SqPwM/ZB8f6z+yNqfwb+JMegW2j2NkLXR9Q06Yyyu4kd1dwRxgkfgTX5rTyjE0/ZyVOXO6LSdnpLz7H6ri89wtV1Yyqp01XTavvDuu+u9j54l0fwXN8Dx4n0/xz8X3+Lf2T+0or7yLpraW6A3iHywu0xk/L+NdN+0t8ZvGvxm+E/7Ot9/aOq+EvE+v6uljeyxhoGD52lzGeDzzgjFeraB4G/ac0j4ep8PorLwNBZ28QsYPFYuP3scA43eVt3b9vt6V0Xx7/Yw8UfEK7+DC2WrwaifAOpxXmp3l62yS52kFmAA71gsvxjov2MZpNRTVmru+r1/M3WaZeq0XVlB2c2nzKVlbRaKyXZPVHhP7Y37O99+yd8cfhmvgPxz4zsbvxvetpuqz3motc+aDjc4DcBiD+Fbvx9+Csf7Df7Ufwd1Twf4m8XTR+LtUm03WLbUNTe4iu8bPmKnjJL/pXvP7av7MfiD9oP4rfC7V9Gks47Twfqpvb4zybWZDjhBjk8U79tn9mbXv2gPiT8KdV0R7FbbwXrUl/f8AnyFWMbbPu8cn5TXdXyOpTqVqlKEtJw5d9tL2ODB59TnToU6842lTqc+2/wBm/wCh9ARHnPT0r4N/4LIfBPwd4R+BWn65pfhnSNP1u68QW/n30NuqTS7nBYlupzX3jvB9q+fP+Ci/7MfiH9qn4NaboXhx7Bbu11aG8k+1SFFKIQTggHnivquKsK6+V1IRjzS0tprufH8G4yGGzenNz5Y6310tbqe5+E1/4pbTM/8APnB/6LWtEDFVtCtzp+gWFvJgS29tFE+OeVQA/qKteYP736V71CVqUV5I+YrOLqSafViUUvmD+9+lHmD+9+lbcxn7vcSil8wf3v0o8wf3v0o5g93uJQOtL5n+1+lIJM96OYPd7mH8Tjj4ba//ANeEv/oNfoz/AMEuzn9gz4bf9gz/ANnavzk+KHHw31/n/lwl/wDQTX6Nf8Euv+TDPht/2DP/AGdq/CfFuSeJoryZ/QHgxf6riH/eX5H0BRRRX5AftYUUUUAFFFFABRRRQAUUUUAFFFFABRRRQAUUUUAFFFFABRRRQAUUUUAFFFFABRRRQAUUUUAFFFFABX5l/wDBXP8A5P6+Hf8A2K83/o96/TSvzL/4K6f8n9fDv/sV5v8A0e9fQcK/8jfD/wCI+a4x/wCRJif8LPN6KKK/rc/jgKKQnFG4UyeYWik3CjcKA5xaVOXH1pu4U5DtcE9M81Mvhdiou71PgP8AY58F2/xE/bz/AGmdDvJbqC01VI7eV7WUxTKpeM5Vxyp46iqX/BL/AOAHh/wn8Svip4ma+8QyXHgrXJVtYjqLmKdVVj+9Q8SHjqa97/ZW/ZL8QfBr9rz4q+OtWlsTpPjR0NikMhaVQCpO8YGOnvXP/s4/sy/Ez4BftDeNIxF4d1L4eeONSe9urhp2F1ArZGAmOTg1+T4HKq8Fh61SlJtSqdHpd6N+XmfsmNznDzeIo060bSjS0utUkuZLz8j5s+FHxM8Iftew+I/GnxR8SfEmPUr++mh0mx0OOdLTSYEYiPBjG1m9a3dN/aB8Yar/AME9vjJoupXniIyeCrqCPRNbvIpLW5vrOSQbMk4JYbeTnvXrXw7/AGcPjX+xre65oHw207wj4s8Gatey3th/alx5E+lGUklWBU7wM9q6fxd+yL8QvG/7E3jXwlrviGw1zxv4vlW4HHlWdiA4YQxnGdoweo71z4fLMfyytGaqcslLR2bfn18rHRicxy72sG3B03KPL7yvFLyS0Xe589/Hj9nC78Jf8E8LH4uf8Jv4yn8faZYWmoR3X9pOtuoMqL5YiGFxhj1z75q78e/2er2z/YZs/jJdeOPGcvxChsrfVZLpNSZLdmbBMYhXChfpX0f8bv2XfEfxA/4J6zfC+x+w/wDCQnSbayRpJNsPmRyIzZb6Kan+MP7MHiPx5+wEvw1s3sV8Q/2TBZEySnyd6AZ+bHt6V2VchqJ1Uoy0pRtv8fX5nn0OIqbdBOcda0lLb+H0+R6t8BPFNz43+CHhHWL2Qy3mp6Pa3M74xvd4lJOPqa8//bc+B/g/xn8B/G+u6t4a0bUdZs9CnMF7PbB54SqkrtbqME16D8CfBd38Ofgx4W0HUDGb7SNLt7O4MZym+ONVO09xkUnx58GXnxH+CXivQNPMQvtZ0ua0g81sJvZcDJr7TGUJ1cqlCcby5NrdbHwmCxUMPnCnSfLFVN+lub8jxH/gj2Nv7BfhUek1x/6EK+m68a/YF+Ausfs0/sw6H4R197Z9U095XlNu+6M7iDwe9ey1tw9SnSy2hTmrNRV0Y8R1qdXNcRVpu6lNtNBRRRXtniXDdRuoooC4bqKKKAuCjJr3n/ghMfk+NX/Y2t/6JjrwdPvV7x/wQm+78av+xtb/ANEx1+ReLf8AudH/ABP8j9m8Gv8Afa/+FfmfoHRRRX4Kf0MFFFFABRRRQAUUUUAFFFFABRRRQAUUUUAFFFFABRRRQAUUUUAFFFFABRRRQAUUUUAFFFFABRRRQAUUUUAFFFFABRRRQAUUUUAFFFFADZM7eK/Jb41fsqfHTw7+1N8TNX0H4ZXniHR/EurC7tbpJ1QMoUAHGfrX61EZFBTmu7LszxOArrE4V2kjz80yrDZjh3hcXHmgz8ff+FFftFf9EW1D/wACl/xqT/hRn7RX/RFtQ/8AAtf8a/X+ivqv+IiZ5/z9/BHyX/ENcg/58/iz8gP+FGftFf8ARFtQ/wDAtf8AGj/hRn7RX/RFtQ/8C1/xr9f6Kf8AxEXPP+fv4If/ABDXIP8Anz+LPyA/4UZ+0V/0RbUP/Atf8aP+FGftFf8ARFtQ/wDAtf8AGv1/oo/4iLnn/P38EH/ENcg/58/iz8gP+FGftFf9EW1D/wAC1/xoPwM/aKx/yRbUP/Apf8a/X+il/wARFzz/AJ+/gg/4hrkH/Pn8WfkAvwM/aJ/6ItqP/gWv+NKfgZ+0T/0RbUP/AALX/Gv1+pBmj/iImef8/fwQLw1yBK3sfxZ+QB+BX7RJ/wCaLah/4Fr/AI0n/CiP2if+iLah/wCBa/41+wNFH/ERM8/5+/ghf8Q04f8A+fP4s/ID/hRH7RH/AERbUP8AwLX/ABpD8B/2iCf+SLah/wCBa/41+v8Az7Uc+1L/AIiHnn/P38EV/wAQ24f/AOfP4s/H/wD4UV+0SP8Ami2of+BS/wCNH/Cif2ic/wDJFtR/8Cl/xr9gaKP+Ih55/wA/fwRP/ENOH/8Anz+LPx//AOFFftEn/mi2of8AgWv+NH/Cif2if+iK6h/4Fr/jX7AUU/8AiImeL/l7+CF/xDPh/wD58fiz8f8A/hRP7RP/AERXUP8AwLX/ABo/4UT+0T/0RXUP/Atf8a/YCin/AMRFzz/n7+CH/wAQz4f/AOfH4s/H/wD4UT+0T/0RXUP/AALX/Gj/AIUT+0T/ANEV1D/wLX/Gv2Aoo/4iLnn/AD9/BB/xDPh//nx+LPx//wCFE/tE/wDRFtQ/8C1/xpR8Cf2iR/zRa/8A/Atf8a/X+ij/AIiLnn/P38EL/iGfD/8Az5/Fn45+Jf2c/wBojxF4a1CwPwYv0+227wB/ta/LuGM9a/Sj9gH4caz8Jf2QfA3h7xBZPp+saXYeVdW7nJibcxx+tex9aXpXz+cZ/jc0nGeMldxVtj6PJeHsDlMJU8FDlUnd6hRRRXjHthRRRQAUUUUAFFFFABRRRQAUUUUAFFFFABRRRQAUUUUAFFFFABRRRQAUUUUAFFFFABRRRQAUUUUABOK/PT/gq3+zf8UPiP8AtUeC/FvgXwdceKrDS9DksrkRyKgjdpWbqT6EV+hdN2V0YTFVMNWjXou0o7HNjMJSxVGWHrq8ZaNH5Dn4E/tDH/mi2of+Bi/40n/Cif2h/wDoi9//AOBa/wCNfr3RX1//ABETPP8An7+CPj/+Ic5B/wA+PxZ+QE3wI/aJzx8Fr/8A8C1/xpn/AAon9or/AKItf/8AgWv+NfsFRR/xEPPP+fv4Ih+GuQN39j+LPx9/4UT+0V/0Ra//APAtf8aP+FE/tFf9EWv/APwLX/Gv2Coo/wCIh55/z9/BC/4hpkH/AD5/Fn4/D4EftFf9EXv/APwLX/Gl/wCFF/tF/wDRF77/AMC1/wAa/YCij/iIeef8/fwQv+IZ5B/z5/Fn4/j4E/tFj/mi9/8A+Ba/40g+BP7RQb/ki9//AOBa/wCNfsDSc+1S/ELPP+f34IS8MuHl/wAufxZ+QP8Awor9ov8A6Ivff+Ba/wCNH/Cif2i8f8kXvv8AwLX/ABr9fufajn2p/wDEQ88/5/fgjT/iG2Qf8+fxZ+QB+BH7Rbf80Xvv/Atf8aT/AIUT+0YB/wAkXvv/AALX/Gv2A59qUUf8RDz3/n9+CI/4hnw/v7H8Wfj+PgV+0YP+aL33/gWv+NH/AAor9osj/ki99/4Fr/jX7AUUf8RCz3/n9+CD/iGfD/8Az5/Fn4/j4FftFj/mi99/4Fr/AI0f8KL/AGi/+iL33/gWv+NfsBRT/wCIh55/z9/BB/xDPh9f8ufxZ+P/APwov9ov/oi99/4Fr/jR/wAKL/aL/wCiL33/AIFr/jX7AUUf8RDzz/n9+CD/AIhnkH/Pn8Wfj/8A8KL/AGi/+iL33/gWv+NH/Ci/2i/+iL33/gWv+NfsBRR/xEPPP+f34IP+IZ5B/wA+fxZ+P/8Awov9ov8A6Ivff+Ba/wCNH/Ci/wBov/oi99/4Fr/jX7AUUf8AEQ88/wCf34IP+IZ5B/z5/Fn4/n4G/tFr/wA0W1D/AMC0/wAa+qv+CNv7Pvjz4HeHviLceO/Dc/hq78Sa79vt7eVw2UMSAkEe4NfapGRQq7V9a8jN+J8wzOnGnjJ8yTuj2cl4Uy7KasquChyuSs9RaKKK+fPpQooooAKKKKACiiigAooooAKKKKACiiigAooooAKKKKACiiigAooooAKKKKACiiigAooooAKKKKACiiigAooooAKKKKACiiigAooooAKKKKACiiigAooooAKKKKACiiigAooooAKKKKACiiigAooooAKKKKACiiigAooooAKKKKACiiigAooooAKKKKACiiigAooooAKKKKACiiigAooooAKKKKACiiigAooooAKKKKACiiigAooooAKKKKACiiigAooooAKKKKACiiigAooooAKKKKACiiigAooooAKKKKACiiigAooooAKKKKACiiigAooooAKKKKACiiigAooooAKKKKACiiigAooooAKKKKACiiigAooooAKKKKACiiigAooooAKKKKACiiigAooooAKKKKACiiigAooooAKKKKACiiigAooooAKKKKACiiigAooooAKKKKACiiigAooooAKKKKACiiigAooooAKKKKACiiigAooooAKKKKACiiigAooooAKKKKACiiigAooooAKKKKACiiigAooooAKKKKACiiigAooooAKKKKACiiigAooooAKKKKACiiigAooooAKKKKACiiigAooooAKKKKACiiigAooooAKKKKACiiigAooooAKKKKACiiigAooooAKKKKACiiigAooooAKKKKACiiigAooooAKKKKACiiigAooooAKKKKACiiigAooooAKKKKACiiigAooooAKKKKACiiigAooooAKKKKACiiigAooooAKKKKACiiigAooooAKKKKACiiigAooooAKKKKACiiigAooooAKKKKACiiigAooooAKKKKACiiigAooooAKKKKACiiigAooooAKKKKACiiigAooooAKKKKACiiigAooooAKKKKACiiigAooooAKKKKACiiigAooooAKKKKACiiigAooooAKKKKACiiigAooooAKKKKACiiigAooooAKKKKACiiigAooooAKKKKACiiigAooooAKKKKACiiigAooooAKKKKACiiigAooooAKKKKACiiigAooooAKKKKACiiigAooooAKKKKACiiigAooooAKKKKACiiigAooooAKKKKACiiigAooooAKKKKACiiigAooooAKKKKACiiigAooooAKKKKACiiigArxv9ub9ufwL/wAE9fghJ8QPiHcXdr4fju4rIvbQmV/Mkzt49ODXslflt/wd4f8AKJi7/wCxksP/AGpQB92/sT/tp+C/2+fgTZfETwFNd3Hh6/mkgie5i8pyyHDcV6xdXItYi7fdUFj+Ffm5/wAGozZ/4JB+FfbVLz/0IV+j+q/8gu5/65N/I0AfI/7O3/Bbr4IftPftd6h8E/DGoatL430ya6gnhmtCkQa3fZJhvrWF+2l/wX//AGf/ANgz46Xvw88e6nrFt4hsIY55UgszIgV845/Cvxw/4Iqf8rN/jz/sJ+IP/SgVlf8ABdvQPD3iz/g4z8N6b4tFs/hi9vdHh1RbmTZC1uZSJA7ZGF25yc0AfqWP+Dsz9ksn/kN+If8AwXH/ABr7R/Yl/bm8D/t9fAa3+I3gO4uZfDVzPNAkt1H5TbomKvkHpgg18b2//BO7/gmo1vHv0j4Q7toz/wAVC/X/AL/Vxn/Bbf4yeEf+CSX/AAR+Gg/AS0s/C+n+Pbo2WkyaXcNJHEkw8yWaNyxJ3Bgc570Aex/tk/8AByV+zP8Asb+OLjwzf+I7nxPr1kxS6ttGj89bdhwVZxxuGDxU37F3/Bx9+zT+2l41tvDWm+JJvDPiC+cR2tprKeQLlicBVc8En0r4w/4Nt/8Aghl8KPiT+yJZ/Gv4ueHrbx94l8dXE0lnbamWktrK3V9u4rkb5HYMSxz296o/8HK//BDv4WfBv9lG5+OXwg8P2vgPXfBE8D39rprNHb3UDyqm9Vz8kiMysCuOhoA/dKKVZ41dCGVhkEHIIp1flf8A8Edv+Cu974j/AOCImpfFPxhBdeJdb+EVpNaakomCTagsCnYxYg4JUDnFe+f8EdP+Cx+i/wDBXnwl4t1bRvCGo+EU8J3UVrJHdXa3BuC6BsghVwOaAPtSvDf2eP8AgoN8P/2nPj54/wDhx4YnvpfEfw1lEOspNAUjjYkAbW78mvcq/Jn/AIIpf8pjf20f+v2H/wBGLQB+s1FFfIX/AAUL/wCCqUf7H/xT8K/DHwd4H1T4nfFrxnA91p2hWVwsEdvArbfOnkIO1cg9u1AH17RX5jeJ/wDgtf8AG/8AZF8b+Fv+Gj/2fIvBngrxdqUWlW+vaNrP2xbCaVsIJlK/yx0r6K/4KLf8FSdI/YV8P+D7PS/DWp+P/HnxHuEtfDHh6xkET3zsBhmcg7VGRnigD6vrm/it8XvDXwO8GzeIPFms2Og6Nbukcl5eSeXEjMcKCfc1+d3i3/gs58fP2S5dN1v9oL9m1vC3gPUrxLV9Z0PWvtz6aHOFaaMqPxwRXn3/AAcyftQeOtW/Yhn0Xw38N5Nf+GPiW10rV28YjUFRLWR5yyQGHGW3KEOcjG+gD9bNG1i28QaVb3tnMlxa3caywyocrIjDIIPoQatV8pf8EmP2gfiZ8cfgHax/EL4WS/DWDQtNsLfSXbUFuhrEJhwZQABs4VeD/er6toA8O/a5/wCCgPgH9ivxT4H0jxnNew3fxB1D+zNJEEPmB5uOG9ByK9ugl86IMO/NflJ/wcg/8nBfskf9jwP5x19J/wDBTH/grZpP/BNL4mfCrSNf8Pz6no/xDuLm3mvoJD5tiYY1ZQkYU+Yzs6qBkcmgD7Lor8xPjJ/wWX/aR+D3hO4+JF1+yxdD4PWafa57qTW/+JzHZ55nMITC/LzjsK+/P2Xf2i9A/ay+Avhn4heGJWl0TxRYx31tv+8isM7W9x0NAHX+K/EcHhDwxqGq3W77NpttJdTbRk7EUs2PwBr8+bP/AIOdv2cNTe4+yJ45vUtpngkkt9DllQOhwRkDFfdHx9/5IZ4y/wCwJef+iHr8xv8Ag2e+JHw08Mf8E99VtvFOseCLDUh4z1QmPU7i2jnK7kwSHOcdcfjQB778Fv8Ag4M+B/x3+LXh/wAG6LZ+OV1XxJex2Fq1zoc0UIkdgq7mIwBk9a+hvAv7cvgn4h/ta+Kfgvp0l63jLwfZxX2oI8JEKRyDK4fucV0Xgjx18LvGmvR2vhzUvA2qamoMscenS200y453AJkjHrXz18D/ANr/AMMeN/8AgrF8VfhRZ/DnRdL8S+FNItr288VxhPteqo6giN8IGwvbLGgD7Hor80dZ/wCDhy3tfHnxV8D6P8LdY8U/EbwV4pk8OaJ4e0q786bWVRFZrqRtmIYwWA78966z44f8FofEP7PXww+FWka18JtS1D4+/FoSjTfAlndhfsgQnLzTEEBQME8c57UAfoFmuW+LXxt8KfAjw7Fq3i/XtO8P6bNOltHcXkojR5WOFQE9zX58ax/wWt+M37J/ijQpP2kf2e5PA/gzxFfR2EXiDRNX+3x2DyMAvnoVBA55wa8X/wCDoT9pD4hS/CLR/DNj8MTqHgL+29L1Kz8XDUV8u6nJV1gEO3IyTjdmgD9krC+j1KziuIWDwzoJEYdGUjIP4ipq+dP+Cbvx/wDiR8fPg19q+I/wvm+GF1p0dvbafbvqK3g1CAQr++BCjbz2Oa+i6AOe+KXxV8PfBXwNf+JPFOr2Wh6JpkRmubu7lEccSj1Jr4G8Qf8ABzF8Ek1S4Xw14Y+JHjHSrVykmqaXokj2pA6srY+ZfcV5V/wVoS//AOCi/wDwVp+E/wCynJqV5ZfD7Trb/hJfFtvbyFP7RRBvELY/hKjFfqP8O/gz4T+Efg2z8PeGfD2jaLounwLbwWlrapHGiAYAwBzx69aAPJv2If8Agpt8Iv8AgoFo1zL8PvESXGpWGBe6Tdp5F/Zn/bibnHvX0DmvyE/4LxfAaw/4J9fGj4Vftb/Cy2h8J61pviW30TxfBpyCC31qynz80sagKWG1hnHcelfYf7Q3/BUGL4G/H39nfwZbeHF1m3+PNwsCX32ryv7NBRW3bdp39fUUAfXFUPFHiiw8FeHbzVtVuobHTdPiae5uJm2pDGoyWJ9BXN/tC/Fj/hRfwN8VeM/sn2//AIRrS5tR+y79nn+WhbbuwcZx1r8+v2rP+CmHj/8AaS/4I56b8S/BXwel12x+J3h7UTrECasEHhyBGeISFig83O0nAA6UAfox8Mvil4f+Mvgyz8ReF9VtNb0TUFLW17avvimAODg/Wugr8s/+Dab9ov4o+J/2RvAPgrV/hLJonw/07SZ5bDxd/aSyJqMgnOEEIUFfvNzn+Gv1LHSgBaKKKACiiigAooooAKKKKACiiigAooooAKKKKACiiigAooooAKKKKACiiigAooooAKKKKACiiigAooooAKKKKACiiigAooooAKKKKACiiigAooooAKKKKACiiigAooooAKKKKACiiigAooooAKKKKACiiigAooooAKKKKACiiigAooooAKKKKACiiigAooooAKKKKACiiigAooooAKKKKACiiigAr8tv+Du//lExd/8AYyWH/tSv1Jr5I/4LSf8ABOnVv+CoH7Gc3wx0XXbLw9ey6rbagLu7RnjCxbsjC85O4UAeGf8ABqTKkX/BITwrl1B/tS84J/2hX6P6ncI2m3ADoT5TdD7GvwN8Ef8ABpt+0T8NdCTS/D/7R8OjadGxZba0kuYo1J6kKOK+ov8Agl1/wQu+OX7E/wC1La+N/HPxyk8daHBYz2zaY89wwZ5FwrYfjigD87f+CKR3f8HNvjv/ALCfiD/0oFYH/BfX4UWPx2/4OHtD8GanNcW2n+KLnSNMuZYD+8jjlkKMV98Gv0r/AGCf+De7xh+yP/wVX139oPUfGuh6lpWsXeozjTIInEyLdSb1GSMZXvVz9tn/AIN+PFX7U/8AwVl8N/tE2XjXRdO0fQ9Q068fS5oZDPKttJvYAgYyaAOYtf8Agzq+AMttG3/CbfEEMyg585Otc/8A8HRn7E114P8A+CQ3w+03wz9s1PSfhDPb2kskgzIbYRLEJXx3+Tn61+y0Mfkwon91QKwvih8M9F+Mvw/1bwv4jsYdT0TW7Z7W7tpl3LKjDBFAHwV/wbD/ALVHhf48/wDBLbwb4f0vUbV9f8BedpWq2AcCa3PmNIjleu1lfg9ODWZ/wdNftUeGvgp/wSz8X+FL/UrZPEfj1oNM02w3AzTDzkeR9vXaERufXFfKXxp/4NTfib8C/jHqHif9mD4w3Hg+x1GUt9hnuZLeW2UknaHXhlGRjNO+Cf8Awak/Eb43fF7T/E/7T/xfufGVnYSB2sLa5knlugCDtMjcKp745oA9b/4NWv2YbHw5/wAEltauviDYWZ8NfEDUprp4NSwlvNagFMuSQNp9TX6Ufsy/BP4Q/BjT9Sg+FGkeEdJt7uRXvl0KSN1dgMKX2MecCuZ/af8A2Obf4mfsIeJfgz4HNn4WttQ0JtF01lUrFYrs2qcLzx7V89/8EJv+CRni3/glF4L8b6X4q8aWnjKXxVexXcMkHmf6OEQLtO/1xnigD79r8mf+CKX/ACmO/bR/6/oR/wCRFr9Zq/Km9/4I2/tNfCD9s34p/FP4OfGfwr4Rj+Jl99ouba509p3EYOVU5GOD6UAfqrmvzw/bA/bT+xf8FI7b4YfA74Q6L8Qfj1YaKtzqniDVLkWVr4dspOUV5SCTnIO1QetZtr+xz/wUIE6eZ+0n4FMe4Fh/YZ5Hcfdo/aQ/4JO/GzRP2udM/aD+CPxG0XSfiZf+H7TRfFdvq1uZLLWXhjVDKoxxnaOtAHy5/wAF5Ph5+1Ddfsd6L4g+NHjX4cWfh238Y6QsPhvw5bzO9xM0+AzTSheFBJwo7V9nf8FGP+Cdumftz6B8H77w/wDE60+Gfxj8DwwX/hW8aVGklYRqSPJJ3sue6g/SvF/2zP8Agi3+0d/wUW+C003xZ+MGjTeMtCuYb/wtpGl25g0ezuEcFnmAHzsVyAe2a9X/AGif+CUnxQ/aj+DXwk8Raj8RLTwl+0J8KVD2Wv6ZEfsExAA8p4x1U49KAPFP2iP2jP20/wBhH4W3WpfH34bfDf4+fCfTyG1i/wBGn8u5t4VI/fPBKPmx14Fdr/wW0+M/h39on/ggP/wmvhCL7P4c8RjR7rTodmwwRmdQI9vbaQV/Cn/Ff9gf9t79sb4d3Xw4+KXxb8A6R4E1VVg1abQ9OIvr+HPzKDj5dwr6G/aj/wCCV+ifG3/gmLF+zhoOqSeH9P0ywtbTTL5l3mJ7dt6u4HXLZJ+tAHoVlpvjjVf2BdFtfhveaXp3jmfwpYrpFzqQJtYZ/Ij+aQDkjGelfKmifCP/AIKSprNmb/4i/A97FZkNwsVlc72jz8wXjrjNfRH/AATf+APxw/Z2+Ht34f8AjD4/0Px3FYQ29pocun2RtmtoY1KkSZA3EjZz7V9JZoA/J/8A4OMhKvx0/ZCE5Vpx41XzCvQt+7zj8a0P+C8Xh608U/8ABQL9iCxvoY7i1l8X3heORdyttigYZH1Ar6J/4Klf8E1de/b1+IvwZ1zRfEGm6Knwx1/+2LmK6jZjdrlTtTHQ/L3rQ/4KAf8ABOrWf2wP2mv2fvHena5YaZbfB7Wp9UvLadGL3qyIihUI4BG3vQB63+3jaxH9iH4uwbEMQ8F6su0qMY+xy9q8C/4N1Gz/AMEg/hH7WDgf99mvqb9oT4ZT/GX4D+NPCVvPHa3HifQ7zSo5pOViaeF4wx9huzXnH/BMX9kPUf2E/wBirwb8LtV1O01m98MQNDJd2ylY5csSCAeaAPUPj7/yQzxl/wBgS8/9EPX4wf8ABAv/AIJBfAf9s/8AYs1bxh4/8KXWr6+/i/UrQzJfyQgojKVG0EDua/bL4leF5PG/w713RopFhl1WwntEkbohkjZQT+dfNX/BH79gLWP+CcP7MN54A1zWLHXby41+81lbi0VlQJMVwvPcYoA0/wBk/wD4JEfA39iv4mr4v+Hvhi80bXVge2817+SZdjjDDaxI6V8rfsi8/wDByf8AtH/9ivp//osV+ovQV8j/AAT/AOCdWtfC/wD4KlfFH4/XGu2FxpXj3SrfTrfTURhNbeUoG5j07UAfJv8AwQb+EWkaj/wUu/bV8azWdvLrFj43Ol287LmSCMqXYKe2SR+Ve8f8FT/+Cb9r+2j8ePh/4v8AAfxTsfhr8d/h5HNPoDyOkpvIXHzK8Od+35TlgDwTXe/8E5/+CeOs/sW/Hb4/eK9U1uw1W3+L/ir/AISC0ht0YNZJs27HzwT9Kw/+Clf/AAS78Q/tVfFrwT8W/hd45k+Hnxb+Hwlj0++ZTJaX0DjDQzJ3H+NAHyv+0h+1v+1p+wd4BGo/tO/Cj4efGb4Q2VxF/amtaHMPMsV3ACZ7eQZ465rq/wDg4K+Juh/Gz/glP8OvFXhhxJoHiHxBo19p5C7P3MjIycduCK0PjH/wTi/bH/by8Dt8PfjX8WfBGmfDu+kjGrQ+HtP23WqRKwJQtjjOK+gv2/v+CVemftXfsA6X8E/C2rf8IovhZbL+wrtkLpbtagCPeB1HyjNAHrHxa0X4j65+x5bW3wo1DRdL8fNpNmum3WrqzWkTbI928KCfu56V8m/D74Rf8FHbLx3o0viL4i/BK60CO+hbUorWyuRPJbeYvmiMkY3bN2M96+lv+CfHwd+NfwU+GVzo3xn8c6J461C2eKHTLrTbM2yxW6RhdrggbmyOtfQNAH5G/tMa9D+yL/wcs/DTxr4pcWvh34m+G/7Dt7+T5IIrvy/LCFjxy1frcGU+3tXgX/BRD/gnd4I/4KM/BgeFfFsctpe2MwutJ1a1+W60q4H3ZI26j6V8keFf2Tf+Ch3wE0geFPDPxj8AeMNAsoxb2Oqa3Zf6dHEOF35GWYDFAGX/AMHSfxFs/EH7MPw9+C+mSpd+Nfij4ysIbHToxumaCNj5kmOoUFk5+vpXPf8ABRnwjL8Of+ChP/BPbQ7jJbSdTS1c4P31hUEfXNe2/sR/8EatX8D/ALSP/C9fj/44f4r/ABbRPK052QrYaGhzkQRngHk847133/BW3/gmhqn/AAUA8I+DdU8H+Kf+EK+I/wAN9WTWfDmrFSyRSr1VgOxoA9T/AOCjus2ui/sGfFe5u7iK3gTwve7nkbaozEcc18Vf8E9M/wDEMBpv/Yjanj/wIuK0fG//AATe/a1/bZ+FOo+B/jv8WfC1r4TmtHjay8OWhhl1WXbhPPkAzszyR3r6J/ZD/wCCel18C/8Agl3pf7PPiDVoL97XRLvRrjUbQFVcTSSsHUHnjePyoA5X/g3v/wCUSXwjx0FjOMD/AK7vX2pXwt/wSk/4J8fHb/gn1JH4M8R/FHQPF3wj0i2nh0fTYrAx3tu7yB0ZpCOQAWGPevuheBQAtFFFABRRRQAUUUUAFFFFABRRRQAUUUUAFFFFABRRRQAUUUUAFFFFABRRRQAUUUUAFFFFABRRRQAUV4F/wVA/5MY8cf8Abh/6cLavyJVS7AAZJ4AFfNZzxF9Qrqj7Pmur726tdn2P2/w18G/9bcsqZl9c9jy1HC3s+e9oxle/PH+a1rdNz986K/Drwn8AvGvjqIPpHhfW9QjbpJBaO6/mBiuttv2Efi3dR7l8C6/jr81o4/pXDDiuvNXhhm/m/wD5E+qxPgBlWHlyYjPKcX2cIr86x+zFFfi3q/7F3xT0SMtceBvESgc8WUh/pXA+IvB2q+Ebowapp95p8ynBS4iKMPwNRU4uq0/jw7Xq/wD7U3wf0dsBi3bC5zCf+Gmn+VY/eKivzG/4Iuf8nR69/wBircf+ldnX6c19JlOY/XcP7fl5dWrXv+iPxbxB4N/1XzeWVe29raMZc3Ly/F0tzS29Qooor0j4gKKKKACiiigAooooAKKKKACiiigAooooAKKKKACiiigAooooAKKKKACiijNABRRRQAUUUUAFFFFABRRRQAUUUUAFFFFABRRRQAUUUUAFFFFABRRRQAUUUUAFFFFABRRRQAUUUUAIVyaTZTqKAG7M0bKdRQA3ZShdtLRQAUUUUAFFFFABRRRQAUUUUAB5puynUUAN2UpXNLRQA3ZShcUtFABTfL/e7++MU6igAooooAKKM0UAFFFFABRRRQAYooooAKKKKACiiigApAMUtFABRRRQAUUUUAFFFFABRRRQAUUUUAFFFFABRRRQAUUUUAFFFFABRRRQAUUUUAFFFFABRRRQAUUUUAeBf8FQP+TGPHH/AG4f+nC2r4u/4JQ/A+w+K/x4udQ1a0jvLHw9aG5WORdyNKWVVyO+NxOPavtH/gqB/wAmMeOP+3D/ANOFtXhX/BEi2jOlePJcDzRLapnuFw5/p+lfHZlRjVz2jGe3Lf7nJn9J8FZnWwHhVmdeg2pOs43W65o0Yv8ABn3W0UWnWjMkSKsSEhVUDgCvI/gn+3D4G+NPiC70SC/XTNes7mS2axu2CPKyMVJjPRxx259q9c1P/kG3H/XJv5Gvw2+Jd7Np/wAWfEE0Ejwyx6pcMro2GUiVsEGu/Ps3qYB05QV073X3HyfhN4d4Pi2njaOJnKE6ag4SWtm+a911Wnk/M/c8gMOma4L9o34KaV8bfhLrOjX1jbTyzWzm1dkG6GUAlWU9Qc18j/8ABN39p74v+N9TttGvNIuPE/hiM7H1S5JjazH/AF1PD4/u/e9+K+85xmB/9016GDxdLMMNzKLs9LNf1c+Q4j4ezDhDOo0JVYupBqUZQlfZ6XW8X5P8Ufmh/wAEb7F9M/az8SW8gIeHwxcowI6EXlnX6ZV+e/8AwThtYrH/AIKMfE2GDHkxaZqKpj+6L+1xX6EV5/C8eXBcvaUvzPrfHbEe34mVf+alSf3xuFFFFfRH40FFFFABRRRQAUUUUAFFFFABRRRQAUUUUAFFFFABRRRQAUUUUAFed/tZ/tG6P+yR+zn4u+I2uhpNM8KWD3kkKEB7hshUiX/aZ2VR7mvRK/OH/gtJ8R7b46/tLfAP9mmLVbWytPFuvr4n8VGWURqmmaf+9EbEnGJJdgwfSgD6B/4Jd/8ABS3SP+Clfwk1fXrbw/qPhDWfD+oNYalomokC6tD1RmHow5FdH8bP23rX4N/tnfDD4QS6Lc3l18SbW5uob9ZAI7MQnBDL1OfavjrRPiBoH7Dn/BcnTrLR9Q0z/hB/2hNGWzdbW4Ro4dUtwNnAOAWxj8a7z9uXj/gtz+yr3/4lOqc+vNAH0P8As/ftw2nx3/a/+MHwoh0S4sbj4StYLPfPIGS++1wmUbQORtxg5r3yvz5/4J1/8plf20P+uvh3/wBITX13+2V4x1L4ffsn/EnXdHunsdW0fwzqF7Z3CHDQTR27ujD6MAaAPS6K/BH/AIJV/FP9un/gr78Adau9P+OM3gXRvDeoywLrSw5vdTm5xFuHIRa9y/4I9/8ABUD41zftM/F/9mH496mut+Ovh7Z3c+ma7txLdLErcsf4sjayn0agD9fKK/KX/g25/b2+Kv7aXjj4+2nxI8V3viSHwhrsdppSz4/0WIyXAIH4Kv5Vl/sVf8FDfi38Rf8Ag4F+Lfwi1rxTfan8PPDVlez2GjkDbEyICuD1PPSgD9bq5D49/FSP4G/BnxN4xltXvYvDenS3726NtaZY1LFQemTX4O/Cf/gpv8ZP+ChP7XXxL0TxJ+0437NEfhy+ktdC0TC26XQVioDFsZIxzmvtb9nvxh+0ne/8E7fjxonx6u9D8VW2m6JeDw74q067jmbV7fY3MgTocAEZ5+agD6R/4JJ/8FPdN/4Kqfs/6r490zw1e+F7bTNVfSzbXUqyO7KoYtlSRj5q+qQc1/OB/wAEEPgr+1P+0h+wR4t0X4LfEew+FPhvRvEM9zJqKRk3uq3RiX9yGHKIoAzjqW9q+4f+Dar/AIKN/Fv9qjXfi18MfjDrUnibxD8NrsLHqko/eyL5nlsrHvzgjNAH6v0Vk+OtVv8ARPBmqXelWn2/Ure2kktbbdjz5Qp2rn3OK/NW8+FX7QHif4S6n8QPiv8AtT3/AMHfGMyXN9F4V0y5gj07R41ZvJikB5c7QuT/ALVAH6gUV+Vfhf8A4KZfEr4hf8G/fjv4w/28q/EHwjcT6dHrNkoX7Z5F3DGJlHT50Y/nXRQfAP8Aam+PX7Jlt8X7j9oTxB4I8USaENZsvDumRJ/ZibY96xzZGXLY+Y+9AH6ZVneLdfHhXwpqeqMhlXTbSW6KA8uEQtj8cV+bepf8FmvFsX/BGj4cfFu0021uPip8R5YPDlhBt/cf2k0hhebb3UMpbHvWz4u/Yp/ao+Hf7Pmq+NP+Gide8U+N49Hmu9R8NahbodEucwsZLeNMZTAJAI7igD6t/wCCfv7Z1r+3j+zrbfEGz0e40O3udQurEWs8gdwYX2Fsjjmvbwc18C/8G2c91df8EtvD0l7EIbyTW9SaeMdEkM3zAfQ5ql/wcm/tf/EH9ij/AIJ+f8Jh8NdfufDviH+2ba2+1Q/eMbsAy/jQB+g9FfiX4b8Df8FBv2oP2G9I+PVl8cW8J3f9gxavp3hazQqL+3SPd5kxHWSRRvOf71eu/sNf8F9774g/8Ee/iH8Z/HdlCfHHwlkbSNSgQBY9Qu22rA2O2WJ3f7poA/VeivxF/Zi8Cf8ABQH/AIKP/s4XHx20z49TeAF1lZb3w94XtozHBcRrkorAcANwOa9G/YA/4LQ/EH9q7/gm78e08UyJpHxm+DGl3Ud1eWyhDI6KQs4XoCGHPuKAP10or8FP+CVfxD/br/4K/fsr3uv2Xxzm8B6X4evp7WDVVi/0vWrkAN5bMOkahlWvo/8A4IQf8FQ/it8Uv2mviV+zV8eb1dZ8f/DwvPaauFAe9hR1Rw5H3v8AWIwP1oA/Vyiud+LfxJsPg78Mtf8AFWqMV03w9p8+oXJHZIkLt+gr83v2TvC37TP/AAVa+FH/AAum5+N+v/B7w54okkuPCfh7w/EipHZ7iInnYjLlgATn1oA/UOivzy/Ye/bp+KC3Hx7+CHxcvbe++KPwX0x76y161QRjWrKWB3guCo4DjbzXkX/BNTwz+1J/wU3/AGX7bxx4o+PfiX4faZFeXdnpI0JEF1qWyVl864cjJA4AX2NAH61UV+eX7C37d/xD+Dfxp+LvwO+PGrxeJNf+FWlN4isPEcaBJNX03aWDOo/jA615V8BPi58Uf+CmXw5f4t3X7Tn/AApPSdfmml8MeGdIuoI/s9qrlYmut3zMzhQxHoaAP1ior8sPAP8AwU9+Imv/APBPj9pnR9a8RWE3xY+AKGBfEmlMpi1WBwrwXS44DFdwb3rv/wDgmuf2lv2qPDvgT45eOPH11pXhA6QZrTwRaxANrX7llWW5k7sz4YD2FAH6IVmeM/Fdr4F8JalrV9vFnpVtJdzlF3MERSzYHfgGvzgf4WftCfFfwzrfjb4s/tJ6j8CdRmnnk07wzpF1BFb6bbqT5fmk8u2AM1y/7Jvx/wDiv/wUp/4JOfEQ3/xPm0rxH4D1rWdEm8S6RCn/ABUVpa71RmGMYkTGSKAPv34M/ti+Hf2jP2Vn+K/ge21HWtGltLq4srbyDHcXbwF1MYQ85LJgfWtf9lL42an+0N8DdG8Wax4V1XwVqGpqxl0fUkKXNpg4ww96/Oj/AIIffDbx38Hf+CTmo+O5PiVrWr6bJ4a1iXSdDljVbfR7iKWZhMhAySSuefU1rWf/AAVZ8ffBn/gjN8OvHzyr4r+LnxI1GPw7ojXS/JJe3E3lxu4/ur1/CgD9R6K/N7x5+xZ+1x8Kvgxc/EXT/wBpjxDrvj7SrQ6pc+Hbq3jOh3JVd726oBwOoBrjv2r/APgrX47+JH/BHn4Y/G34aTf2B408Q+KLLRtQs0Pyi4E0kE8B/wBkumfpQB+qVFfmH+1r8G/2of2f/wBlfXfj8n7RGvXHibwnpy+I73woII00KWBNsklsEx/cyNx6kVZ/4KNf8FJ/Hfh79nr9nq80LXf+FZaP8ZpbUeIPGQt/OXw5FIgJxkFVJPQnpQB+mdFfnV8HfCHx2+FPxr8Da78O/j1N+0P8OdZufs/iSx1e9hllsYCB/pEDrz68V+itABmivhv9p7wt8fvj7+1FrWjxfEi4+BHwd8PWKPaaxp8sS32v3LH5sO3KIo/OvL/+Cef7WXjjwd/wUx8X/s/ar8X/APhdnhe28O/25Za3cukl5YzD70DuvBxQB+mlFfkJ+xh8Zv2p/wDgo34++K/hPSPiTeeBPCvw88f6laXHiQRCS8u4UnPlWUP91EjwCfeu0P7UHjz9vr9o/wAeeD9D+Oy/Bn4efCG4h8Oz6jazxR6v4k1NYwZpdz8rGPbqSaAP1Hpsj+WhJ7c1+ev7BP7XvjX4V/t13X7O/wAQPiNY/Fm01zSJdb8KeJUeNrqRYeZbecpxuC5IPtX258evBWsfEX4T6zo2geIrzwnq1/btFb6taKGmsmI++oPGaAOW/Zd/bM8G/tdXXjaHwlLeyP4B8QXHhvVftEBjC3cGA4Unhl5HIr1mvx2/4IB/Anxx4P8Aix8fPEN58WdeudC8IfEbVotY0toE8rXpUVS1zKcZDHrgccV6R+z94r+Pn/BYXxj438baB8XNd+C/wm8P63c6B4es9BjX7bqskB2yXEshH3cngUAfqDXiP7df7Xw/ZA+GukahaaV/wkHiHxLrFvouj6UJNjXk8rAdfRQcmvm79hT9qH4r/Bb9u/Xf2YvjJ4gHja9/sdte8LeJ2iEdxqFsv345gOCwHOfat7xCsv7ZH/BWZNOV2l8K/s/6Z5rOvMZ1q5TIPpujUr9CKAOl/aX/AOCm2r/Cv9rLw/8ABPwN8NtW+I3j670iLXNYhs7qK3ttHtXkMe5pJGXccqxAHYV9a6XcS3emW8s0Jt5pIleSInJiYgErn2PFfjF4H/ZI+KEv/Bwp4p0gfHPxQurWngu01abVPs8fm3Fm11IRYkYx5YAxnrzXo1p8f/2mf2pP+Ch/x5+BHgHx0/hXRPDcllcS+JLiETPodsY8GK2XH+tlcg57BTQB+r1FfmR4j+LXxy/aU/axj/Zg+HnxO1Dw9b/C/RYJ/HPjwRB9S1CdsAJESMKxzyaf4z+Knxv/AOCSX7Svw6tfHnxN1b4w/CD4lakuhzXmsxqdS0S8bGwhwOUOaAP00zRX5m/Er4ufH/48f8Fh/iR8EPA3xAm8KeBbHwlperXF8iK8+kGR5g32cHjfJgcnoEriRrn7VHwT/wCCicP7Mmm/Gm88VaV4+0F9ct/FWuW6S6loEMJzMI+MFyOFz0Jz2oA/WijNfmp4W8T/ABo/YC/4KZfCj4deJ/i/r/xY8CfF2C5i2a4im5064jUkMjAfdJHSv0j1O3kudNnihkaGWSNkSUdYyQQG/CgDzTwp+174R8aftT+Jfg/ZSXjeL/Cml2+r36NCVhWCZmVCH6E5U8CuU+EH7dFn8Vf25fiJ8E00S5trz4f6Xb6nJqLSKY7oSuFChc5BGe9fnj+zp+yd8UZv+C7fxX0//hefigX2leGdK1O9vRbxCTUrVrmUrZvxwigEZHPzVci8B/FT4r/8F5vjl4T+HHi4+BYL7wtYNrviKKIS3ltAkgwsAPAd2wM9gTQB+wFFfm/8FfiF8YP2Ff8Agp74S+C/jf4p6z8WvBfxO0a4v9OutaRTfaZPDncN4HKnFYXiT9qvxv8A8FDv2rfib4Y8OfG6P4FfDb4U6mfD4ubGeKPU9evkUGZ9z8rErHaMdcUAfp7SE7RX54/sDftl+M/hT+3Vffs4fET4h2HxZttW0N/EPhLxVFIj3UscThZra52cbwGDAn0r7Q/af8BeLPih8C/EGh+BvFL+C/FOoW/l2GsrH5hsXz97b3oA8r/ZH/4KpfCz9tX48eOvh14KudVm8RfDuZrfV0ubJ4Y42V2Q7WYYb5lPSvpOv5qP+CEv7Ovxl8bf8FPfjbZeGPi0/hrU/DGss/ia8W23f8JEq3Lh1I/h3EMfxr7A/aQ/4KE/tB/8FH/+Co3iL9mv9nXxgnw28PfDuAt4g8Rxrm4lddochuoAZtoA9DQB+y9FfijoH7d/7Sf/AAR5/wCCi3w/+FHx/wDHv/C2/h18Vp0s9N1y4U/aLOV3WMNuPPyu6Ag8YbPaqX7cv/BQr9qIf8Fyz8B/g74uEOm+ILGKOytbxA9rYGSElrgjvsHzfhQB+3dFfhj+1d+0H+2H/wAEPPjn8PvE/wARfi/N8ZPhl4y1FbDUYbuM/wCiuWG5VB+4cMCMV+3XgjxTb+OPBula1ZtvtNXtIr2A+qSIHX9CKANSjNfn5+2p+078Wf2i/wDgoDpn7MfwY8SjwF9h0c+IPF/imOISXVlbE7UhgB6OzYGa4X46+Nvjt/wR8+JfgfxT4n+LGu/GP4ReKdYg0TWoddRDe6TJMwRZo3UZ2gnpQB9Pft//APBRl/2O/GPgTwZ4c8D6x8RviD8RZZV0fRtPkSLckWN8jyOQFUZFe+/CnxPq3jH4e6Tqeu6LL4d1e8t1kvNNkkEjWUp6x7hw2PUcV+Tn/BRX9mf4keJv+C0HwHj0/wCNHiPTf+Esi1S80WSO3jP/AAjkIKboYsjkNx1r9bfBGhXvhzwlptjqOoS6tf2lvHDPeyDD3TqoBkYepIJ/GgDg/GX7YPhHwN+1L4T+EF7Jef8ACXeM7K51DTkSEmFooF3Sbn6A47Vynjv9umz8Fft/eEfgS+iXU174r0OfWk1NZFEUCxEgoVznJxX55/tk/spfE7xB/wAF0/hVp9j8cfFGk3niHRtXu9KvYoIzJocKxEtBHxgqw45rZ/b70H4lL/wWq+A3hrwDr0cXjG+8B3FjceILyISG1QMwludnQvjJA9aAP1yor8w/jBqfxv8A+CXv7UvwYu9Z+NniT4reCvinrp8N6ppeuopNlMV3rNCQOB2xXS/tbftj+NP2hP29tS/Z/wDAvxMsfg/ofgfSo9W8V+JC8a307TMVitrYv909yR2oA/ReivzK+D/7VHjr9iH9ub4efDTxT8aIfjf8Pvi7cNpem6ldzxSano2oYJjV2T7yORgZ9a/S68lNvZPIql2RCyr3YgZAoAnql4k16Hwt4dv9Tud32bTraS6l2jJ2IpZsfgDX5F/B79pP4hft+/tE/FTSfFP7TGrfALW/B/iK40fRfB9i0do72yf6u5kLgGTeefoK+i/C3w0/aP8Ain+wx488J/ED4gS6B4g8OzXD6Z4w0bypJPEenLC5xIvKgtwG+tAH1h+yp+1D4Y/bE+Cmm+PfCElzJoOqtIkDXERikJRtrZU9ORXo1fl7/wAG7fwn8e+Af2AtN8ZHx5rXinSruyvE03wnNGi21tOsjYKPjOWI7+tLdfDD9oLxp8KNU+IHxb/ag1D4KeKbkXN5b+F9MuoI7HRo1LGKKTvIdoXcfc0AfqDRX5n/ALOf/BXzxFov/BFfWvjV4rubLxT4x0DVrrwvYzwjZFrd2k6w28uB/f3Bj9K0PBX7Gn7XXxE+BUXxEuv2j/EelfEXUrMataeGoLeP+xYXK747Vkxyp4Un3oA+pP8AgoL+3NafsF/DHRPEt7olzrseta3a6KsMEio0bTuED89hmveLSXzraN/76hvzr8n/APgrP8SfHnjP/gl78JNZ+LmgReEPGkfjXTF1mz3/ALuN47hQZAeytjcPrXq0/wC3f4q/4KV/tNXfwu/Z48Uw6B4J+HlxF/wmfjGBg1xNJ/z6WoPbrlx6UAfodRVLQNOfSdHtbV7ie7a2iWNp5m3STEDG5j3J6mrtABRRRQB4F/wVA/5MY8cf9uH/AKcLavlf/gjL8RItD+Lmv+H5pVT+2bLzYVJxvkjYHA99pY/hX1R/wVA/5MY8cf8Abh/6cLavzO+G3ws8caR/Yvifw+RZXF1NnT5UvI4p3IYpuVS27buBGcYr4XPa86Gb0q0I35YrRdryR/VvhRlOGzXw8x2WYmrGn7WtJRlLbmVOlJfir+lz9qb6Iz2UqL1dGUfUivjn4Nf8En9Kj8eaj4k8eXK6m9zfS3MGmwNiEKzlh5jdWPPQYH1ry/4P/tt/tA3+jwTJFoWu28iZjk1BoYGkxIY8Ah0ySykY6mu0h/4KJfGG2sdOabwT4VMmptiGNrorLjDHeyeblUwjHcQBx1rvq5nl+L5KleEtNrxdtbdtz5PLuBuMeH44jB5ViqK9pZTcasVL3b6Jys49b7PQ+2PDnhjT/CGkQ2Gl2VvYWduoSOGCMIiD2Aqr8RPFtv4E8CavrN0wW3020kuHJOOFUmvi24/b2+NniVrhNJ8NeCf3RiVZI79JEmaQMUEbedh2IRuBk8dK8X+MHxO+PP7Q/hC7h1a8iTRdiTSWME8EAlUxCYYXId8IQ2MnH1FbV+IqMKdqMJN9NNDzMo8GsyxGLjPM8VRhC6c26ilKz9L6vpdo6n/gkLrcniT9sfxZfyndLeeHLuZz6lry0Jr9Kq/Ov/gk58KNX+Gf7UWr/wBqiyjkuPC1ziKK8imkT/SrM/OqMSvXviv0Uq+F4yjgbTWt2c/jvVoVOKXLDSUoezp2a1WisFFFFfRH4yFFFFABRRRQAUUUUAFFFFABRRRQAUUUUAFFFFABRRRQAUUUUARXt2lhZSzyEiOFGkcgdABk1+TX7Kv7AfhT/grl+138b/jf8afC2qX+g22qp4W8G2V1PcWTQW1tu82VdjISHYjrX60sodSCMg8EHvUNnp0GnQ+XbwxW8eS22JAgz64FAH5N/wDBVj/giD8N/gB+yjqPxR+Avg690f4m/DS6g8SabLb6jd3Usy28iySRqkkjAkqp6Cuu8Q/FG8/ao/4KGfsTfEq10jVLe11nwpeXl8sto6f2fK6KWjkyPlIbcOcdK/TqeBLqFo5FV0YYZWGQw9CKgh0OytjF5dnax+QCItsSjywf7vHH4UAfB/8AwT48PX+m/wDBYL9sa9uLG7gs72Xw/wDZ55IWWOfbZEHYxGGx3xX0t/wUKfZ+w58Xf+xO1Uf+Ssleuwabb2tzJNHBEk02PMkVAGkx0yeprif2ofhXd/HD9nbxx4PsJoba+8T6De6XbyzZ8uOSaFo1ZsAnALDOB0oA/An/AIN2v+Ct1p/wTv8A2QvFVh488DeL9R8F3uuTT6Zrei2Ru0NxzvgkA+7z0Neyf8EbfhH8Qf8AgoF/wVV+NX7VmseE9S8IeENfsbjTdCiv4mie4DxiKMAHBO2NEyemSa+4v+CIn/BKLWf+Cbn7Kut/D/4gXfhjxbNqmtSamhtoDNAitngiVBzz6V9yaXpFrodkltZW0FpbRjCQwRiONB7KAAKAP50v+CTn7bU//BE39sz9oDwP8VPh745vZPFmtmfTJNJ015zcOs0xjA4wVkEi4IPGK77/AII6T/ED4if8HC/xR8e694H1nwe/ibRL+8tbfULV/Lg3xjylkkwBnpkA96/eHUvAGhazqyX95ouk3d9HjZcTWcckq46YYjI/OrsOh2VtfNcx2lqly4w0qxKHb6tjNAH4O/GT9oP4D/HD4pfEHwz+2x+zHH4F8ZWNzImna94T0q5VtWQZG/zUcFnJ5BJOa5n/AIIp/BP4m+F/gP8AtY3+lWnjjTvgLqWiXkXg/TdeMjXFwf3nltHGeh8vYDgDJr9+te+H+heK5UfVNF0nUpI/uNd2kcxX6FgavWui2llYi1htbeK1VdiwpGFjUegUDGKAPym/4NFPB2reCv8Agnb4uttY0u/0q6fxZcSCK8t2gkZTDHzhgDj3rzX/AINo/AOu+Ev+Cjv7V11quj6rp1te3jm3lurZ4kn/ANKU/KzABvwr9o7DR7TSIjHa21vbRtkssUYQE/QCmadolnplzJJbWttbvKPnMUSoX+pA5oA84/bdvvGemfsl/EC4+His/jSHRbh9ICrl/PCHbtB/i9K/J/8AY0+J37LUX7MGknxt4A8VfEr9ou8tJDrNh4i0u61HUrnVm3ZAMxMUce7pgAAY4r9tDzWTbeAtDs9YbUItG0qK/f71ylpGszfVwM/rQB+HvwH1mbXv+Def9ozwINA1XS/GuheILia+0EWLrJYrPfQNEiADDABWHy9MV+snw8sLiP8A4J5abbPDMLn/AIQxUMTKd4b7NjGOua9itfB+k2RuvK0zT4/tzB7krboPtBHQvx8341dFqmzZsXy8bdmBtx6YoA/EX4V/sk+O/id/wb9fBfU/DWiXs3jP4U+IX8Tw6RLE0c92kV3IzxhWGdxUccV9XePP+C8Pw68c/sz6jbeGdA8Zat8UdU0iWzTwl/Y8yXUF20TKyyMRtCqcnOeQK/Qq002DT4PKghighHSONAqj8BxWfafD/QbDVnv4dF0mK/kzvuUs41mfPqwGT+dAHxP/AMG5Olavpv8AwTA8PDXdNutI1SXWdRmntbiJo3iZpckYOD1rxz/g72JH/BLLjr/wkNnj/vsV+plnYQafCI7eGKCMEkJGgVcn2FfHn/BcH/gnP4l/4Kd/sdj4c+FdY0jRNT/tS3vvtGol/J2RsCR8isc8elAHwP8ABP8A4L7/APDNH/BL3wr8PPFfwp8e2/xKTwhDpejQ22ntLp+rQvbhLe4WUZ4ZCpK+ua5v/gn/AP8ABGn4jfEP/ghL8btF8Q6XLo3jn4waoviPStLnBSRRbkvGHB6Fy0mB9K/YH9k79l+2+Dn7MHw48GeKLHQ9b1nwRoNnpUl2bVZk8yGJULRs67gMjjpXr4tVVcAAAAAAcYAoA/D3/gn3/wAF6LX/AIJ+fsRaf8Hvip8LfiHD8Tvh9byaZZ2NppTmHUiuRH8wHy89SM1zP/BMr9iDx78Jv+Cb/wC1r8bPiLotx4c1b4t6Re3Flp06FJYrchpNzKeRkk49q/dHU/hn4d1vVVvr3QtGvL1TlZ57KOSVT7MRn9a439sb4IXv7Q/7LHjnwLpM9rY33ibRp9NtpZwRDEzqVBbAJwPYUAfhH/wbwf8ABYbTf+Cdv7AmpaR4+8BeNNQ8MT63dXWja1o9mbqG4mKpvt2x90hgOf8Aar3b/g32+DHjn9qT/gp38aP2tPEPhnVPCHhbxJBLYaJa30RjkufMeIg4IB+VIuT6tX2h/wAERf8AglprP/BOT9i65+GHxDm8L+LLptduNUSS3gM9uEkVABiVRz8vp+NfbmmaXbaLZrb2dtBaW8YwkUMYjRfoBxQBxv7Tfwdj/aD/AGevGngiWTyk8VaNdaWXzjZ5sTJn9a/OH/gml/wU28P/APBPH9ljSvgd8e9I8SeDfGnwujbR43XSprm21uCIlYpYHUEEsoHFfqxWVrngXRPE9wkupaPpWoSxHKPc2kcrJ9CwOKAPzF/Ys8D+Kf2ifjX+1N+1LrXh3UvCnhvxz4b/ALB8K2WoxGK6ubK1tpM3LJ/CHZsgVwv/AARF/wCCr/hD9mn9g/TPCfxW07X/AAnBZXt8+iasunSXFprFuZ3zsaMHDq2Rg+1frB8V/Bcniv4R+I9C05Iop9T0q4srZT8saM8TKo46DJFeC/8ABL79ie9/Zc/Yc8J/Dv4gaboWrazok11LLiNbqBfMnZ12l164I7UAfJ/7Ivwn1v8A4KUftrfHX453Wh6t4Y8C+JvCbeCPC7albmC51CIxlGuCh5CntmvAP2L/AIafsl/so/B6L4YftPfBC10r4o+BZJdOn1GfRJ7qPxHGrt5VxDJHwxdNvHrX7l2NjDptssNvCkMSDCpGoVVHsBxVDXPA2i+JruOfUtG0zUJofuSXNrHKyfQsDigD8nf+FZ6Hr3/BLD9qXxL4E+BWm/Cjw54isTY+G4LO0mj1LxFaxbcXE8RLbcsx2gAcZzX29+yvbeJPDv8AwSd8MR6BbSQeLbTwC39mwSJh0vFtnMQKnvv28Gvo+60+B9P8gwRGA4TymQFMemOmKnitkghWONFjRRhVQYAHoBQB+In7CXxS/Zss/gXE/wAb/Bfi74hftGTSzf2zp/iPTLrUry5vdxwkSuTCkeemAABXo/8AwQv1iWb9lj9pv4bXXhzUPCvjR/E/iDVx4cezMIsLe73tBEhwEIA+UBfSv1hXwDoa61/aQ0bShqOc/ahZx+d/33jd+tWLHwtpumalPeW1hZ295d/6+eOBVkn/AN5gMt+NAH5d/wDBJj9oPSdR/wCCVviv4MzaZ4k03x/4J8N66dTsr3TJIUXfJNt2ORhydy8D1ry65/ZO+IHxM/4IY/A/xH4O0O7vfG3wc8RQeMIdFkiKT6gltOXeFVYZDFc4r9l4fDmn280jpY2iPMCJGWFQXB65OOfxqxa2MNjCI4Yo4Y16JGoVR+AoA/O74hf8F8vhz4x/ZyvrTwv4d8bal8UNX09rK28JNosy3MN46bfLkYjaFDHlvavn34mfsUeLf2V/+CK/wO8G6xY3F34uuPiNYa/rNtbxGVrOa6upp5E4GcLvAJ6Zr9gLf4f6DaaudQj0TSI78nJuVs4xMT/v4z+taN3plvqAUTwxThW3ASIGAPrzQB85/wDBUnR7rWP+CWnxls7W3nubu48EXkcUEUZeSRjBwoUck+1fN3jL4/X/AOzh+wp+zza+MvhRb+P/AIQaxodrYeMvO01r270QGMbZfIPBAPXIyK/SCa2juYGikjSSNhhkZcqw9CKZLplvcWP2Z7eF7YrtMTRgoR6bemKAPw5+Mfhz4JeI/j98NdU/Yf0zxfoHxJl8Q251VNDhu7PRUsdw877VDIfK6Z4Ar9yLMSi2jExBlCAOQOC2OcVnaD4E0TwrKz6Xo+l6az/eNraRwlvrtArWoA/G74jfEP4e6Z/wU8+MK/tgWfivUNFsmt0+Htpcw3c+gG1IPm7YojseUnb98HjNVv2RPiZ4E8Of8FytK1Twn8NL74Z/DzxV4MfRfDEi6KbOLWrgnmQqo+XPYvzX7Da74I0bxQ8banpOm6k0J3Rtd2qTFD7bgcU6XwhpVxd21xJptg89kMW0rW6F7f8A3DjK/higD4I/4IEeFNR8OeE/2hV1GxurJ7z4s65LELiFo/NiM2FYZxkEdxXy4P2cfgR+xP8Atx/GXTv2m/hDDrPhv4g67/wknhPxe+ly3tsEkXEtq5QkoyuNw9dxr9pbPTbfTt/kQRQ+Yxd/LQLvY9ScdT71Br3hjTfFNqINT0+y1GEHIjuoFmUH6MCKAPzk/wCCb/hn4N/EH9tu61n4G/ATQvCngTwxpkmPG8mnz2d3e3Uny+RbK7Y8sqW3ErX6SXkZltmA644qLSdFtNBtBb2Vtb2duv3YoIljRfoAAKtUAflX/wAEmfiXZfCD9pb9pH4MeMNK8SaJ4r8e/EHV9R03zdMkNrcWk0ahJRN93BHNUf8Agnr+13pv/BIOw8b/AAK+Oela94ftdL8TX2s+GtfttOkuLHWLO5beF3IDh1PGD61+q50KybUPtZtLY3XTzvKXzP8AvrGar694M0jxVGqappWnakqHKi7tkmCn23A4oA/LL4YfHO7/AGhv+ChPjX9r6bQdc0H4O/CLwReafosuoWjQ3Gvysh3ukZG7bgce+K+tf+CQfwY1TwF+ytF4u8Uxy/8ACbfFO9m8W620w/eLJdMZUiPf5EZVx/s19N3HhTTLvQ20yXTrGTTmXY1q0CmFl9CmNuPwq7BAlrCscaLHGgCqijAUDoAKAPz28CeHNQi/4OP/ABvqjWN2umyfC6xgW7MLeS0guJCVD4xnBHGak/4Js+F7/Sf+Ctf7X17c2F3b2t5LpX2eeSFlScBHzsYjB/Cv0AXS7dL03Igh+0su0zeWPMI9N2M4pYdNt7W5lmjghSab/WOqAM+PU9TQB+Y/j7xhqH/BKT/gq94++JfifQNavvg/8arCD7RrOmWjXR0W+ixxKi87D6isH9rz9oOD/gs3+0R8Ivh18H9J12/8F+D/ABBD4n8S+KbuwktrSBYiCsEe/BZziv1R1TSbTXLFra9tbe7gf70c0YkRvqCMVDoPhfTPCtuYdL0+x02Fjkx2tukKk/RQBQB8J/s+eF9Qs/8Agv18dr9rC7j02b4f6BFBctE3kyss11lVc8EjIyAe4pfiF4e1CX/g4Z+HuorZXZ01Ph1qMT3QibyVckYUvjAPtmvvSOxgiu2nEMQncBWlCDewHYnrSNYQNeC4MEP2hRtEuwbwPTPXFAHwT/wUP8NX9/8A8Fbv2Rry3sruezsru9E88cLNHBlWxuYDC/jX3+Rmq02n29zcRyyQQySw8xuyAsn0PUVZByKAPzJ1X44WH7H3/Berx3rPjPSfElvovxI8H6TpOi6ha6a9zbz3CXEm5GZR8uN65zXZfseaDfRf8F1P2idVeyu49OvPCmneRcvCyxSnzVOFYjBPsK++73Q7LU5kkuLO1uJIzlGkiVin0JHFOh0u3t7p50ghWaQAPIqAMwHQE9cUAfn/APtneGr/AFH/AILnfs1X0Vjdzafa6DqUdxcJCzRQlt2AzAYGfevlp/2bfgX+xR+2/wDGnT/2m/hNDrXhzx94hl8UeFfFz6XLeW3k3ABe0cocoyPu4x3r9ppdMt57xLhoIWnjGFkKAso9j1qtr3hXTPFVp5GqafY6lADuEd1Asyg+uGBFAH5yf8E1/Cnwe+IH7a+o678D/gFoXhLwB4V0llHjmbTprO71G9lYL9ntlZsGMJuLEjsK/SllzER7VX0vRrTQ7Nbeytbe0t1+7FBGsaL9AABVkjIoA/nn/wCCc3x81b/glz/wWc+Oem/EH4d+Np4viZ4hksdNu7Gxd4V33TskpbGChDA5zXXa5/wlX/BCj/guB8Sfiz4m8G+IfE3wh+MCPKNV0u0a4ayaQrIQwH8SvvGD2Ir927/wppeq3qXF1pthc3EZBSWW3R3UjpgkZFO1vw1p/iayNtqVjaahbt1iuYVlQ/gwIoA/BT9obxh4g/4OIf8AgqN8FZvh94J8S6J8JfhLfJqWo67q1kbdZts0UzgA928pVAGfvE1zf7bvx21/9lT/AIOf7XxZ4d8L3/jE6HpUP2zTLEZuZrQW5EpjHdgmSBX9Bnh/wlpfhKz+z6VptjpsGc+XaW6Qrn6KAK/PzW/+CQfjXVv+C49j+0+Nc8Pjwla2gtn0xzJ9tf8AcmMkfLs6nPXpQB8Df8Fb/wBty7/4LteP/hd8Fvgt8PvGottP1xNQ1bUdV017ZbU5UMCOgCgckmv3o+DvgNfhf8JPDPhpH3roOlW2nh8/e8qJUz+lXtG8A6H4cvpLnTtH0uwuJiWlltrSOJ5Ceu4gAmtYDaKAPzJ/ao13Wv8Agmr/AMFcX+P+r+H9Z174UfEvw2nhrW73S7U3Mug3ETh45nRRnYTwTXKft/8A7VFj/wAFjdQ8BfBP4H6drmuaZN4is9X8S+Ip7GS1sdMtYJFkI3OBlzjpX6talpdvq9m9vdQQ3MEg2vHKgdHHoQeDVXw/4O0jwnC0elaXp2mI33ltLZIQfqFAoA+Ef20/CF9/w+V/ZNntrO7nsNM0nVoprhIWaOD/AFYXe2MDOO5r9AKgfToJbhJmhiaWIYR2QFk+h6iph0oA/Nn/AIKWfEeD9lj/AIK2/AP4teJdM12XwPp2i6rpl5f6dYSXn2aaWLCBlQZANbHxHM3jb/gu/wDBLxTptlfvod38PLtxdm3ZUXeWKq5xhWII4NfoNqWk2urwhLq2guUByFljDgH6EU1NLtY7iOUW1uJYl2I/ljci+gPYUAfAn/Bc3w7qHiDx1+y29hY3d6tn8So5pzBC0ghTy/vNgHA9zXg/7b37MXwz/Zz/AOCrPiT4nfHb4W/8J38I/ino0EEOsR2El5/wj2owHnzVQ5COnf2r9dLrTre/EfnwQzGJtyGRA2w+oz0NM1TSLXXLNre9tre8t3GGiniEiN9QQRQB+Wn7NWifs5fFf9tvwJYfs6/s/aBeaRos/wDams+NrnS7i0j0UxfNF9mLMN0u4DqCBX6p3LyCzkMQBl2nYG6FscZ/GqegeGdN8K2vkaZp9jp0H/PO1gWFfyUCtDHFAH5OfFX9pj9nn46+MfGfhv8AbG+Clh4V8faDqs9lY6nBok7/ANrWCkeRcQ3cX7zcQem7git7/giv4L8WWvgr9omw0I+NJfgdel4vh3b+JpJJLwboJBIIzL8/lklQAx9K/TDX/Ami+KpkfU9I0zUnj+411axzFPoWBxV+z06DTrdIoIo4YoxtVEUKqj2A4oA/KP8A4JbftEa3o/8AwSw8X/CHwXpfiLSvjj4F0fVZILO90ySKNLjL+VsdhtY5xivKv2J/iZ+zBZfswaQfiB4C8W/E39om8sidc0/xDpdzqeo3GrEHeB5xMUabycbQABjiv2ut9DsrO5aaK0toppPvyJEqs31IGTVGLwHodnrB1KLRtKi1Bj810lpGszfV8Z/WgD8R/wBlP4O6n+1x/wAEX/i98JND0G80L4oeBPHtz4tXw3PaNCLdluhNDbq2AGBRXUY9BX2B4F/4L0fDzQP2a7K31LQfGVr8VtN0sWTeEBo0zXT36IEVFbG0oXA+bPQ1+gGn+FtO0m6uLi0sLO1uL1g9xLDAqPOfViBlvxqu3w/0F9X/ALQOi6Sb/wD5+jZx+d/33jP60AflR/wVa8OfE/8AaZ/4JO/DBPi34cjfxf4k8XabLq+laXbuEs7d51IjIXLDCHDHPXNdX+2h+ye3/BKv44+A/wBov4FeFPsfhawtbfw1498MaPAfLvrAYWO7Ea9ZIxwWxk98k1+nt1plvfRhJ4IZlU7gJEDAH15pbmwhvIGilijlicYZHUMrD3B4oA+b/jV/wUw8OfCHxb8HNNi8M+J9eg+M03ladeWNqxi04YQ7rjIyg+fHPoa+lVO5QaqHw/YkQf6Faf6N/qf3K/uf93jj8KuDigAooooA8C/4Kgf8mMeOP+3D/wBOFtX5u+BP2pb74f8Ag2z0m10uyl+xyLIJJmkfJEgk3Bd2AxxtyAPlJ+tfsB8UPhfoXxn8C33hrxLY/wBpaLqXl/abbzpIfM2SLIvzRsrDDop4I6eleQ/8Ov8A4Gf9CP8A+VnUP/j9fK51k2LxOJVfDSS922t+7fZ9z988MvErh3I8jnlWd0KlRuq6i5FFrWEIq95xd/delrbH55+Ff2y7rwVGINO0Kxt7OKLy4YVmm+U+a0py2/JBZjkZxiooP2xtQttOgt10XTQiTNLIpaQoVZJEdVBb5AyytnbjoMYr9Ef+HX/wM/6Ef/ys6h/8fqjr3/BM34HWFlvHgZsF1UldX1AlcnGcefXl/wCrua2t7SP4/wDyJ96/GbgJycngq7b30jr6/vvM/O7wt+1dceB4GttD0bTrCyaaCWSFS7eaIklTaxLEnd5pz9BjFamk/tq6ppPh+4sF0mxZZooogS8mMJbiD5gGw3yqDznmvtC0/wCCd/wTfXNShbwcyK0rW9og1a+y7rGT/wA9/wDOKnl/YB+Cdr4et5F8Ch7pflnR9YvwQcf9dxSjw5mkdFUj+P8A8iXV8aOA6snKpgq7btduMLu2137bU81/4Jj/AB1n+NH7UWoNdWUdrLZ+FbnlJXZSDdWQwAxIHQdK++68I/Zh/Zw+Hnwe+IN7qPhPw3Ho+pS2Mto9xHqFzcLLAZo2K4llcfeRDkDPHXBr3evq8owlbD4f2eIacrt6f8Mj+ffETiDLM5zf63lFOVOjyxilO11a99pS0+YUUUV6h8KFFFFABRRRQAUUUUAFFFFABRRRQAUUUUAFFFFABRRRQAUUUUAFFFFABRRRQAUUUUAFFFFABRRRQAUUUUAIRk0Ku00tFABRRRQAUUUUAFFFFABRjmiigAooooAKKKKACiiigAooooAKKKKACiiigBssfmLjpyDTqKKACiiigAooooAKKKKACiiigAooooAKKKKACiiigAooooAKKKKACiiigAoPIoooAb5dHl06igBvl0eXTqKAG+XThwKKKACiiigAooooAKKKKACiiigAooooAKKKKACiiigAooooADzTSmTTqKAG+XR5dOooAb5dOoooAKKKKACkYbhS0UAA4FFFFABRRRQAUUUUAFFFFABRRRQAVDfWgvrV4iSu4dR2qaigDnLb4dQtqL3N7O97KVKpuXaIweuMd/etCy8IafYaebZLdPJY7mVucmtOigCpY6HaaZLvggjibbsyq449P0q3RRQAUUUUAFFFFABRRRQAUUUUAFFFFABRRRQAUUUUAFFFFABRRRQAUUUUAFFFFABRRRQAUUUUAFFFFABRRRQAUUUUAFFFFABRRRQAUUUUAFFFFABRRRQAUUUUAFFFFABRRRQAUUUUAFFFFABRRRQAUUUUAFFFFABRRRQAUUUUAFFFFABRRRQAUUUUAFFFFABRRRQAUUUUAFFFFABRRRQAUUUUAFFFFABRRRQAUUUUAFFFFABRRRQAUUUUAFFFFABRRRQAUUUUAFFFFABRRRQAUUUUAFFFFABRRRQAUUUUAFFFFABRRRQAUUUUAFFFFABRRRQAUUUUAFFFFABRRRQAUUUUAFFFFABRRRQAUUUUAFFFFABRRRQAUUUUAFFFFABRRRQAUUUUAFFFFABRRRQAUUUUAFFFFABRRRQAUUUUAFFFFABRRRQAUUUUAFFFFABRRRQAUUUUAFFFFABRRRQAUUUUAFFFFABRRRQAUUUUAFFFFABRRRQAUUUUAFFFFABRRRQAUUUUAFFFFABRRRQAUUUUAFFFFABRRRQAUUUUAFFFFABRRRQAUUUUAFFFFABRRRQAUUUUAFFFFABRRRQAUUUUAFFFFABRRRQAUUUUAFFFFABRRRQAUUUUAFFFFABRRRQAUUUUAFFFFABRRRQAUUUUAFFFFABRRRQAUUUUAFFFFABRRRQAUUUUAFFFFABRRRQAUUUUAFFFFABRRRQAUUUUAFFFFABRRRQAUUUUAFFFFABRRRQAUUUUAFFFFABRRRQAUUUUAFFFFABRRRQAUUUUAFFFFABRRRQAUUUUAFFFFABRRRQAUUUUAFFFFABRRRQAUUUUAFFFFABRRRQAUUUUAFFFFABRRRQAUUUUAFFFFABRRRQAUUUUAFFFFABRRRQAUUUUAFFFFABRRRQAUUUUAFFFFABRRRQAUUUUAFFFFABRRRQAUUUUAFFFFABRRRQAUUUUAFFFFABRRRQAUUUUAFFFFABRRRQAUUUUAFFFFABRRRQAUUUUAFFFFABRRRQAUUUUAFFFFABRRRQAUUUUAFFFFABRRRQAUUUUAFFFFABRRRQAUUUUAFFFFABRRRQAUUUUAFFFFABRRRQAUUUUAFFFFABRRRQAUUUUAFFFFABRRRQAUUUUAFFFFABRRRQAUUUUAFFFFABRRRQAUUUUAFFFFABRRRQAUUUUAFFFFABRRRQAUUUUAFFFFABRRRQAUUUUAFFFFABRRRQAUUUUAFFFFABRRRQAUUUUAFFFFABRRRQAUUUUAFFFFABRRRQAUUUUAFFFFABRRRQAUUUUAFFFFABRRRQAUUUUAFFFFABRRRQAUUUUAFFFFABRRRQAUUUUAFFFFABRRRQAUUUUAFFFFAH/2Q==)"
      ]
    },
    {
      "cell_type": "markdown",
      "metadata": {
        "id": "khxjpwJOsaPE"
      },
      "source": [
        "![33.jpg](data:image/jpeg;base64,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)"
      ]
    },
    {
      "cell_type": "code",
      "metadata": {
        "id": "XSj6YT-4qU9R"
      },
      "source": [
        ""
      ],
      "execution_count": null,
      "outputs": []
    },
    {
      "cell_type": "markdown",
      "metadata": {
        "id": "VqcmbxnYtBDG"
      },
      "source": [
        "Queue using Deque"
      ]
    },
    {
      "cell_type": "code",
      "metadata": {
        "colab": {
          "base_uri": "https://localhost:8080/"
        },
        "id": "uPpBZBpWtD8R",
        "outputId": "e0334a7c-1167-4cea-e5b1-09da255fcb1f"
      },
      "source": [
        "from collections import deque\n",
        "my_queue = deque()\n",
        "my_queue.append(5)\n",
        "my_queue.append(10)\n",
        "print(my_queue)\n",
        "print(my_queue.popleft())\n",
        "print(my_queue)"
      ],
      "execution_count": null,
      "outputs": [
        {
          "output_type": "stream",
          "text": [
            "deque([5, 10])\n",
            "5\n",
            "deque([10])\n"
          ],
          "name": "stdout"
        }
      ]
    },
    {
      "cell_type": "code",
      "metadata": {
        "id": "TUnQKYnatdlA"
      },
      "source": [
        "#MaxHeap\n",
        "\n",
        "class MaxHeap:\n",
        "  def __init__(self, items=[]):\n",
        "    super().__init__()\n",
        "    self.heap =[0]\n",
        "    for item in items:\n",
        "      self.heap.append(item)\n",
        "      self.__floatUp(len(self.heap) - 1)\n",
        "\n",
        "    def push(self, data):\n",
        "      self.heap.append(data)\n",
        "      self.__floatUp(len(self.heap) - 1)\n",
        "\n",
        "    def peak(self):\n",
        "      if self.heap[1]:\n",
        "        return self.heap[1]\n",
        "      else:\n",
        "        return False\n",
        "\n",
        "    def pop(self):\n",
        "      if len(self.heap) > 2:\n",
        "        self.__swap(1,len(self.heap) - 1)\n",
        "        max = self.heap.pop()\n",
        "        self.__bubbleDown(1)\n",
        "      elif len(self.heap) == 2:\n",
        "        max = self.heap.pop()\n",
        "      else:\n",
        "        max = False\n",
        "      return max\n",
        "\n",
        "    def __swap(self, i, j):\n",
        "      self.heap[i], self.heap[j] = self.heap[j], self.heap[i]\n",
        "\n",
        "    def __floatUp(self, index):\n",
        "      parent = index//2\n",
        "      if index <=1:\n",
        "        return\n",
        "      elif self.heap[index] > self.heap[parent]:\n",
        "        self.__swap(index, parent)\n",
        "        self.__floatUp(parent)\n",
        "\n",
        "    def __bubbleDown(self, index):\n",
        "      left = index * 2\n",
        "      right = index *2 + 1\n",
        "      largest = index\n",
        "      if len(self.heap)> left and self.heap[largest] < self.heap[left]:\n",
        "        largest = left\n",
        "      if len(self.heap)> right and self.heap[largest] < self.heap[right]:\n",
        "        largest = right\n",
        "      if largest != index:\n",
        "        self.__swap(index, largest)\n",
        "        self.__bubbleDown(largest)\n",
        "\n",
        "    def __str__(self):\n",
        "      return str(self.heap)"
      ],
      "execution_count": null,
      "outputs": []
    },
    {
      "cell_type": "code",
      "metadata": {
        "colab": {
          "base_uri": "https://localhost:8080/",
          "height": 346
        },
        "id": "IA4JBA0XRkEg",
        "outputId": "9916e0c3-d303-4388-c6c3-8d2a3ae5d736"
      },
      "source": [
        "m = MaxHeap([95, 3,21])\n",
        "m.push(10)\n",
        "print(m)\n",
        "print(m.pop())\n",
        "print(m.peek())"
      ],
      "execution_count": null,
      "outputs": [
        {
          "output_type": "error",
          "ename": "AttributeError",
          "evalue": "ignored",
          "traceback": [
            "\u001b[0;31m---------------------------------------------------------------------------\u001b[0m",
            "\u001b[0;31mAttributeError\u001b[0m                            Traceback (most recent call last)",
            "\u001b[0;32m<ipython-input-6-405518d4b889>\u001b[0m in \u001b[0;36m<module>\u001b[0;34m()\u001b[0m\n\u001b[0;32m----> 1\u001b[0;31m \u001b[0mm\u001b[0m \u001b[0;34m=\u001b[0m \u001b[0mMaxHeap\u001b[0m\u001b[0;34m(\u001b[0m\u001b[0;34m[\u001b[0m\u001b[0;36m95\u001b[0m\u001b[0;34m,\u001b[0m \u001b[0;36m3\u001b[0m\u001b[0;34m,\u001b[0m\u001b[0;36m21\u001b[0m\u001b[0;34m]\u001b[0m\u001b[0;34m)\u001b[0m\u001b[0;34m\u001b[0m\u001b[0;34m\u001b[0m\u001b[0m\n\u001b[0m\u001b[1;32m      2\u001b[0m \u001b[0mm\u001b[0m\u001b[0;34m.\u001b[0m\u001b[0mpush\u001b[0m\u001b[0;34m(\u001b[0m\u001b[0;36m10\u001b[0m\u001b[0;34m)\u001b[0m\u001b[0;34m\u001b[0m\u001b[0;34m\u001b[0m\u001b[0m\n\u001b[1;32m      3\u001b[0m \u001b[0mprint\u001b[0m\u001b[0;34m(\u001b[0m\u001b[0mm\u001b[0m\u001b[0;34m)\u001b[0m\u001b[0;34m\u001b[0m\u001b[0;34m\u001b[0m\u001b[0m\n\u001b[1;32m      4\u001b[0m \u001b[0mprint\u001b[0m\u001b[0;34m(\u001b[0m\u001b[0mm\u001b[0m\u001b[0;34m.\u001b[0m\u001b[0mpop\u001b[0m\u001b[0;34m(\u001b[0m\u001b[0;34m)\u001b[0m\u001b[0;34m)\u001b[0m\u001b[0;34m\u001b[0m\u001b[0;34m\u001b[0m\u001b[0m\n\u001b[1;32m      5\u001b[0m \u001b[0mprint\u001b[0m\u001b[0;34m(\u001b[0m\u001b[0mm\u001b[0m\u001b[0;34m.\u001b[0m\u001b[0mpeek\u001b[0m\u001b[0;34m(\u001b[0m\u001b[0;34m)\u001b[0m\u001b[0;34m)\u001b[0m\u001b[0;34m\u001b[0m\u001b[0;34m\u001b[0m\u001b[0m\n",
            "\u001b[0;32m<ipython-input-5-1d15170408fb>\u001b[0m in \u001b[0;36m__init__\u001b[0;34m(self, items)\u001b[0m\n\u001b[1;32m      7\u001b[0m     \u001b[0;32mfor\u001b[0m \u001b[0mitem\u001b[0m \u001b[0;32min\u001b[0m \u001b[0mitems\u001b[0m\u001b[0;34m:\u001b[0m\u001b[0;34m\u001b[0m\u001b[0;34m\u001b[0m\u001b[0m\n\u001b[1;32m      8\u001b[0m       \u001b[0mself\u001b[0m\u001b[0;34m.\u001b[0m\u001b[0mheap\u001b[0m\u001b[0;34m.\u001b[0m\u001b[0mappend\u001b[0m\u001b[0;34m(\u001b[0m\u001b[0mitem\u001b[0m\u001b[0;34m)\u001b[0m\u001b[0;34m\u001b[0m\u001b[0;34m\u001b[0m\u001b[0m\n\u001b[0;32m----> 9\u001b[0;31m       \u001b[0mself\u001b[0m\u001b[0;34m.\u001b[0m\u001b[0m__floatUp\u001b[0m\u001b[0;34m(\u001b[0m\u001b[0mlen\u001b[0m\u001b[0;34m(\u001b[0m\u001b[0mself\u001b[0m\u001b[0;34m.\u001b[0m\u001b[0mheap\u001b[0m\u001b[0;34m)\u001b[0m \u001b[0;34m-\u001b[0m \u001b[0;36m1\u001b[0m\u001b[0;34m)\u001b[0m\u001b[0;34m\u001b[0m\u001b[0;34m\u001b[0m\u001b[0m\n\u001b[0m\u001b[1;32m     10\u001b[0m \u001b[0;34m\u001b[0m\u001b[0m\n\u001b[1;32m     11\u001b[0m     \u001b[0;32mdef\u001b[0m \u001b[0mpush\u001b[0m\u001b[0;34m(\u001b[0m\u001b[0mself\u001b[0m\u001b[0;34m,\u001b[0m \u001b[0mdata\u001b[0m\u001b[0;34m)\u001b[0m\u001b[0;34m:\u001b[0m\u001b[0;34m\u001b[0m\u001b[0;34m\u001b[0m\u001b[0m\n",
            "\u001b[0;31mAttributeError\u001b[0m: 'MaxHeap' object has no attribute '_MaxHeap__floatUp'"
          ]
        }
      ]
    },
    {
      "cell_type": "markdown",
      "metadata": {
        "id": "n4x6z6SZSkHn"
      },
      "source": [
        "# Link list"
      ]
    },
    {
      "cell_type": "code",
      "metadata": {
        "id": "6KrwDJwcSI-_"
      },
      "source": [
        "class Node:\n",
        "\n",
        "  def __init__ (self, d , n= None , p=None):\n",
        "    self.data = d\n",
        "    self.next_node = n\n",
        "    self.prev_node= p\n",
        "\n",
        "  def __str__(self):\n",
        "    return('(' + str(self.data) + ')')\n"
      ],
      "execution_count": null,
      "outputs": []
    },
    {
      "cell_type": "markdown",
      "metadata": {
        "id": "ulahsjlRVchv"
      },
      "source": [
        "Link list class\n",
        "\n",
        "4 method\n",
        "Add\n",
        "Find\n",
        "Remove\n",
        "Print_list"
      ]
    },
    {
      "cell_type": "code",
      "metadata": {
        "id": "JOIUyfFUU87w"
      },
      "source": [
        "#add in front of list\n",
        "\n",
        "class LinkedList:\n",
        "\n",
        "  def __init__(self, r =None):\n",
        "    self.root = r\n",
        "    self.size = 0\n",
        "\n",
        "  def add(self, d):\n",
        "    new_node = Node(d, self.root)\n",
        "    self.root = new_node\n",
        "    self.size += 1\n",
        "\n",
        "  def find(self, d):\n",
        "    this_node = self.root\n",
        "    while this_node is not None:\n",
        "      if this_node.data ==d:\n",
        "        return d\n",
        "      else:\n",
        "        this_node = this_node.next_node\n",
        "    return None\n",
        "\n",
        "  def remove(self, d):\n",
        "    this_node = self.root\n",
        "    prev_node = None\n",
        "\n",
        "    while this_node is not None:\n",
        "      if this_node == d:\n",
        "        if prev_node is not None:          # data is non- root\n",
        "          prev_node.next_node = this_node.next_node\n",
        "        else:             #data is root node\n",
        "          self.root = this_node.next_node \n",
        "        self.size -= 1\n",
        "        return True  # data removed\n",
        "      else:\n",
        "        prev_node = this_node\n",
        "        this_node = this_node.next_node\n",
        "    return False\n",
        "\n",
        "  def print_list(self):\n",
        "    this_node = self.root\n",
        "    while this_node is not None:\n",
        "      print(this_node, end='->')\n",
        "      this_node = this_node.next_node\n",
        "\n",
        "    print('None')\n",
        "\n",
        "\n",
        "\n",
        "          \n"
      ],
      "execution_count": null,
      "outputs": []
    },
    {
      "cell_type": "code",
      "metadata": {
        "colab": {
          "base_uri": "https://localhost:8080/"
        },
        "id": "ohwSHkjri6JS",
        "outputId": "21c7b529-0bfd-4101-af4d-193334d03b54"
      },
      "source": [
        "myList = LinkedList()\n",
        "myList.add(5)\n",
        "myList.add(8)\n",
        "myList.add(12)\n",
        "myList.print_list()\n",
        "\n",
        "print(\"size=\" + str(myList.size))\n",
        "myList.remove(8)\n",
        "print(\"size=\" + str(myList.size))\n",
        "print(myList.find(5))\n",
        "print(myList.root)\n"
      ],
      "execution_count": null,
      "outputs": [
        {
          "output_type": "stream",
          "text": [
            "(12)->(8)->(5)->None\n",
            "size=3\n",
            "size=3\n",
            "5\n",
            "(12)\n"
          ],
          "name": "stdout"
        }
      ]
    },
    {
      "cell_type": "markdown",
      "metadata": {
        "id": "v7iDj2L40vgu"
      },
      "source": [
        "# Tree"
      ]
    },
    {
      "cell_type": "code",
      "metadata": {
        "id": "tXVMPo5TjWvQ"
      },
      "source": [
        "class Tree:\n",
        "  def __init__(self, data, left = None, right = None):\n",
        "    self.data = data\n",
        "    self.left = left\n",
        "    self.right = right\n",
        "  def insert(self, data):\n",
        "    if self.data == data:\n",
        "      return False          #duplicate value\n",
        "    elif self.data> data:        #passed data is less than the current data\n",
        "      if self.left is not None:\n",
        "        return self.left.insert(data)\n",
        "      else:\n",
        "        self.left = Tree(data)\n",
        "        return True\n",
        "    else:\n",
        "      if self.right is not None:\n",
        "        return self.right.insert(data)\n",
        "      else:\n",
        "        self.right = Tree(data)\n",
        "        return True\n",
        "  \n",
        "  def find(self, data):\n",
        "    if self.data == data:\n",
        "      return data\n",
        "    elif self.data> data:\n",
        "      if self.left is None:\n",
        "        return False\n",
        "      else:\n",
        "        return self.left.find(data)\n",
        "    elif self.data< data:\n",
        "      if self.right is None:\n",
        "        return False\n",
        "      else:\n",
        "        return self.right.find(data)\n",
        "\n",
        "  def get_size(self):\n",
        "    if self.left is not None and self.right is not None:\n",
        "      return 1+ self.left.get_size()  + self.right.get_size()\n",
        "    elif self.left:\n",
        "      return 1 + self.left.get_size()\n",
        "    elif self.right:\n",
        "      return 1 + self.right.get_size()\n",
        "    else:\n",
        "      return 1\n",
        "\n",
        "  def preorder(self):\n",
        "    if self is not None:\n",
        "      print(self.data, end=' ')\n",
        "      if self.left is not None:\n",
        "        self.left.preorder()\n",
        "      if self.right:\n",
        "        self.right.preorder()\n",
        "\n",
        "  def inorder(self):\n",
        "    if self is not None:\n",
        "      print(self.data, end=' ')\n",
        "      if self.left is not None:\n",
        "        self.left.inorder()\n",
        "      if self.right:\n",
        "        self.right.inorder()\n",
        "\n",
        "\n"
      ],
      "execution_count": null,
      "outputs": []
    },
    {
      "cell_type": "code",
      "metadata": {
        "colab": {
          "base_uri": "https://localhost:8080/"
        },
        "id": "rQ5KidQZ54U4",
        "outputId": "35a990b5-6e99-4983-fea2-c1fb5af09ae9"
      },
      "source": [
        "tree = Tree(7)\n",
        "tree.insert(9)\n",
        "for i in [15,10,2,12,3,1,13,6,11,4,14,9]:\n",
        "  tree.insert(i)\n",
        "for i in range(16):\n",
        "  print(tree.find(i), end=' ')\n",
        "print('\\n', tree.get_size())\n",
        "\n",
        "tree.preorder()\n",
        "print()\n",
        "tree.inorder()\n",
        "print()\n"
      ],
      "execution_count": null,
      "outputs": [
        {
          "output_type": "stream",
          "text": [
            "False 1 2 3 4 False 6 7 False 9 10 11 12 13 14 15 \n",
            " 13\n",
            "7 2 1 3 6 4 9 15 10 12 11 13 14 \n",
            "7 2 1 3 6 4 9 15 10 12 11 13 14 \n"
          ],
          "name": "stdout"
        }
      ]
    },
    {
      "cell_type": "markdown",
      "metadata": {
        "id": "KCeuydBX8G9z"
      },
      "source": [
        "# Graphs"
      ]
    },
    {
      "cell_type": "markdown",
      "metadata": {
        "id": "7mhP4oo097JJ"
      },
      "source": [
        "vertex class"
      ]
    },
    {
      "cell_type": "code",
      "metadata": {
        "id": "HyvcTDyi6i6_"
      },
      "source": [
        "class Vertex:\n",
        "  def __init__(self, n):\n",
        "    self.name = n\n",
        "    self.neighours = set()\n",
        "\n",
        "  def add_neighour(self, v):\n",
        "    self.neighours.add(v)"
      ],
      "execution_count": null,
      "outputs": []
    },
    {
      "cell_type": "markdown",
      "metadata": {
        "id": "dl0AlO_G-Wq3"
      },
      "source": [
        "Graph class"
      ]
    },
    {
      "cell_type": "code",
      "metadata": {
        "id": "EKr4iLyk-YmI"
      },
      "source": [
        "class Graph:\n",
        "  vertices = {}\n",
        "\n",
        "  def add_vertex(self, vertex):\n",
        "    if isinstance(vertex, Vertex) and vertex.name not in self.vertices:\n",
        "      self.vertices[vertex.name] = vertex\n",
        "      return False\n",
        "\n",
        "  def add_edge(self, u, v):\n",
        "    if u in self.vertices and v in self.vertices:\n",
        "      self.vertices[u].add_neighour(v)\n",
        "      self.vertices[v].add_neighour(u)\n",
        "      return True\n",
        "    else:\n",
        "      return False\n",
        "\n",
        "  def print_graph(self):\n",
        "    for key in sorted(list(self.vertices.keys())):\n",
        "      print(key,sorted(list(self.vertices[key].neighours)))\n",
        "\n",
        "  "
      ],
      "execution_count": null,
      "outputs": []
    },
    {
      "cell_type": "markdown",
      "metadata": {
        "id": "Xtko1KnrALkJ"
      },
      "source": [
        "Test code"
      ]
    },
    {
      "cell_type": "code",
      "metadata": {
        "id": "out_Pl0RAN5p"
      },
      "source": [
        "g = Graph()\n",
        "a= Vertex('A')\n",
        "g.add_vertex(a)\n",
        "g.add_vertex(Vertex('B'))\n",
        "for i in range(ord('A'), ord('K')):\n",
        "  g.add_vertex(Vertex(chr(i)))"
      ],
      "execution_count": null,
      "outputs": []
    },
    {
      "cell_type": "code",
      "metadata": {
        "colab": {
          "base_uri": "https://localhost:8080/"
        },
        "id": "eAhTNEIoBFFm",
        "outputId": "d0d17e2c-fa18-4df9-adba-b5c6cb580a0c"
      },
      "source": [
        "edges = ['AB', 'AE', 'BF' , 'CG', 'DE', 'DH', 'EH', 'FG', 'FI', 'FJ','GJ']\n",
        "for edge in edges:\n",
        "  g.add_edge(edge[0], edge[1])\n",
        "\n",
        "g.print_graph()"
      ],
      "execution_count": null,
      "outputs": [
        {
          "output_type": "stream",
          "text": [
            "A ['B', 'E']\n",
            "B ['A', 'F']\n",
            "C ['G']\n",
            "D ['E', 'H']\n",
            "E ['A', 'D', 'H']\n",
            "F ['B', 'G', 'I', 'J']\n",
            "G ['C', 'F', 'J']\n",
            "H ['D', 'E']\n",
            "I ['F']\n",
            "J ['F', 'G']\n"
          ],
          "name": "stdout"
        }
      ]
    },
    {
      "cell_type": "code",
      "metadata": {
        "id": "0xKwk3KPCpRQ"
      },
      "source": [
        ""
      ],
      "execution_count": null,
      "outputs": []
    }
  ]
}