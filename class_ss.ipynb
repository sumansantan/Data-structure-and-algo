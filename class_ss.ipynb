{
  "cells": [
    {
      "cell_type": "markdown",
      "metadata": {
        "id": "CqCpM2wZL1pk"
      },
      "source": [
        "Array\n"
      ]
    },
    {
      "cell_type": "code",
      "execution_count": null,
      "metadata": {
        "colab": {
          "base_uri": "https://localhost:8080/"
        },
        "id": "nl_cQQSILq-B",
        "outputId": "f8f7794c-4f6f-49aa-b1fe-cff88b38b513"
      },
      "outputs": [
        {
          "name": "stdout",
          "output_type": "stream",
          "text": [
            "Length:   0;   size in byte:   72 \n",
            "Length:   1;   size in byte:  104 \n",
            "Length:   2;   size in byte:  104 \n",
            "Length:   3;   size in byte:  104 \n",
            "Length:   4;   size in byte:  104 \n",
            "Length:   5;   size in byte:  136 \n",
            "Length:   6;   size in byte:  136 \n",
            "Length:   7;   size in byte:  136 \n",
            "Length:   8;   size in byte:  136 \n",
            "Length:   9;   size in byte:  200 \n"
          ]
        }
      ],
      "source": [
        "import sys\n",
        "n=15\n",
        "\n",
        "data =[]\n",
        "\n",
        "for i in range(n):\n",
        "  a=len(data)\n",
        "  b= sys.getsizeof(data)\n",
        "\n",
        "  print('Length: {0:3d};   size in byte: {1:4d} '.format(a,b))\n",
        "  data.append(n)"
      ]
    },
    {
      "cell_type": "code",
      "execution_count": null,
      "metadata": {
        "colab": {
          "base_uri": "https://localhost:8080/"
        },
        "id": "V1fyCk_9MuBQ",
        "outputId": "81d68832-310f-4aa7-8735-43944e78700c"
      },
      "outputs": [
        {
          "name": "stdout",
          "output_type": "stream",
          "text": [
            "[10, 10, 10, 10, 10, 10, 10, 10, 10, 10]\n"
          ]
        }
      ],
      "source": [
        "print(data)"
      ]
    },
    {
      "cell_type": "markdown",
      "metadata": {
        "id": "t3sXS3bxO7ne"
      },
      "source": [
        "Dynamic Array implementation"
      ]
    },
    {
      "cell_type": "code",
      "execution_count": null,
      "metadata": {
        "id": "KMjHWGZ1M2vP"
      },
      "outputs": [],
      "source": [
        "class M(object):\n",
        "  def public(self):\n",
        "    print('Use Tab to see me!')\n",
        "\n",
        "  def _private(self):\n",
        "    print(\"you won't be able to Tab to see me!\")"
      ]
    },
    {
      "cell_type": "code",
      "execution_count": null,
      "metadata": {
        "id": "XeeKx6SEPble"
      },
      "outputs": [],
      "source": [
        "m = M()"
      ]
    },
    {
      "cell_type": "code",
      "execution_count": null,
      "metadata": {
        "colab": {
          "base_uri": "https://localhost:8080/"
        },
        "id": "4BQd8nhBPdei",
        "outputId": "93d60676-05f8-42fc-f722-f97e2da82316"
      },
      "outputs": [
        {
          "name": "stdout",
          "output_type": "stream",
          "text": [
            "you won't be able to Tab to see me!\n"
          ]
        }
      ],
      "source": [
        "m._private()"
      ]
    },
    {
      "cell_type": "code",
      "execution_count": null,
      "metadata": {
        "id": "XldlGmQrPstI"
      },
      "outputs": [],
      "source": [
        "import ctypes\n",
        "\n",
        "\n",
        "\n",
        "class DynamicArray(object):\n",
        "\n",
        "\n",
        "  def __init__(self):\n",
        "    self.n = 0\n",
        "    self.capacity = 1\n",
        "    self.A = self.make_array(self.capacity)\n",
        "\n",
        "  def __len__(self):\n",
        "    return self.n\n",
        "\n",
        "  def __getitem__(self, k):\n",
        "    if not 0 <= k < self.n:\n",
        "      return IndexError('K is out of bounds!')\n",
        "\n",
        "    return self.A[k]\n",
        "\n",
        "  def append(self, ele):\n",
        "      if self.n == self.capacity:\n",
        "        self._resize(2*self.capacity)\n",
        "\n",
        "      self.A[self.n] = ele\n",
        "      self.n += 1\n",
        "\n",
        "  def _resize(self, new_cap):\n",
        "\n",
        "      B = self.make_array(new_cap)\n",
        "\n",
        "      for k in range(self.n):\n",
        "        B[k] = self.A[k]\n",
        "\n",
        "      self.A = B\n",
        "      self.capacity = new_cap\n",
        "\n",
        "  def make_array(self, new_cap):\n",
        "\n",
        "      return (new_cap * ctypes.py_object)()\n",
        "\n"
      ]
    },
    {
      "cell_type": "code",
      "execution_count": null,
      "metadata": {
        "id": "7cv09M4MSpVV"
      },
      "outputs": [],
      "source": [
        "arr = DynamicArray()\n",
        "arr.append(1)"
      ]
    },
    {
      "cell_type": "code",
      "execution_count": null,
      "metadata": {
        "colab": {
          "base_uri": "https://localhost:8080/"
        },
        "id": "vmargKS_S4Ex",
        "outputId": "984ad509-9db0-4148-f82f-d79a8a728feb"
      },
      "outputs": [
        {
          "data": {
            "text/plain": [
              "1"
            ]
          },
          "execution_count": 21,
          "metadata": {
            "tags": []
          },
          "output_type": "execute_result"
        }
      ],
      "source": [
        "len(arr)"
      ]
    },
    {
      "cell_type": "markdown",
      "metadata": {
        "id": "SxWfd5_vleH6"
      },
      "source": [
        "Anagram solution"
      ]
    },
    {
      "cell_type": "code",
      "execution_count": null,
      "metadata": {
        "id": "6IK2ST0QWOBn"
      },
      "outputs": [],
      "source": [
        "def anagram(s1, s2):\n",
        "\n",
        "  s1 = s1.replace(' ', ' ').lower()\n",
        "  s2 = s2.replace(' ', ' ').lower()\n",
        "\n",
        "  return sorted(s1) == sorted(s2)"
      ]
    },
    {
      "cell_type": "code",
      "execution_count": null,
      "metadata": {
        "colab": {
          "base_uri": "https://localhost:8080/"
        },
        "id": "aHhS6KTdmXsV",
        "outputId": "b9c52728-fa27-4cc3-ae5e-126d61b3875b"
      },
      "outputs": [
        {
          "data": {
            "text/plain": [
              "True"
            ]
          },
          "execution_count": 25,
          "metadata": {
            "tags": []
          },
          "output_type": "execute_result"
        }
      ],
      "source": [
        "anagram('GOD', 'DOG')"
      ]
    },
    {
      "cell_type": "code",
      "execution_count": null,
      "metadata": {
        "id": "GVsAQuVlmbdU"
      },
      "outputs": [],
      "source": [
        "def anagram(s1, s2):\n",
        "\n",
        "  s1 = s1.replace(' ', ' ').lower()\n",
        "  s2 = s2.replace(' ', ' ').lower()\n",
        "\n",
        "  #edge case check\n",
        "\n",
        "  if len(s1) != len(s2):\n",
        "    return False\n",
        "\n",
        "  count = {}\n",
        "\n",
        "  for letter in s1:\n",
        "    if letter in count:\n",
        "      count[letter] += 1\n",
        "    else:\n",
        "      count[letter] = 1"
      ]
    }
  ],
  "metadata": {
    "colab": {
      "collapsed_sections": [],
      "name": "class_ss",
      "provenance": []
    },
    "kernelspec": {
      "display_name": "Python 3",
      "name": "python3"
    },
    "language_info": {
      "name": "python"
    }
  },
  "nbformat": 4,
  "nbformat_minor": 0
}
