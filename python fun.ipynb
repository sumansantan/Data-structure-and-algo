{
 "cells": [
  {
   "cell_type": "code",
   "execution_count": null,
   "id": "fdea297c",
   "metadata": {},
   "outputs": [
    {
     "name": "stdout",
     "output_type": "stream",
     "text": [
      "hello world\n",
      "I am santan\n"
     ]
    }
   ],
   "source": [
    "age = 23\n",
    "name = \"santan\"\n",
    "print(\"hello world\") # default is after print it go to new line like end=\"\\n\"\n",
    "print(\"I am\", name)"
   ]
  },
  {
   "cell_type": "code",
   "execution_count": 3,
   "id": "215539fe",
   "metadata": {},
   "outputs": [
    {
     "name": "stdout",
     "output_type": "stream",
     "text": [
      "hello world, I am santan "
     ]
    }
   ],
   "source": [
    "print(\"hello world\", end=\", \")\n",
    "print(\"I am\", name, end=\" \")"
   ]
  },
  {
   "cell_type": "code",
   "execution_count": null,
   "id": "ca80e294",
   "metadata": {},
   "outputs": [
    {
     "name": "stdout",
     "output_type": "stream",
     "text": [
      "range(1, 10)\n",
      "[1, 2, 3, 4, 5, 6, 7, 8, 9]\n",
      "[2, 4, 6, 8]\n"
     ]
    }
   ],
   "source": [
    "rng = range(1, 10)\n",
    "print(rng) # <range object at 0x7f8c3c0a2b80>\n",
    "len(rng)\n",
    "print(list(rng)) # [1, 2, 3, 4, 5, 6, 7, 8, 9]\n",
    "rng1 = range(2, 10, 2)\n",
    "print(list(rng1)) # [1, 3, 5, 7, 9]"
   ]
  },
  {
   "cell_type": "code",
   "execution_count": 1,
   "id": "0505131b",
   "metadata": {},
   "outputs": [
    {
     "name": "stdout",
     "output_type": "stream",
     "text": [
      "hello world, "
     ]
    }
   ],
   "source": [
    "print(\"hello world\", end=\", \")"
   ]
  },
  {
   "cell_type": "markdown",
   "id": "47264104",
   "metadata": {},
   "source": [
    "Object oriented programming"
   ]
  },
  {
   "cell_type": "code",
   "execution_count": null,
   "id": "f834bf75",
   "metadata": {},
   "outputs": [],
   "source": [
    "class Car: \n",
    "    def __init__(self, brand: str, fuel_type: str, color: str) -> None:  # constructor \"brand, fuel_type, color\" are instance variables\n",
    "        # self is a reference to the current instance of the class\n",
    "        # self is used to access variables that belong to the class\n",
    "        # self.brand, self.fuel_type, self.color are instance variables\n",
    "        self.brand = brand\n",
    "        self.fuel_type = fuel_type\n",
    "        self.color = color\n",
    "\n",
    "    def drive(self, distance: float) -> None:\n",
    "        # distance is a local variable\n",
    "        # self.distance is an instance variable\n",
    "        self.distance = distance\n",
    "        print(f\"Driving {self.brand} for {self.distance} km on {self.fuel_type} fuel\")\n",
    "\n",
    "    @staticmethod\n",
    "    def test() -> None:\n",
    "        '''This is a static method'''\n",
    "        print(\"This is a static method\")"
   ]
  },
  {
   "cell_type": "code",
   "execution_count": 20,
   "id": "56330994",
   "metadata": {},
   "outputs": [
    {
     "name": "stdout",
     "output_type": "stream",
     "text": [
      "{'brand': 'volvo', 'fuel_type': 'diesel', 'color': 'black'}\n",
      "volvo\n",
      "This is a static method\n",
      "None\n"
     ]
    }
   ],
   "source": [
    "volvo: Car = Car(\"volvo\", \"diesel\", \"black\")  # creating object volvo, diesel, black are the attributes of the class\n",
    "print(volvo.__dict__) # {'brand': 'volvo', 'fuel_type': 'diesel', 'color': 'black'}\n",
    "print(volvo.brand) # volvo\n",
    "print(volvo.test()) # This is a static method"
   ]
  },
  {
   "cell_type": "code",
   "execution_count": 21,
   "id": "e43e00a2",
   "metadata": {},
   "outputs": [
    {
     "name": "stdout",
     "output_type": "stream",
     "text": [
      "This is a static method\n",
      "None\n"
     ]
    }
   ],
   "source": [
    "print(volvo.test()) # This is a static method"
   ]
  },
  {
   "cell_type": "code",
   "execution_count": 8,
   "id": "a29a3337",
   "metadata": {},
   "outputs": [
    {
     "name": "stdout",
     "output_type": "stream",
     "text": [
      "Driving volvo for 100 km on diesel fuel\n",
      "100\n"
     ]
    }
   ],
   "source": [
    "volvo.drive(100) # Driving volvo for 100 km on diesel fuel\n",
    "print(volvo.distance) # 100"
   ]
  },
  {
   "cell_type": "code",
   "execution_count": null,
   "id": "c6e57a46",
   "metadata": {},
   "outputs": [],
   "source": []
  }
 ],
 "metadata": {
  "kernelspec": {
   "display_name": "Python 3",
   "language": "python",
   "name": "python3"
  },
  "language_info": {
   "codemirror_mode": {
    "name": "ipython",
    "version": 3
   },
   "file_extension": ".py",
   "mimetype": "text/x-python",
   "name": "python",
   "nbconvert_exporter": "python",
   "pygments_lexer": "ipython3",
   "version": "3.9.6"
  }
 },
 "nbformat": 4,
 "nbformat_minor": 5
}
