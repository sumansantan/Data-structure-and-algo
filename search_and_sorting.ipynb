{
  "nbformat": 4,
  "nbformat_minor": 0,
  "metadata": {
    "colab": {
      "name": "search_and_sorting",
      "provenance": [],
      "collapsed_sections": []
    },
    "kernelspec": {
      "name": "python3",
      "display_name": "Python 3"
    },
    "language_info": {
      "name": "python"
    }
  },
  "cells": [
    {
      "cell_type": "markdown",
      "metadata": {
        "id": "cJwHJjV5aqLU"
      },
      "source": [
        "sequensial **search**"
      ]
    },
    {
      "cell_type": "code",
      "metadata": {
        "id": "M7DRRZotao3G"
      },
      "source": [
        "def seq_search(arr,ele):\n",
        "\n",
        "  pos=0\n",
        "  found=False\n",
        "\n",
        "  while pos< len(arr) and not found:\n",
        "\n",
        "    if arr[pos] == ele:\n",
        "      found = True\n",
        "\n",
        "    else:\n",
        "      pos += 1\n",
        "\n",
        "  return found\n",
        "\n"
      ],
      "execution_count": null,
      "outputs": []
    },
    {
      "cell_type": "code",
      "metadata": {
        "colab": {
          "base_uri": "https://localhost:8080/"
        },
        "id": "0yEUZKSZbZ7G",
        "outputId": "8ffea087-ffb3-4259-ff6c-72dd10cc53dd"
      },
      "source": [
        "arr =[1,2,3,4,5]\n",
        "seq_search(arr, 6)"
      ],
      "execution_count": null,
      "outputs": [
        {
          "output_type": "execute_result",
          "data": {
            "text/plain": [
              "False"
            ]
          },
          "metadata": {
            "tags": []
          },
          "execution_count": 3
        }
      ]
    },
    {
      "cell_type": "code",
      "metadata": {
        "id": "D5qta_r7bimt"
      },
      "source": [
        "def ordered_seq_search(arr,ele):\n",
        "\n",
        "  pos=0\n",
        "  found=False\n",
        "  stopped = False\n",
        "\n",
        "  while pos< len(arr) and not found and not stopped:\n",
        "\n",
        "    if arr[pos] == ele:\n",
        "      found = True\n",
        "\n",
        "    else:\n",
        "      if arr[pos] > ele:\n",
        "        stopped = True\n",
        "      else:\n",
        "        pos += 1\n",
        "\n",
        "  return found\n"
      ],
      "execution_count": null,
      "outputs": []
    },
    {
      "cell_type": "code",
      "metadata": {
        "colab": {
          "base_uri": "https://localhost:8080/"
        },
        "id": "kz3IzDm_cqjF",
        "outputId": "0b07580b-29f8-41a5-94eb-f8adc3f79a06"
      },
      "source": [
        "arr =[1,2,3,4,5,6,7,8,9,10]\n",
        "ordered_seq_search(arr, 6)"
      ],
      "execution_count": null,
      "outputs": [
        {
          "output_type": "execute_result",
          "data": {
            "text/plain": [
              "True"
            ]
          },
          "metadata": {
            "tags": []
          },
          "execution_count": 6
        }
      ]
    },
    {
      "cell_type": "markdown",
      "metadata": {
        "id": "yKMFZRuXdLsk"
      },
      "source": [
        "Binary search"
      ]
    },
    {
      "cell_type": "code",
      "metadata": {
        "id": "dV739xCic4x9"
      },
      "source": [
        "def binary_search(arr, ele):\n",
        "\n",
        "  first = 0\n",
        "  last = len(arr)-1\n",
        "\n",
        "  found = False\n",
        "\n",
        "  while first <= last and not found:\n",
        "\n",
        "    mid =int((first+last)/2)\n",
        "    if arr[mid] == ele:\n",
        "      found = True\n",
        "\n",
        "    else:\n",
        "      if ele < arr[mid]:\n",
        "        last = mid-1\n",
        "      else:\n",
        "        first = mid + 1\n",
        "\n",
        "  return found\n",
        "  "
      ],
      "execution_count": null,
      "outputs": []
    },
    {
      "cell_type": "code",
      "metadata": {
        "id": "Fem9CLi0f-Pe"
      },
      "source": [
        "arr =[1,2,3,4,5,6,7,8,9,10]"
      ],
      "execution_count": null,
      "outputs": []
    },
    {
      "cell_type": "code",
      "metadata": {
        "colab": {
          "base_uri": "https://localhost:8080/"
        },
        "id": "ymawTLFThIr4",
        "outputId": "8ff2938c-5e94-4cf4-f0db-e48120d69ceb"
      },
      "source": [
        "binary_search(arr,12)"
      ],
      "execution_count": null,
      "outputs": [
        {
          "output_type": "execute_result",
          "data": {
            "text/plain": [
              "False"
            ]
          },
          "metadata": {
            "tags": []
          },
          "execution_count": 17
        }
      ]
    },
    {
      "cell_type": "code",
      "metadata": {
        "id": "5553VWHAmjcL"
      },
      "source": [
        "def rec_bin_search(arr, ele):\n",
        "\n",
        "  if len(arr) == 0 :\n",
        "    return False\n",
        "\n",
        "  else:\n",
        "    mid = int(len(arr)/2)\n",
        "    if arr[mid] == ele:\n",
        "      return True\n",
        "\n",
        "    else:\n",
        "      if ele < arr[mid]:\n",
        "        return rec_bin_search(arr[:mid],ele)\n",
        "      else:\n",
        "        return rec_bin_search(arr[mid + 1 :],ele)\n",
        "\n"
      ],
      "execution_count": null,
      "outputs": []
    },
    {
      "cell_type": "code",
      "metadata": {
        "id": "32ipSyMT2tsS"
      },
      "source": [
        "arr =[1,2,3,4,5,6,7,8,9,10]"
      ],
      "execution_count": null,
      "outputs": []
    },
    {
      "cell_type": "code",
      "metadata": {
        "colab": {
          "base_uri": "https://localhost:8080/"
        },
        "id": "S18BZ_lK264e",
        "outputId": "34b73105-40f0-43e0-b53a-89ec54b86f00"
      },
      "source": [
        "rec_bin_search(arr,13)"
      ],
      "execution_count": null,
      "outputs": [
        {
          "output_type": "execute_result",
          "data": {
            "text/plain": [
              "False"
            ]
          },
          "metadata": {
            "tags": []
          },
          "execution_count": 24
        }
      ]
    },
    {
      "cell_type": "markdown",
      "metadata": {
        "id": "QQdJnDpp6WHu"
      },
      "source": [
        "Hash table"
      ]
    },
    {
      "cell_type": "code",
      "metadata": {
        "id": "nRLQStOU2-Ze"
      },
      "source": [
        "class HashTable(object):\n",
        "\n",
        "  def __init__(self,size):\n",
        "    self.size = size\n",
        "    self.slots = [None] * self.size\n",
        "    self.data = [None] * self.size\n",
        "\n",
        "  def put(self, key, data):\n",
        "    hashvalue = self.hashfunction(key, len(self.slots))\n",
        "\n",
        "    if self.slots[hashvalue] == None:\n",
        "      self.slots[hashvalue] =key\n",
        "      self.data[hashvalue] = data\n",
        "\n",
        "    else:\n",
        "      if self.slots[hashvalue] == key:\n",
        "        self.data[hashvalue] =data\n",
        "      else:\n",
        "        nextslot = self.rehash(hashvalue, len(self.slots))\n",
        "\n",
        "        while self.slots[nextslot] != None and self.slots[nextslot] != key:\n",
        "          nextslot = self.rehash(nextslot, len(self.slots))\n",
        "\n",
        "        if self.slots[hashvalue] == None:\n",
        "          self.slots[hashvalue] =key\n",
        "          self.data[hashvalue] = data\n",
        "        else:\n",
        "          self.data[nextslot] = data\n",
        "\n",
        "        \n",
        "\n",
        "  def hashfunction(self, key, size):\n",
        "    return key%size\n",
        "\n",
        "  def rehash(self, oldhash, size):\n",
        "    return (oldhash+1)%size\n",
        "\n",
        "  def get(self, key):\n",
        "\n",
        "    startslot = self.hashfunction(key, len(self.slots))\n",
        "    data = None\n",
        "    stop = False\n",
        "    found = False\n",
        "    position = startslot\n",
        "\n",
        "    while self.slot[position] != None and not found and not stop:\n",
        "\n",
        "      if self.slot[position] == key:\n",
        "        found = Truedata = self.data[position]\n",
        "\n",
        "      else:\n",
        "        position = self.rehash(position, len(self.slots))\n",
        "        if position == startslot:\n",
        "\n",
        "          stop = True\n",
        "\n",
        "    return data\n",
        "\n",
        "  def __getitem__(self, key):\n",
        "    return self.get(key)\n",
        "\n",
        "  def __setitem__(self, key):\n",
        "    self.put(key, data)\n",
        "    \n",
        "\n"
      ],
      "execution_count": null,
      "outputs": []
    },
    {
      "cell_type": "code",
      "metadata": {
        "id": "TMvpudHsAiI1"
      },
      "source": [
        "h = HashTable(5)"
      ],
      "execution_count": null,
      "outputs": []
    },
    {
      "cell_type": "code",
      "metadata": {
        "colab": {
          "base_uri": "https://localhost:8080/",
          "height": 162
        },
        "id": "dhKcXXyRAmTE",
        "outputId": "82e0c54d-af06-4249-abf9-1209418f4f29"
      },
      "source": [
        "h[1] = 'one'"
      ],
      "execution_count": null,
      "outputs": [
        {
          "output_type": "error",
          "ename": "TypeError",
          "evalue": "ignored",
          "traceback": [
            "\u001b[0;31m---------------------------------------------------------------------------\u001b[0m",
            "\u001b[0;31mTypeError\u001b[0m                                 Traceback (most recent call last)",
            "\u001b[0;32m<ipython-input-29-f471274cb950>\u001b[0m in \u001b[0;36m<module>\u001b[0;34m()\u001b[0m\n\u001b[0;32m----> 1\u001b[0;31m \u001b[0mh\u001b[0m\u001b[0;34m[\u001b[0m\u001b[0;36m1\u001b[0m\u001b[0;34m]\u001b[0m \u001b[0;34m=\u001b[0m \u001b[0;34m'one'\u001b[0m\u001b[0;34m\u001b[0m\u001b[0;34m\u001b[0m\u001b[0m\n\u001b[0m",
            "\u001b[0;31mTypeError\u001b[0m: __setitem__() takes 2 positional arguments but 3 were given"
          ]
        }
      ]
    },
    {
      "cell_type": "code",
      "metadata": {
        "colab": {
          "base_uri": "https://localhost:8080/",
          "height": 162
        },
        "id": "E-pkBnDCA4Kl",
        "outputId": "2c73b15a-2abd-4e35-e5e7-c3e7ad3fa5d7"
      },
      "source": [
        "h[2] = 'two'"
      ],
      "execution_count": null,
      "outputs": [
        {
          "output_type": "error",
          "ename": "TypeError",
          "evalue": "ignored",
          "traceback": [
            "\u001b[0;31m---------------------------------------------------------------------------\u001b[0m",
            "\u001b[0;31mTypeError\u001b[0m                                 Traceback (most recent call last)",
            "\u001b[0;32m<ipython-input-30-7f7cddfcc25c>\u001b[0m in \u001b[0;36m<module>\u001b[0;34m()\u001b[0m\n\u001b[0;32m----> 1\u001b[0;31m \u001b[0mh\u001b[0m\u001b[0;34m[\u001b[0m\u001b[0;36m2\u001b[0m\u001b[0;34m]\u001b[0m \u001b[0;34m=\u001b[0m \u001b[0;34m'two'\u001b[0m\u001b[0;34m\u001b[0m\u001b[0;34m\u001b[0m\u001b[0m\n\u001b[0m",
            "\u001b[0;31mTypeError\u001b[0m: __setitem__() takes 2 positional arguments but 3 were given"
          ]
        }
      ]
    },
    {
      "cell_type": "markdown",
      "metadata": {
        "id": "EJNUgU55EYl1"
      },
      "source": [
        "# sort"
      ]
    },
    {
      "cell_type": "markdown",
      "metadata": {
        "id": "XHGtSc0LEaDv"
      },
      "source": [
        "Bubble sort"
      ]
    },
    {
      "cell_type": "code",
      "metadata": {
        "colab": {
          "base_uri": "https://localhost:8080/"
        },
        "id": "7PiEXOxsBCc3",
        "outputId": "c827fa84-3d53-40b2-cedf-a3a78dc7341a"
      },
      "source": [
        "arr = [1,2,6,4,5]\n",
        "list(range(len(arr)-1, 0, -1))  # range is generator"
      ],
      "execution_count": null,
      "outputs": [
        {
          "output_type": "execute_result",
          "data": {
            "text/plain": [
              "[4, 3, 2, 1]"
            ]
          },
          "metadata": {
            "tags": []
          },
          "execution_count": 1
        }
      ]
    },
    {
      "cell_type": "code",
      "metadata": {
        "id": "6NZH-yaIGEpl"
      },
      "source": [
        "def bubble_sort(arr):\n",
        "  for n in range(len(arr)-1,0,-1):\n",
        "    print('This is the n: ', n)\n",
        "    for k in range(n):\n",
        "      print('This is the k index check: ',k)\n",
        "\n",
        "      if arr[k] > arr[k+1]:\n",
        "        temp = arr[k]   #temporary variable\n",
        "        arr[k] = arr[k+1]\n",
        "        arr[k+1] = temp\n"
      ],
      "execution_count": null,
      "outputs": []
    },
    {
      "cell_type": "code",
      "metadata": {
        "id": "0sUDTrwJHtrp"
      },
      "source": [
        "arr = [5,3,7,2]"
      ],
      "execution_count": null,
      "outputs": []
    },
    {
      "cell_type": "code",
      "metadata": {
        "colab": {
          "base_uri": "https://localhost:8080/"
        },
        "id": "pw90ORxGHxbf",
        "outputId": "5c88aeae-bdb3-4622-ed7b-404d94dfb1d7"
      },
      "source": [
        "bubble_sort(arr)\n",
        "arr"
      ],
      "execution_count": null,
      "outputs": [
        {
          "output_type": "stream",
          "text": [
            "This is the n:  3\n",
            "This is the k index check:  0\n",
            "This is the k index check:  1\n",
            "This is the k index check:  2\n",
            "This is the n:  2\n",
            "This is the k index check:  0\n",
            "This is the k index check:  1\n",
            "This is the n:  1\n",
            "This is the k index check:  0\n"
          ],
          "name": "stdout"
        },
        {
          "output_type": "execute_result",
          "data": {
            "text/plain": [
              "[2, 3, 5, 7]"
            ]
          },
          "metadata": {
            "tags": []
          },
          "execution_count": 44
        }
      ]
    },
    {
      "cell_type": "markdown",
      "metadata": {
        "id": "o9v8FCFL4qne"
      },
      "source": [
        "selection sort"
      ]
    },
    {
      "cell_type": "code",
      "metadata": {
        "id": "EJxxAbz-H23W"
      },
      "source": [
        "def selection_sort(arr):\n",
        "\n",
        "  for fillslot in range(len(arr)-1,0, -1): #indexing in reverse manner\n",
        "    print(fillslot, arr)\n",
        "    positionOfMax = 0\n",
        "    for location in range(1, fillslot+1):\n",
        "      print(location)\n",
        "\n",
        "      if arr[location] > arr[positionOfMax]:\n",
        "        positionOfMax = location\n",
        "        print(\"location \",location)\n",
        "    temp = arr[fillslot]\n",
        "    arr[fillslot] = arr[positionOfMax]\n",
        "    arr[positionOfMax] = temp\n",
        "    print(arr)\n",
        "\n"
      ],
      "execution_count": null,
      "outputs": []
    },
    {
      "cell_type": "code",
      "metadata": {
        "colab": {
          "base_uri": "https://localhost:8080/"
        },
        "id": "RJmdeeCR8QfC",
        "outputId": "94149b9e-1878-4257-ed85-a659cafa7a13"
      },
      "source": [
        "arr = [5,8,3,10,1]\n",
        "selection_sort(arr)\n",
        "arr"
      ],
      "execution_count": null,
      "outputs": [
        {
          "output_type": "stream",
          "text": [
            "4 [5, 8, 3, 10, 1]\n",
            "1\n",
            "location  1\n",
            "2\n",
            "3\n",
            "location  3\n",
            "4\n",
            "[5, 8, 3, 1, 10]\n",
            "3 [5, 8, 3, 1, 10]\n",
            "1\n",
            "location  1\n",
            "2\n",
            "3\n",
            "[5, 1, 3, 8, 10]\n",
            "2 [5, 1, 3, 8, 10]\n",
            "1\n",
            "2\n",
            "[3, 1, 5, 8, 10]\n",
            "1 [3, 1, 5, 8, 10]\n",
            "1\n",
            "[1, 3, 5, 8, 10]\n"
          ],
          "name": "stdout"
        },
        {
          "output_type": "execute_result",
          "data": {
            "text/plain": [
              "[1, 3, 5, 8, 10]"
            ]
          },
          "metadata": {
            "tags": []
          },
          "execution_count": 46
        }
      ]
    },
    {
      "cell_type": "code",
      "metadata": {
        "colab": {
          "base_uri": "https://localhost:8080/"
        },
        "id": "0pQ5hcis8axh",
        "outputId": "bfbcaec9-a88e-43ba-9945-380b7f72e435"
      },
      "source": [
        "print(list(range(0,6)))"
      ],
      "execution_count": null,
      "outputs": [
        {
          "output_type": "stream",
          "text": [
            "[0, 1, 2, 3, 4, 5]\n"
          ],
          "name": "stdout"
        }
      ]
    },
    {
      "cell_type": "markdown",
      "metadata": {
        "id": "NLF3UaJ4Wzer"
      },
      "source": [
        "Insertion sort"
      ]
    },
    {
      "cell_type": "code",
      "metadata": {
        "id": "hCO3juaADVBx"
      },
      "source": [
        "def insertion_sort(arr):\n",
        "\n",
        "  for i in range(1, len(arr)):\n",
        "\n",
        "    currentvalue = arr[i]\n",
        "    position = i\n",
        "\n",
        "    while position >0 and arr[position-1] > currentvalue:\n",
        "\n",
        "      arr[position] = arr[position-1]\n",
        "      position = position - 1\n",
        "\n",
        "    arr[position]= currentvalue"
      ],
      "execution_count": null,
      "outputs": []
    },
    {
      "cell_type": "code",
      "metadata": {
        "colab": {
          "base_uri": "https://localhost:8080/"
        },
        "id": "zKht04xGZRBi",
        "outputId": "be3fa02b-9a7b-4592-8676-87cf575c4c73"
      },
      "source": [
        "arr = [4,6,2,7,4,1,9,11,23,13,2]\n",
        "insertion_sort(arr)\n",
        "arr"
      ],
      "execution_count": null,
      "outputs": [
        {
          "output_type": "execute_result",
          "data": {
            "text/plain": [
              "[1, 2, 2, 4, 4, 6, 7, 9, 11, 13, 23]"
            ]
          },
          "metadata": {
            "tags": []
          },
          "execution_count": 2
        }
      ]
    },
    {
      "cell_type": "markdown",
      "metadata": {
        "id": "QKQbVDCVcO8o"
      },
      "source": [
        "shell sort"
      ]
    },
    {
      "cell_type": "code",
      "metadata": {
        "id": "AVagkO5XZdbY"
      },
      "source": [
        ""
      ],
      "execution_count": null,
      "outputs": []
    }
  ]
}