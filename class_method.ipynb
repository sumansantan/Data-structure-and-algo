{
  "cells": [
    {
      "cell_type": "code",
      "execution_count": null,
      "metadata": {
        "colab": {
          "base_uri": "https://localhost:8080/"
        },
        "id": "U60S6ilWX3Xd",
        "outputId": "8a88a6a2-df01-4730-c627-758a4f2ef9d2"
      },
      "outputs": [
        {
          "name": "stdout",
          "output_type": "stream",
          "text": [
            "33.333333333333336 60.0\n",
            "20\n",
            "20\n",
            "40.0\n",
            "Telusko\n",
            "Telusko\n",
            "this is student.. in abc method\n",
            "None\n",
            "this is student.. in abc method\n"
          ]
        }
      ],
      "source": [
        " class student:\n",
        "   school = 'Telusko'\n",
        "\n",
        "   def __init__(self,m1 ,m2, m3):      #instance variable\n",
        "     self.m1 = m1\n",
        "     self.m2 = m2\n",
        "     self.m3 = m3\n",
        "\n",
        "   def avg(self):    #instance method   work with object\n",
        "      return (self.m1 +self.m2 + self.m3)/3\n",
        "\n",
        "   def get_m1(self):\n",
        "     return self.m1\n",
        "\n",
        "   def set_m1(self, value):\n",
        "     self.m1 = value\n",
        "\n",
        "   @classmethod         #decorator in class method\n",
        "   def getSchool(cls):       #class variable\n",
        "      return cls.school\n",
        "\n",
        "\n",
        "   @staticmethod\n",
        "   def info():                            # static method\n",
        "     print(\"this is student.. in abc method\")\n",
        "\n",
        "\n",
        "#object\n",
        "\n",
        "s1 = student(20,30,50)\n",
        "s2 = student(30,50,100)\n",
        "\n",
        "print(s1.avg(), s2.avg())\n",
        "print(s1.m1)\n",
        "print(s1.get_m1())\n",
        "s1.set_m1(40)\n",
        "print(s1.avg())\n",
        "print(s1.getSchool())\n",
        "print(student.getSchool())\n",
        "print(s1.info())\n",
        "student.info()"
      ]
    },
    {
      "cell_type": "code",
      "execution_count": null,
      "metadata": {
        "id": "-GIqv-Mqgn4K"
      },
      "outputs": [],
      "source": [
        "import datetime\n",
        "now = datetime.datetime.now()"
      ]
    },
    {
      "cell_type": "code",
      "execution_count": null,
      "metadata": {
        "colab": {
          "base_uri": "https://localhost:8080/"
        },
        "id": "hhhByfoGg4FY",
        "outputId": "94cbf348-05f0-4574-d598-7f6204e33626"
      },
      "outputs": [
        {
          "data": {
            "text/plain": [
              "2021"
            ]
          },
          "execution_count": 27,
          "metadata": {
            "tags": []
          },
          "output_type": "execute_result"
        }
      ],
      "source": [
        "now.year"
      ]
    },
    {
      "cell_type": "code",
      "execution_count": null,
      "metadata": {
        "id": "3Xljs9wlZ9u0"
      },
      "outputs": [],
      "source": [
        "class car:\n",
        " \n",
        "  base_price = 10000 ##class variable\n",
        "  def __init__(self, windows, doors, power):\n",
        "    self.windows = windows\n",
        "    self.doors = doors\n",
        "    self.power = power\n",
        "\n",
        "  def what_base_price(self):\n",
        "    print('The base price is {}'.format(self.base_price))\n",
        "\n",
        "  @classmethod\n",
        "  def revise_base_price(cls, inflation):\n",
        "      cls.base_price = cls.base_price + cls.base_price*inflation \n",
        "\n",
        "  @staticmethod\n",
        "  def check_year():\n",
        "    if now.year == 2021:\n",
        "      return True\n",
        "    else:\n",
        "      return False\n",
        "     "
      ]
    },
    {
      "cell_type": "code",
      "execution_count": null,
      "metadata": {
        "id": "NJKcRhf2ilY9"
      },
      "outputs": [],
      "source": [
        "car1= car(4,5,2000)"
      ]
    },
    {
      "cell_type": "code",
      "execution_count": null,
      "metadata": {
        "id": "nZxEVP95iuKJ"
      },
      "outputs": [],
      "source": [
        "if ((car1.check_year())):\n",
        "  pass\n",
        "else:\n",
        "  car.revise_base_price()"
      ]
    },
    {
      "cell_type": "code",
      "execution_count": null,
      "metadata": {
        "colab": {
          "base_uri": "https://localhost:8080/"
        },
        "id": "Jhb4u3rfi7l0",
        "outputId": "3cabbf6b-5362-4b65-e342-de9c10962d01"
      },
      "outputs": [
        {
          "data": {
            "text/plain": [
              "121000.0"
            ]
          },
          "execution_count": 35,
          "metadata": {
            "tags": []
          },
          "output_type": "execute_result"
        }
      ],
      "source": [
        "car.revise_base_price(0.10)\n",
        "car1.base_price"
      ]
    },
    {
      "cell_type": "code",
      "execution_count": null,
      "metadata": {
        "colab": {
          "base_uri": "https://localhost:8080/"
        },
        "id": "_huBduBZhIX8",
        "outputId": "2758c4e1-3412-435e-b402-60887cf97ddc"
      },
      "outputs": [
        {
          "data": {
            "text/plain": [
              "True"
            ]
          },
          "execution_count": 29,
          "metadata": {
            "tags": []
          },
          "output_type": "execute_result"
        }
      ],
      "source": [
        "car.check_year()"
      ]
    },
    {
      "cell_type": "code",
      "execution_count": null,
      "metadata": {
        "colab": {
          "base_uri": "https://localhost:8080/"
        },
        "id": "0db6WmsQbaMX",
        "outputId": "9508e738-6d67-419a-f62e-6a7cf21cae1d"
      },
      "outputs": [
        {
          "data": {
            "text/plain": [
              "110000.0"
            ]
          },
          "execution_count": 18,
          "metadata": {
            "tags": []
          },
          "output_type": "execute_result"
        }
      ],
      "source": [
        "car.revise_base_price(0.10)\n",
        "car.base_price"
      ]
    },
    {
      "cell_type": "code",
      "execution_count": null,
      "metadata": {
        "colab": {
          "base_uri": "https://localhost:8080/"
        },
        "id": "x8odBamMY6Rx",
        "outputId": "f221d1c1-f43e-4145-fc12-1c9f4aef5035"
      },
      "outputs": [
        {
          "data": {
            "text/plain": [
              "110000.0"
            ]
          },
          "execution_count": 19,
          "metadata": {
            "tags": []
          },
          "output_type": "execute_result"
        }
      ],
      "source": [
        "car1 = car(4,5,2000)\n",
        "car1.base_price"
      ]
    },
    {
      "cell_type": "code",
      "execution_count": null,
      "metadata": {
        "colab": {
          "base_uri": "https://localhost:8080/"
        },
        "id": "Wtzv3qD8ZxDN",
        "outputId": "2937c766-f84a-4117-e7a6-f81f3181269b"
      },
      "outputs": [
        {
          "data": {
            "text/plain": [
              "110000.0"
            ]
          },
          "execution_count": 20,
          "metadata": {
            "tags": []
          },
          "output_type": "execute_result"
        }
      ],
      "source": [
        "car.base_price"
      ]
    },
    {
      "cell_type": "code",
      "execution_count": null,
      "metadata": {
        "id": "nC007I08Zz0v"
      },
      "outputs": [],
      "source": []
    }
  ],
  "metadata": {
    "colab": {
      "collapsed_sections": [],
      "name": "class_method",
      "provenance": []
    },
    "kernelspec": {
      "display_name": "Python 3",
      "name": "python3"
    },
    "language_info": {
      "name": "python"
    }
  },
  "nbformat": 4,
  "nbformat_minor": 0
}
